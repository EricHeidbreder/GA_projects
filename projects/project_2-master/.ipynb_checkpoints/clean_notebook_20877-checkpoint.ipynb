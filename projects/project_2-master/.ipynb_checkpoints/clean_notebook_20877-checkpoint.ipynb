{
 "cells": [
  {
   "cell_type": "code",
   "execution_count": 1,
   "metadata": {},
   "outputs": [],
   "source": [
    "import time\n",
    "import pandas as pd\n",
    "import numpy as np\n",
    "import matplotlib.pyplot as plt\n",
    "import seaborn as sns\n",
    "from itertools import chain # Pradeep Elance https://www.tutorialspoint.com/append-multiple-lists-at-once-in-python\n",
    "from sklearn.linear_model import LinearRegression\n",
    "from sklearn.model_selection import train_test_split, cross_val_score\n",
    "from sklearn import metrics\n",
    "from sklearn.preprocessing import StandardScaler, PolynomialFeatures\n",
    "from sklearn.impute import SimpleImputer"
   ]
  },
  {
   "cell_type": "code",
   "execution_count": 2,
   "metadata": {},
   "outputs": [],
   "source": [
    "houses_train = pd.read_csv('./datasets/train.csv')\n",
    "houses_test = pd.read_csv('./datasets/test.csv')"
   ]
  },
  {
   "cell_type": "markdown",
   "metadata": {},
   "source": [
    "## Exploring the Data"
   ]
  },
  {
   "cell_type": "code",
   "execution_count": 3,
   "metadata": {},
   "outputs": [
    {
     "data": {
      "text/html": [
       "<div>\n",
       "<style scoped>\n",
       "    .dataframe tbody tr th:only-of-type {\n",
       "        vertical-align: middle;\n",
       "    }\n",
       "\n",
       "    .dataframe tbody tr th {\n",
       "        vertical-align: top;\n",
       "    }\n",
       "\n",
       "    .dataframe thead th {\n",
       "        text-align: right;\n",
       "    }\n",
       "</style>\n",
       "<table border=\"1\" class=\"dataframe\">\n",
       "  <thead>\n",
       "    <tr style=\"text-align: right;\">\n",
       "      <th></th>\n",
       "      <th>Id</th>\n",
       "      <th>PID</th>\n",
       "      <th>MS SubClass</th>\n",
       "      <th>MS Zoning</th>\n",
       "      <th>Lot Frontage</th>\n",
       "      <th>Lot Area</th>\n",
       "      <th>Street</th>\n",
       "      <th>Alley</th>\n",
       "      <th>Lot Shape</th>\n",
       "      <th>Land Contour</th>\n",
       "      <th>Utilities</th>\n",
       "      <th>Lot Config</th>\n",
       "      <th>Land Slope</th>\n",
       "      <th>Neighborhood</th>\n",
       "      <th>Condition 1</th>\n",
       "      <th>Condition 2</th>\n",
       "      <th>Bldg Type</th>\n",
       "      <th>House Style</th>\n",
       "      <th>Overall Qual</th>\n",
       "      <th>Overall Cond</th>\n",
       "      <th>Year Built</th>\n",
       "      <th>Year Remod/Add</th>\n",
       "      <th>Roof Style</th>\n",
       "      <th>Roof Matl</th>\n",
       "      <th>Exterior 1st</th>\n",
       "      <th>Exterior 2nd</th>\n",
       "      <th>Mas Vnr Type</th>\n",
       "      <th>Mas Vnr Area</th>\n",
       "      <th>Exter Qual</th>\n",
       "      <th>Exter Cond</th>\n",
       "      <th>Foundation</th>\n",
       "      <th>Bsmt Qual</th>\n",
       "      <th>Bsmt Cond</th>\n",
       "      <th>Bsmt Exposure</th>\n",
       "      <th>BsmtFin Type 1</th>\n",
       "      <th>BsmtFin SF 1</th>\n",
       "      <th>BsmtFin Type 2</th>\n",
       "      <th>BsmtFin SF 2</th>\n",
       "      <th>Bsmt Unf SF</th>\n",
       "      <th>Total Bsmt SF</th>\n",
       "      <th>Heating</th>\n",
       "      <th>Heating QC</th>\n",
       "      <th>Central Air</th>\n",
       "      <th>Electrical</th>\n",
       "      <th>1st Flr SF</th>\n",
       "      <th>2nd Flr SF</th>\n",
       "      <th>Low Qual Fin SF</th>\n",
       "      <th>Gr Liv Area</th>\n",
       "      <th>Bsmt Full Bath</th>\n",
       "      <th>Bsmt Half Bath</th>\n",
       "      <th>Full Bath</th>\n",
       "      <th>Half Bath</th>\n",
       "      <th>Bedroom AbvGr</th>\n",
       "      <th>Kitchen AbvGr</th>\n",
       "      <th>Kitchen Qual</th>\n",
       "      <th>TotRms AbvGrd</th>\n",
       "      <th>Functional</th>\n",
       "      <th>Fireplaces</th>\n",
       "      <th>Fireplace Qu</th>\n",
       "      <th>Garage Type</th>\n",
       "      <th>Garage Yr Blt</th>\n",
       "      <th>Garage Finish</th>\n",
       "      <th>Garage Cars</th>\n",
       "      <th>Garage Area</th>\n",
       "      <th>Garage Qual</th>\n",
       "      <th>Garage Cond</th>\n",
       "      <th>Paved Drive</th>\n",
       "      <th>Wood Deck SF</th>\n",
       "      <th>Open Porch SF</th>\n",
       "      <th>Enclosed Porch</th>\n",
       "      <th>3Ssn Porch</th>\n",
       "      <th>Screen Porch</th>\n",
       "      <th>Pool Area</th>\n",
       "      <th>Pool QC</th>\n",
       "      <th>Fence</th>\n",
       "      <th>Misc Feature</th>\n",
       "      <th>Misc Val</th>\n",
       "      <th>Mo Sold</th>\n",
       "      <th>Yr Sold</th>\n",
       "      <th>Sale Type</th>\n",
       "      <th>SalePrice</th>\n",
       "    </tr>\n",
       "  </thead>\n",
       "  <tbody>\n",
       "    <tr>\n",
       "      <th>0</th>\n",
       "      <td>109</td>\n",
       "      <td>533352170</td>\n",
       "      <td>60</td>\n",
       "      <td>RL</td>\n",
       "      <td>NaN</td>\n",
       "      <td>13517</td>\n",
       "      <td>Pave</td>\n",
       "      <td>NaN</td>\n",
       "      <td>IR1</td>\n",
       "      <td>Lvl</td>\n",
       "      <td>AllPub</td>\n",
       "      <td>CulDSac</td>\n",
       "      <td>Gtl</td>\n",
       "      <td>Sawyer</td>\n",
       "      <td>RRAe</td>\n",
       "      <td>Norm</td>\n",
       "      <td>1Fam</td>\n",
       "      <td>2Story</td>\n",
       "      <td>6</td>\n",
       "      <td>8</td>\n",
       "      <td>1976</td>\n",
       "      <td>2005</td>\n",
       "      <td>Gable</td>\n",
       "      <td>CompShg</td>\n",
       "      <td>HdBoard</td>\n",
       "      <td>Plywood</td>\n",
       "      <td>BrkFace</td>\n",
       "      <td>289.0</td>\n",
       "      <td>Gd</td>\n",
       "      <td>TA</td>\n",
       "      <td>CBlock</td>\n",
       "      <td>TA</td>\n",
       "      <td>TA</td>\n",
       "      <td>No</td>\n",
       "      <td>GLQ</td>\n",
       "      <td>533.0</td>\n",
       "      <td>Unf</td>\n",
       "      <td>0.0</td>\n",
       "      <td>192.0</td>\n",
       "      <td>725.0</td>\n",
       "      <td>GasA</td>\n",
       "      <td>Ex</td>\n",
       "      <td>Y</td>\n",
       "      <td>SBrkr</td>\n",
       "      <td>725</td>\n",
       "      <td>754</td>\n",
       "      <td>0</td>\n",
       "      <td>1479</td>\n",
       "      <td>0.0</td>\n",
       "      <td>0.0</td>\n",
       "      <td>2</td>\n",
       "      <td>1</td>\n",
       "      <td>3</td>\n",
       "      <td>1</td>\n",
       "      <td>Gd</td>\n",
       "      <td>6</td>\n",
       "      <td>Typ</td>\n",
       "      <td>0</td>\n",
       "      <td>NaN</td>\n",
       "      <td>Attchd</td>\n",
       "      <td>1976.0</td>\n",
       "      <td>RFn</td>\n",
       "      <td>2.0</td>\n",
       "      <td>475.0</td>\n",
       "      <td>TA</td>\n",
       "      <td>TA</td>\n",
       "      <td>Y</td>\n",
       "      <td>0</td>\n",
       "      <td>44</td>\n",
       "      <td>0</td>\n",
       "      <td>0</td>\n",
       "      <td>0</td>\n",
       "      <td>0</td>\n",
       "      <td>NaN</td>\n",
       "      <td>NaN</td>\n",
       "      <td>NaN</td>\n",
       "      <td>0</td>\n",
       "      <td>3</td>\n",
       "      <td>2010</td>\n",
       "      <td>WD</td>\n",
       "      <td>130500</td>\n",
       "    </tr>\n",
       "    <tr>\n",
       "      <th>1</th>\n",
       "      <td>544</td>\n",
       "      <td>531379050</td>\n",
       "      <td>60</td>\n",
       "      <td>RL</td>\n",
       "      <td>43.0</td>\n",
       "      <td>11492</td>\n",
       "      <td>Pave</td>\n",
       "      <td>NaN</td>\n",
       "      <td>IR1</td>\n",
       "      <td>Lvl</td>\n",
       "      <td>AllPub</td>\n",
       "      <td>CulDSac</td>\n",
       "      <td>Gtl</td>\n",
       "      <td>SawyerW</td>\n",
       "      <td>Norm</td>\n",
       "      <td>Norm</td>\n",
       "      <td>1Fam</td>\n",
       "      <td>2Story</td>\n",
       "      <td>7</td>\n",
       "      <td>5</td>\n",
       "      <td>1996</td>\n",
       "      <td>1997</td>\n",
       "      <td>Gable</td>\n",
       "      <td>CompShg</td>\n",
       "      <td>VinylSd</td>\n",
       "      <td>VinylSd</td>\n",
       "      <td>BrkFace</td>\n",
       "      <td>132.0</td>\n",
       "      <td>Gd</td>\n",
       "      <td>TA</td>\n",
       "      <td>PConc</td>\n",
       "      <td>Gd</td>\n",
       "      <td>TA</td>\n",
       "      <td>No</td>\n",
       "      <td>GLQ</td>\n",
       "      <td>637.0</td>\n",
       "      <td>Unf</td>\n",
       "      <td>0.0</td>\n",
       "      <td>276.0</td>\n",
       "      <td>913.0</td>\n",
       "      <td>GasA</td>\n",
       "      <td>Ex</td>\n",
       "      <td>Y</td>\n",
       "      <td>SBrkr</td>\n",
       "      <td>913</td>\n",
       "      <td>1209</td>\n",
       "      <td>0</td>\n",
       "      <td>2122</td>\n",
       "      <td>1.0</td>\n",
       "      <td>0.0</td>\n",
       "      <td>2</td>\n",
       "      <td>1</td>\n",
       "      <td>4</td>\n",
       "      <td>1</td>\n",
       "      <td>Gd</td>\n",
       "      <td>8</td>\n",
       "      <td>Typ</td>\n",
       "      <td>1</td>\n",
       "      <td>TA</td>\n",
       "      <td>Attchd</td>\n",
       "      <td>1997.0</td>\n",
       "      <td>RFn</td>\n",
       "      <td>2.0</td>\n",
       "      <td>559.0</td>\n",
       "      <td>TA</td>\n",
       "      <td>TA</td>\n",
       "      <td>Y</td>\n",
       "      <td>0</td>\n",
       "      <td>74</td>\n",
       "      <td>0</td>\n",
       "      <td>0</td>\n",
       "      <td>0</td>\n",
       "      <td>0</td>\n",
       "      <td>NaN</td>\n",
       "      <td>NaN</td>\n",
       "      <td>NaN</td>\n",
       "      <td>0</td>\n",
       "      <td>4</td>\n",
       "      <td>2009</td>\n",
       "      <td>WD</td>\n",
       "      <td>220000</td>\n",
       "    </tr>\n",
       "    <tr>\n",
       "      <th>2</th>\n",
       "      <td>153</td>\n",
       "      <td>535304180</td>\n",
       "      <td>20</td>\n",
       "      <td>RL</td>\n",
       "      <td>68.0</td>\n",
       "      <td>7922</td>\n",
       "      <td>Pave</td>\n",
       "      <td>NaN</td>\n",
       "      <td>Reg</td>\n",
       "      <td>Lvl</td>\n",
       "      <td>AllPub</td>\n",
       "      <td>Inside</td>\n",
       "      <td>Gtl</td>\n",
       "      <td>NAmes</td>\n",
       "      <td>Norm</td>\n",
       "      <td>Norm</td>\n",
       "      <td>1Fam</td>\n",
       "      <td>1Story</td>\n",
       "      <td>5</td>\n",
       "      <td>7</td>\n",
       "      <td>1953</td>\n",
       "      <td>2007</td>\n",
       "      <td>Gable</td>\n",
       "      <td>CompShg</td>\n",
       "      <td>VinylSd</td>\n",
       "      <td>VinylSd</td>\n",
       "      <td>None</td>\n",
       "      <td>0.0</td>\n",
       "      <td>TA</td>\n",
       "      <td>Gd</td>\n",
       "      <td>CBlock</td>\n",
       "      <td>TA</td>\n",
       "      <td>TA</td>\n",
       "      <td>No</td>\n",
       "      <td>GLQ</td>\n",
       "      <td>731.0</td>\n",
       "      <td>Unf</td>\n",
       "      <td>0.0</td>\n",
       "      <td>326.0</td>\n",
       "      <td>1057.0</td>\n",
       "      <td>GasA</td>\n",
       "      <td>TA</td>\n",
       "      <td>Y</td>\n",
       "      <td>SBrkr</td>\n",
       "      <td>1057</td>\n",
       "      <td>0</td>\n",
       "      <td>0</td>\n",
       "      <td>1057</td>\n",
       "      <td>1.0</td>\n",
       "      <td>0.0</td>\n",
       "      <td>1</td>\n",
       "      <td>0</td>\n",
       "      <td>3</td>\n",
       "      <td>1</td>\n",
       "      <td>Gd</td>\n",
       "      <td>5</td>\n",
       "      <td>Typ</td>\n",
       "      <td>0</td>\n",
       "      <td>NaN</td>\n",
       "      <td>Detchd</td>\n",
       "      <td>1953.0</td>\n",
       "      <td>Unf</td>\n",
       "      <td>1.0</td>\n",
       "      <td>246.0</td>\n",
       "      <td>TA</td>\n",
       "      <td>TA</td>\n",
       "      <td>Y</td>\n",
       "      <td>0</td>\n",
       "      <td>52</td>\n",
       "      <td>0</td>\n",
       "      <td>0</td>\n",
       "      <td>0</td>\n",
       "      <td>0</td>\n",
       "      <td>NaN</td>\n",
       "      <td>NaN</td>\n",
       "      <td>NaN</td>\n",
       "      <td>0</td>\n",
       "      <td>1</td>\n",
       "      <td>2010</td>\n",
       "      <td>WD</td>\n",
       "      <td>109000</td>\n",
       "    </tr>\n",
       "  </tbody>\n",
       "</table>\n",
       "</div>"
      ],
      "text/plain": [
       "    Id        PID  MS SubClass MS Zoning  Lot Frontage  Lot Area Street Alley  \\\n",
       "0  109  533352170           60        RL           NaN     13517   Pave   NaN   \n",
       "1  544  531379050           60        RL          43.0     11492   Pave   NaN   \n",
       "2  153  535304180           20        RL          68.0      7922   Pave   NaN   \n",
       "\n",
       "  Lot Shape Land Contour Utilities Lot Config Land Slope Neighborhood  \\\n",
       "0       IR1          Lvl    AllPub    CulDSac        Gtl       Sawyer   \n",
       "1       IR1          Lvl    AllPub    CulDSac        Gtl      SawyerW   \n",
       "2       Reg          Lvl    AllPub     Inside        Gtl        NAmes   \n",
       "\n",
       "  Condition 1 Condition 2 Bldg Type House Style  Overall Qual  Overall Cond  \\\n",
       "0        RRAe        Norm      1Fam      2Story             6             8   \n",
       "1        Norm        Norm      1Fam      2Story             7             5   \n",
       "2        Norm        Norm      1Fam      1Story             5             7   \n",
       "\n",
       "   Year Built  Year Remod/Add Roof Style Roof Matl Exterior 1st Exterior 2nd  \\\n",
       "0        1976            2005      Gable   CompShg      HdBoard      Plywood   \n",
       "1        1996            1997      Gable   CompShg      VinylSd      VinylSd   \n",
       "2        1953            2007      Gable   CompShg      VinylSd      VinylSd   \n",
       "\n",
       "  Mas Vnr Type  Mas Vnr Area Exter Qual Exter Cond Foundation Bsmt Qual  \\\n",
       "0      BrkFace         289.0         Gd         TA     CBlock        TA   \n",
       "1      BrkFace         132.0         Gd         TA      PConc        Gd   \n",
       "2         None           0.0         TA         Gd     CBlock        TA   \n",
       "\n",
       "  Bsmt Cond Bsmt Exposure BsmtFin Type 1  BsmtFin SF 1 BsmtFin Type 2  \\\n",
       "0        TA            No            GLQ         533.0            Unf   \n",
       "1        TA            No            GLQ         637.0            Unf   \n",
       "2        TA            No            GLQ         731.0            Unf   \n",
       "\n",
       "   BsmtFin SF 2  Bsmt Unf SF  Total Bsmt SF Heating Heating QC Central Air  \\\n",
       "0           0.0        192.0          725.0    GasA         Ex           Y   \n",
       "1           0.0        276.0          913.0    GasA         Ex           Y   \n",
       "2           0.0        326.0         1057.0    GasA         TA           Y   \n",
       "\n",
       "  Electrical  1st Flr SF  2nd Flr SF  Low Qual Fin SF  Gr Liv Area  \\\n",
       "0      SBrkr         725         754                0         1479   \n",
       "1      SBrkr         913        1209                0         2122   \n",
       "2      SBrkr        1057           0                0         1057   \n",
       "\n",
       "   Bsmt Full Bath  Bsmt Half Bath  Full Bath  Half Bath  Bedroom AbvGr  \\\n",
       "0             0.0             0.0          2          1              3   \n",
       "1             1.0             0.0          2          1              4   \n",
       "2             1.0             0.0          1          0              3   \n",
       "\n",
       "   Kitchen AbvGr Kitchen Qual  TotRms AbvGrd Functional  Fireplaces  \\\n",
       "0              1           Gd              6        Typ           0   \n",
       "1              1           Gd              8        Typ           1   \n",
       "2              1           Gd              5        Typ           0   \n",
       "\n",
       "  Fireplace Qu Garage Type  Garage Yr Blt Garage Finish  Garage Cars  \\\n",
       "0          NaN      Attchd         1976.0           RFn          2.0   \n",
       "1           TA      Attchd         1997.0           RFn          2.0   \n",
       "2          NaN      Detchd         1953.0           Unf          1.0   \n",
       "\n",
       "   Garage Area Garage Qual Garage Cond Paved Drive  Wood Deck SF  \\\n",
       "0        475.0          TA          TA           Y             0   \n",
       "1        559.0          TA          TA           Y             0   \n",
       "2        246.0          TA          TA           Y             0   \n",
       "\n",
       "   Open Porch SF  Enclosed Porch  3Ssn Porch  Screen Porch  Pool Area Pool QC  \\\n",
       "0             44               0           0             0          0     NaN   \n",
       "1             74               0           0             0          0     NaN   \n",
       "2             52               0           0             0          0     NaN   \n",
       "\n",
       "  Fence Misc Feature  Misc Val  Mo Sold  Yr Sold Sale Type  SalePrice  \n",
       "0   NaN          NaN         0        3     2010       WD      130500  \n",
       "1   NaN          NaN         0        4     2009       WD      220000  \n",
       "2   NaN          NaN         0        1     2010       WD      109000  "
      ]
     },
     "execution_count": 3,
     "metadata": {},
     "output_type": "execute_result"
    }
   ],
   "source": [
    "pd.set_option('display.max_columns', None)\n",
    "pd.set_option('display.max_rows', 100)\n",
    "houses_train.head(3)"
   ]
  },
  {
   "cell_type": "code",
   "execution_count": 4,
   "metadata": {},
   "outputs": [
    {
     "data": {
      "text/html": [
       "<div>\n",
       "<style scoped>\n",
       "    .dataframe tbody tr th:only-of-type {\n",
       "        vertical-align: middle;\n",
       "    }\n",
       "\n",
       "    .dataframe tbody tr th {\n",
       "        vertical-align: top;\n",
       "    }\n",
       "\n",
       "    .dataframe thead th {\n",
       "        text-align: right;\n",
       "    }\n",
       "</style>\n",
       "<table border=\"1\" class=\"dataframe\">\n",
       "  <thead>\n",
       "    <tr style=\"text-align: right;\">\n",
       "      <th></th>\n",
       "      <th>Id</th>\n",
       "      <th>PID</th>\n",
       "      <th>MS SubClass</th>\n",
       "      <th>Lot Frontage</th>\n",
       "      <th>Lot Area</th>\n",
       "      <th>Overall Qual</th>\n",
       "      <th>Overall Cond</th>\n",
       "      <th>Year Built</th>\n",
       "      <th>Year Remod/Add</th>\n",
       "      <th>Mas Vnr Area</th>\n",
       "      <th>BsmtFin SF 1</th>\n",
       "      <th>BsmtFin SF 2</th>\n",
       "      <th>Bsmt Unf SF</th>\n",
       "      <th>Total Bsmt SF</th>\n",
       "      <th>1st Flr SF</th>\n",
       "      <th>2nd Flr SF</th>\n",
       "      <th>Low Qual Fin SF</th>\n",
       "      <th>Gr Liv Area</th>\n",
       "      <th>Bsmt Full Bath</th>\n",
       "      <th>Bsmt Half Bath</th>\n",
       "      <th>Full Bath</th>\n",
       "      <th>Half Bath</th>\n",
       "      <th>Bedroom AbvGr</th>\n",
       "      <th>Kitchen AbvGr</th>\n",
       "      <th>TotRms AbvGrd</th>\n",
       "      <th>Fireplaces</th>\n",
       "      <th>Garage Yr Blt</th>\n",
       "      <th>Garage Cars</th>\n",
       "      <th>Garage Area</th>\n",
       "      <th>Wood Deck SF</th>\n",
       "      <th>Open Porch SF</th>\n",
       "      <th>Enclosed Porch</th>\n",
       "      <th>3Ssn Porch</th>\n",
       "      <th>Screen Porch</th>\n",
       "      <th>Pool Area</th>\n",
       "      <th>Misc Val</th>\n",
       "      <th>Mo Sold</th>\n",
       "      <th>Yr Sold</th>\n",
       "      <th>SalePrice</th>\n",
       "    </tr>\n",
       "  </thead>\n",
       "  <tbody>\n",
       "    <tr>\n",
       "      <th>count</th>\n",
       "      <td>2051.000000</td>\n",
       "      <td>2.051000e+03</td>\n",
       "      <td>2051.000000</td>\n",
       "      <td>1721.000000</td>\n",
       "      <td>2051.000000</td>\n",
       "      <td>2051.000000</td>\n",
       "      <td>2051.000000</td>\n",
       "      <td>2051.000000</td>\n",
       "      <td>2051.000000</td>\n",
       "      <td>2029.000000</td>\n",
       "      <td>2050.000000</td>\n",
       "      <td>2050.000000</td>\n",
       "      <td>2050.000000</td>\n",
       "      <td>2050.000000</td>\n",
       "      <td>2051.000000</td>\n",
       "      <td>2051.000000</td>\n",
       "      <td>2051.000000</td>\n",
       "      <td>2051.000000</td>\n",
       "      <td>2049.000000</td>\n",
       "      <td>2049.000000</td>\n",
       "      <td>2051.000000</td>\n",
       "      <td>2051.000000</td>\n",
       "      <td>2051.000000</td>\n",
       "      <td>2051.000000</td>\n",
       "      <td>2051.000000</td>\n",
       "      <td>2051.000000</td>\n",
       "      <td>1937.000000</td>\n",
       "      <td>2050.000000</td>\n",
       "      <td>2050.000000</td>\n",
       "      <td>2051.000000</td>\n",
       "      <td>2051.000000</td>\n",
       "      <td>2051.000000</td>\n",
       "      <td>2051.000000</td>\n",
       "      <td>2051.000000</td>\n",
       "      <td>2051.000000</td>\n",
       "      <td>2051.000000</td>\n",
       "      <td>2051.000000</td>\n",
       "      <td>2051.000000</td>\n",
       "      <td>2051.000000</td>\n",
       "    </tr>\n",
       "    <tr>\n",
       "      <th>mean</th>\n",
       "      <td>1474.033642</td>\n",
       "      <td>7.135900e+08</td>\n",
       "      <td>57.008776</td>\n",
       "      <td>69.055200</td>\n",
       "      <td>10065.208191</td>\n",
       "      <td>6.112140</td>\n",
       "      <td>5.562165</td>\n",
       "      <td>1971.708922</td>\n",
       "      <td>1984.190151</td>\n",
       "      <td>99.695909</td>\n",
       "      <td>442.300488</td>\n",
       "      <td>47.959024</td>\n",
       "      <td>567.728293</td>\n",
       "      <td>1057.987805</td>\n",
       "      <td>1164.488055</td>\n",
       "      <td>329.329108</td>\n",
       "      <td>5.512921</td>\n",
       "      <td>1499.330083</td>\n",
       "      <td>0.427526</td>\n",
       "      <td>0.063446</td>\n",
       "      <td>1.577279</td>\n",
       "      <td>0.371039</td>\n",
       "      <td>2.843491</td>\n",
       "      <td>1.042906</td>\n",
       "      <td>6.435885</td>\n",
       "      <td>0.590931</td>\n",
       "      <td>1978.707796</td>\n",
       "      <td>1.776585</td>\n",
       "      <td>473.671707</td>\n",
       "      <td>93.833740</td>\n",
       "      <td>47.556802</td>\n",
       "      <td>22.571916</td>\n",
       "      <td>2.591419</td>\n",
       "      <td>16.511458</td>\n",
       "      <td>2.397855</td>\n",
       "      <td>51.574354</td>\n",
       "      <td>6.219893</td>\n",
       "      <td>2007.775719</td>\n",
       "      <td>181469.701609</td>\n",
       "    </tr>\n",
       "    <tr>\n",
       "      <th>std</th>\n",
       "      <td>843.980841</td>\n",
       "      <td>1.886918e+08</td>\n",
       "      <td>42.824223</td>\n",
       "      <td>23.260653</td>\n",
       "      <td>6742.488909</td>\n",
       "      <td>1.426271</td>\n",
       "      <td>1.104497</td>\n",
       "      <td>30.177889</td>\n",
       "      <td>21.036250</td>\n",
       "      <td>174.963129</td>\n",
       "      <td>461.204124</td>\n",
       "      <td>165.000901</td>\n",
       "      <td>444.954786</td>\n",
       "      <td>449.410704</td>\n",
       "      <td>396.446923</td>\n",
       "      <td>425.671046</td>\n",
       "      <td>51.068870</td>\n",
       "      <td>500.447829</td>\n",
       "      <td>0.522673</td>\n",
       "      <td>0.251705</td>\n",
       "      <td>0.549279</td>\n",
       "      <td>0.501043</td>\n",
       "      <td>0.826618</td>\n",
       "      <td>0.209790</td>\n",
       "      <td>1.560225</td>\n",
       "      <td>0.638516</td>\n",
       "      <td>25.441094</td>\n",
       "      <td>0.764537</td>\n",
       "      <td>215.934561</td>\n",
       "      <td>128.549416</td>\n",
       "      <td>66.747241</td>\n",
       "      <td>59.845110</td>\n",
       "      <td>25.229615</td>\n",
       "      <td>57.374204</td>\n",
       "      <td>37.782570</td>\n",
       "      <td>573.393985</td>\n",
       "      <td>2.744736</td>\n",
       "      <td>1.312014</td>\n",
       "      <td>79258.659352</td>\n",
       "    </tr>\n",
       "    <tr>\n",
       "      <th>min</th>\n",
       "      <td>1.000000</td>\n",
       "      <td>5.263011e+08</td>\n",
       "      <td>20.000000</td>\n",
       "      <td>21.000000</td>\n",
       "      <td>1300.000000</td>\n",
       "      <td>1.000000</td>\n",
       "      <td>1.000000</td>\n",
       "      <td>1872.000000</td>\n",
       "      <td>1950.000000</td>\n",
       "      <td>0.000000</td>\n",
       "      <td>0.000000</td>\n",
       "      <td>0.000000</td>\n",
       "      <td>0.000000</td>\n",
       "      <td>0.000000</td>\n",
       "      <td>334.000000</td>\n",
       "      <td>0.000000</td>\n",
       "      <td>0.000000</td>\n",
       "      <td>334.000000</td>\n",
       "      <td>0.000000</td>\n",
       "      <td>0.000000</td>\n",
       "      <td>0.000000</td>\n",
       "      <td>0.000000</td>\n",
       "      <td>0.000000</td>\n",
       "      <td>0.000000</td>\n",
       "      <td>2.000000</td>\n",
       "      <td>0.000000</td>\n",
       "      <td>1895.000000</td>\n",
       "      <td>0.000000</td>\n",
       "      <td>0.000000</td>\n",
       "      <td>0.000000</td>\n",
       "      <td>0.000000</td>\n",
       "      <td>0.000000</td>\n",
       "      <td>0.000000</td>\n",
       "      <td>0.000000</td>\n",
       "      <td>0.000000</td>\n",
       "      <td>0.000000</td>\n",
       "      <td>1.000000</td>\n",
       "      <td>2006.000000</td>\n",
       "      <td>12789.000000</td>\n",
       "    </tr>\n",
       "    <tr>\n",
       "      <th>25%</th>\n",
       "      <td>753.500000</td>\n",
       "      <td>5.284581e+08</td>\n",
       "      <td>20.000000</td>\n",
       "      <td>58.000000</td>\n",
       "      <td>7500.000000</td>\n",
       "      <td>5.000000</td>\n",
       "      <td>5.000000</td>\n",
       "      <td>1953.500000</td>\n",
       "      <td>1964.500000</td>\n",
       "      <td>0.000000</td>\n",
       "      <td>0.000000</td>\n",
       "      <td>0.000000</td>\n",
       "      <td>220.000000</td>\n",
       "      <td>793.000000</td>\n",
       "      <td>879.500000</td>\n",
       "      <td>0.000000</td>\n",
       "      <td>0.000000</td>\n",
       "      <td>1129.000000</td>\n",
       "      <td>0.000000</td>\n",
       "      <td>0.000000</td>\n",
       "      <td>1.000000</td>\n",
       "      <td>0.000000</td>\n",
       "      <td>2.000000</td>\n",
       "      <td>1.000000</td>\n",
       "      <td>5.000000</td>\n",
       "      <td>0.000000</td>\n",
       "      <td>1961.000000</td>\n",
       "      <td>1.000000</td>\n",
       "      <td>319.000000</td>\n",
       "      <td>0.000000</td>\n",
       "      <td>0.000000</td>\n",
       "      <td>0.000000</td>\n",
       "      <td>0.000000</td>\n",
       "      <td>0.000000</td>\n",
       "      <td>0.000000</td>\n",
       "      <td>0.000000</td>\n",
       "      <td>4.000000</td>\n",
       "      <td>2007.000000</td>\n",
       "      <td>129825.000000</td>\n",
       "    </tr>\n",
       "    <tr>\n",
       "      <th>50%</th>\n",
       "      <td>1486.000000</td>\n",
       "      <td>5.354532e+08</td>\n",
       "      <td>50.000000</td>\n",
       "      <td>68.000000</td>\n",
       "      <td>9430.000000</td>\n",
       "      <td>6.000000</td>\n",
       "      <td>5.000000</td>\n",
       "      <td>1974.000000</td>\n",
       "      <td>1993.000000</td>\n",
       "      <td>0.000000</td>\n",
       "      <td>368.000000</td>\n",
       "      <td>0.000000</td>\n",
       "      <td>474.500000</td>\n",
       "      <td>994.500000</td>\n",
       "      <td>1093.000000</td>\n",
       "      <td>0.000000</td>\n",
       "      <td>0.000000</td>\n",
       "      <td>1444.000000</td>\n",
       "      <td>0.000000</td>\n",
       "      <td>0.000000</td>\n",
       "      <td>2.000000</td>\n",
       "      <td>0.000000</td>\n",
       "      <td>3.000000</td>\n",
       "      <td>1.000000</td>\n",
       "      <td>6.000000</td>\n",
       "      <td>1.000000</td>\n",
       "      <td>1980.000000</td>\n",
       "      <td>2.000000</td>\n",
       "      <td>480.000000</td>\n",
       "      <td>0.000000</td>\n",
       "      <td>27.000000</td>\n",
       "      <td>0.000000</td>\n",
       "      <td>0.000000</td>\n",
       "      <td>0.000000</td>\n",
       "      <td>0.000000</td>\n",
       "      <td>0.000000</td>\n",
       "      <td>6.000000</td>\n",
       "      <td>2008.000000</td>\n",
       "      <td>162500.000000</td>\n",
       "    </tr>\n",
       "    <tr>\n",
       "      <th>75%</th>\n",
       "      <td>2198.000000</td>\n",
       "      <td>9.071801e+08</td>\n",
       "      <td>70.000000</td>\n",
       "      <td>80.000000</td>\n",
       "      <td>11513.500000</td>\n",
       "      <td>7.000000</td>\n",
       "      <td>6.000000</td>\n",
       "      <td>2001.000000</td>\n",
       "      <td>2004.000000</td>\n",
       "      <td>161.000000</td>\n",
       "      <td>733.750000</td>\n",
       "      <td>0.000000</td>\n",
       "      <td>811.000000</td>\n",
       "      <td>1318.750000</td>\n",
       "      <td>1405.000000</td>\n",
       "      <td>692.500000</td>\n",
       "      <td>0.000000</td>\n",
       "      <td>1728.500000</td>\n",
       "      <td>1.000000</td>\n",
       "      <td>0.000000</td>\n",
       "      <td>2.000000</td>\n",
       "      <td>1.000000</td>\n",
       "      <td>3.000000</td>\n",
       "      <td>1.000000</td>\n",
       "      <td>7.000000</td>\n",
       "      <td>1.000000</td>\n",
       "      <td>2002.000000</td>\n",
       "      <td>2.000000</td>\n",
       "      <td>576.000000</td>\n",
       "      <td>168.000000</td>\n",
       "      <td>70.000000</td>\n",
       "      <td>0.000000</td>\n",
       "      <td>0.000000</td>\n",
       "      <td>0.000000</td>\n",
       "      <td>0.000000</td>\n",
       "      <td>0.000000</td>\n",
       "      <td>8.000000</td>\n",
       "      <td>2009.000000</td>\n",
       "      <td>214000.000000</td>\n",
       "    </tr>\n",
       "    <tr>\n",
       "      <th>max</th>\n",
       "      <td>2930.000000</td>\n",
       "      <td>9.241520e+08</td>\n",
       "      <td>190.000000</td>\n",
       "      <td>313.000000</td>\n",
       "      <td>159000.000000</td>\n",
       "      <td>10.000000</td>\n",
       "      <td>9.000000</td>\n",
       "      <td>2010.000000</td>\n",
       "      <td>2010.000000</td>\n",
       "      <td>1600.000000</td>\n",
       "      <td>5644.000000</td>\n",
       "      <td>1474.000000</td>\n",
       "      <td>2336.000000</td>\n",
       "      <td>6110.000000</td>\n",
       "      <td>5095.000000</td>\n",
       "      <td>1862.000000</td>\n",
       "      <td>1064.000000</td>\n",
       "      <td>5642.000000</td>\n",
       "      <td>3.000000</td>\n",
       "      <td>2.000000</td>\n",
       "      <td>4.000000</td>\n",
       "      <td>2.000000</td>\n",
       "      <td>8.000000</td>\n",
       "      <td>3.000000</td>\n",
       "      <td>15.000000</td>\n",
       "      <td>4.000000</td>\n",
       "      <td>2207.000000</td>\n",
       "      <td>5.000000</td>\n",
       "      <td>1418.000000</td>\n",
       "      <td>1424.000000</td>\n",
       "      <td>547.000000</td>\n",
       "      <td>432.000000</td>\n",
       "      <td>508.000000</td>\n",
       "      <td>490.000000</td>\n",
       "      <td>800.000000</td>\n",
       "      <td>17000.000000</td>\n",
       "      <td>12.000000</td>\n",
       "      <td>2010.000000</td>\n",
       "      <td>611657.000000</td>\n",
       "    </tr>\n",
       "  </tbody>\n",
       "</table>\n",
       "</div>"
      ],
      "text/plain": [
       "                Id           PID  MS SubClass  Lot Frontage       Lot Area  \\\n",
       "count  2051.000000  2.051000e+03  2051.000000   1721.000000    2051.000000   \n",
       "mean   1474.033642  7.135900e+08    57.008776     69.055200   10065.208191   \n",
       "std     843.980841  1.886918e+08    42.824223     23.260653    6742.488909   \n",
       "min       1.000000  5.263011e+08    20.000000     21.000000    1300.000000   \n",
       "25%     753.500000  5.284581e+08    20.000000     58.000000    7500.000000   \n",
       "50%    1486.000000  5.354532e+08    50.000000     68.000000    9430.000000   \n",
       "75%    2198.000000  9.071801e+08    70.000000     80.000000   11513.500000   \n",
       "max    2930.000000  9.241520e+08   190.000000    313.000000  159000.000000   \n",
       "\n",
       "       Overall Qual  Overall Cond   Year Built  Year Remod/Add  Mas Vnr Area  \\\n",
       "count   2051.000000   2051.000000  2051.000000     2051.000000   2029.000000   \n",
       "mean       6.112140      5.562165  1971.708922     1984.190151     99.695909   \n",
       "std        1.426271      1.104497    30.177889       21.036250    174.963129   \n",
       "min        1.000000      1.000000  1872.000000     1950.000000      0.000000   \n",
       "25%        5.000000      5.000000  1953.500000     1964.500000      0.000000   \n",
       "50%        6.000000      5.000000  1974.000000     1993.000000      0.000000   \n",
       "75%        7.000000      6.000000  2001.000000     2004.000000    161.000000   \n",
       "max       10.000000      9.000000  2010.000000     2010.000000   1600.000000   \n",
       "\n",
       "       BsmtFin SF 1  BsmtFin SF 2  Bsmt Unf SF  Total Bsmt SF   1st Flr SF  \\\n",
       "count   2050.000000   2050.000000  2050.000000    2050.000000  2051.000000   \n",
       "mean     442.300488     47.959024   567.728293    1057.987805  1164.488055   \n",
       "std      461.204124    165.000901   444.954786     449.410704   396.446923   \n",
       "min        0.000000      0.000000     0.000000       0.000000   334.000000   \n",
       "25%        0.000000      0.000000   220.000000     793.000000   879.500000   \n",
       "50%      368.000000      0.000000   474.500000     994.500000  1093.000000   \n",
       "75%      733.750000      0.000000   811.000000    1318.750000  1405.000000   \n",
       "max     5644.000000   1474.000000  2336.000000    6110.000000  5095.000000   \n",
       "\n",
       "        2nd Flr SF  Low Qual Fin SF  Gr Liv Area  Bsmt Full Bath  \\\n",
       "count  2051.000000      2051.000000  2051.000000     2049.000000   \n",
       "mean    329.329108         5.512921  1499.330083        0.427526   \n",
       "std     425.671046        51.068870   500.447829        0.522673   \n",
       "min       0.000000         0.000000   334.000000        0.000000   \n",
       "25%       0.000000         0.000000  1129.000000        0.000000   \n",
       "50%       0.000000         0.000000  1444.000000        0.000000   \n",
       "75%     692.500000         0.000000  1728.500000        1.000000   \n",
       "max    1862.000000      1064.000000  5642.000000        3.000000   \n",
       "\n",
       "       Bsmt Half Bath    Full Bath    Half Bath  Bedroom AbvGr  Kitchen AbvGr  \\\n",
       "count     2049.000000  2051.000000  2051.000000    2051.000000    2051.000000   \n",
       "mean         0.063446     1.577279     0.371039       2.843491       1.042906   \n",
       "std          0.251705     0.549279     0.501043       0.826618       0.209790   \n",
       "min          0.000000     0.000000     0.000000       0.000000       0.000000   \n",
       "25%          0.000000     1.000000     0.000000       2.000000       1.000000   \n",
       "50%          0.000000     2.000000     0.000000       3.000000       1.000000   \n",
       "75%          0.000000     2.000000     1.000000       3.000000       1.000000   \n",
       "max          2.000000     4.000000     2.000000       8.000000       3.000000   \n",
       "\n",
       "       TotRms AbvGrd   Fireplaces  Garage Yr Blt  Garage Cars  Garage Area  \\\n",
       "count    2051.000000  2051.000000    1937.000000  2050.000000  2050.000000   \n",
       "mean        6.435885     0.590931    1978.707796     1.776585   473.671707   \n",
       "std         1.560225     0.638516      25.441094     0.764537   215.934561   \n",
       "min         2.000000     0.000000    1895.000000     0.000000     0.000000   \n",
       "25%         5.000000     0.000000    1961.000000     1.000000   319.000000   \n",
       "50%         6.000000     1.000000    1980.000000     2.000000   480.000000   \n",
       "75%         7.000000     1.000000    2002.000000     2.000000   576.000000   \n",
       "max        15.000000     4.000000    2207.000000     5.000000  1418.000000   \n",
       "\n",
       "       Wood Deck SF  Open Porch SF  Enclosed Porch   3Ssn Porch  Screen Porch  \\\n",
       "count   2051.000000    2051.000000     2051.000000  2051.000000   2051.000000   \n",
       "mean      93.833740      47.556802       22.571916     2.591419     16.511458   \n",
       "std      128.549416      66.747241       59.845110    25.229615     57.374204   \n",
       "min        0.000000       0.000000        0.000000     0.000000      0.000000   \n",
       "25%        0.000000       0.000000        0.000000     0.000000      0.000000   \n",
       "50%        0.000000      27.000000        0.000000     0.000000      0.000000   \n",
       "75%      168.000000      70.000000        0.000000     0.000000      0.000000   \n",
       "max     1424.000000     547.000000      432.000000   508.000000    490.000000   \n",
       "\n",
       "         Pool Area      Misc Val      Mo Sold      Yr Sold      SalePrice  \n",
       "count  2051.000000   2051.000000  2051.000000  2051.000000    2051.000000  \n",
       "mean      2.397855     51.574354     6.219893  2007.775719  181469.701609  \n",
       "std      37.782570    573.393985     2.744736     1.312014   79258.659352  \n",
       "min       0.000000      0.000000     1.000000  2006.000000   12789.000000  \n",
       "25%       0.000000      0.000000     4.000000  2007.000000  129825.000000  \n",
       "50%       0.000000      0.000000     6.000000  2008.000000  162500.000000  \n",
       "75%       0.000000      0.000000     8.000000  2009.000000  214000.000000  \n",
       "max     800.000000  17000.000000    12.000000  2010.000000  611657.000000  "
      ]
     },
     "execution_count": 4,
     "metadata": {},
     "output_type": "execute_result"
    }
   ],
   "source": [
    "houses_train.describe()"
   ]
  },
  {
   "cell_type": "code",
   "execution_count": 7,
   "metadata": {},
   "outputs": [
    {
     "data": {
      "text/plain": [
       "<matplotlib.collections.PathCollection at 0x24947687488>"
      ]
     },
     "execution_count": 7,
     "metadata": {},
     "output_type": "execute_result"
    },
    {
     "data": {
      "image/png": "[encoded data removed]",
      "text/plain": [
       "<Figure size 432x288 with 1 Axes>"
      ]
     },
     "metadata": {
      "needs_background": "light"
     },
     "output_type": "display_data"
    }
   ],
   "source": [
    "plt.scatter(houses_train['1st Flr SF'], houses_train['SalePrice']);\n",
    "plt.scatter(houses_train['Gr Liv Area'], houses_train['SalePrice'])"
   ]
  },
  {
   "cell_type": "code",
   "execution_count": 8,
   "metadata": {},
   "outputs": [
    {
     "data": {
      "image/png": "[encoded data removed]",
      "text/plain": [
       "<Figure size 648x648 with 1 Axes>"
      ]
     },
     "metadata": {
      "needs_background": "light"
     },
     "output_type": "display_data"
    }
   ],
   "source": [
    "plt.figure(figsize=(9, 9))\n",
    "plt.boxplot(houses_train['SalePrice'])\n",
    "plt.title('Distribution of Sales Prices');"
   ]
  },
  {
   "cell_type": "markdown",
   "metadata": {},
   "source": [
    "### Removing Outliers"
   ]
  },
  {
   "cell_type": "code",
   "execution_count": 10,
   "metadata": {},
   "outputs": [],
   "source": [
    "def remove_outliers(data):\n",
    "    return data[(data['1st Flr SF'] < 3000) &\n",
    "               ((data)['Gr Liv Area'] < 3000)]\n",
    "\n",
    "houses_train = remove_outliers(houses_train)"
   ]
  },
  {
   "cell_type": "markdown",
   "metadata": {},
   "source": [
    "### Dropping columns with > 40% null values\n",
    "\n"
   ]
  },
  {
   "cell_type": "markdown",
   "metadata": {},
   "source": [
    "### Imputing missing data with the mode (most missing data is categorical)"
   ]
  },
  {
   "cell_type": "code",
   "execution_count": 14,
   "metadata": {},
   "outputs": [],
   "source": [
    "# Thanks Will Badr for this! https://towardsdatascience.com/6-different-ways-to-compensate-for-missing-values-data-imputation-with-examples-6022d9ca0779\n",
    "def imp_data(data):\n",
    "    imp_mean = SimpleImputer(strategy = 'mean')\n",
    "    imp_mode = SimpleImputer(strategy = 'most_frequent')\n",
    "    has_nulls = data.isnull().mean() != 0\n",
    "    null_columns = data.columns[has_nulls]\n",
    "    for column in null_columns:\n",
    "        try:\n",
    "            train = data[[column]]\n",
    "            imp_mean.fit(train)\n",
    "            data[column] = imp_mean.transform(train)\n",
    "        except:\n",
    "            train = data[[column]]\n",
    "            imp_mode.fit(train)\n",
    "            data[column] = imp_mode.transform(train)"
   ]
  },
  {
   "cell_type": "code",
   "execution_count": 15,
   "metadata": {},
   "outputs": [],
   "source": [
    "imp_data(houses_train)"
   ]
  },
  {
   "cell_type": "markdown",
   "metadata": {},
   "source": [
    "## Feature Engineering"
   ]
  },
  {
   "cell_type": "markdown",
   "metadata": {},
   "source": [
    "### Mapping Ordinals"
   ]
  },
  {
   "cell_type": "markdown",
   "metadata": {},
   "source": [
    "### Creating Dummies"
   ]
  },
  {
   "cell_type": "code",
   "execution_count": 20,
   "metadata": {},
   "outputs": [],
   "source": [
    "def category_to_bool_cols(dataframe, list_of_columns):\n",
    "    for column in list_of_columns:\n",
    "        dummy_split = pd.get_dummies(dataframe[column], column, drop_first = True) # Creates dummy columns with the name {column}_{value_in_row} per get_dummies documentation\n",
    "        for dummy_key in dummy_split: # Iterates through dummy_key in dummy_split\n",
    "            dataframe[dummy_key] = dummy_split[dummy_key] # adds new columns named {dummy_key} to original dataframe"
   ]
  },
  {
   "cell_type": "code",
   "execution_count": 21,
   "metadata": {},
   "outputs": [],
   "source": [
    "nominal_categories = ['MS Zoning',\n",
    "                      'Foundation',\n",
    "                      'BsmtFin Type 1',\n",
    "                      'BsmtFin Type 2',\n",
    "                      'Heating',\n",
    "                      'Street',\n",
    "                      'Full Bath',\n",
    "                      'Neighborhood',\n",
    "                      'Garage Finish',\n",
    "                      'Lot Config',\n",
    "                      'BsmtFin Type 1',\n",
    "                      'BsmtFin Type 2',\n",
    "                      'Lot Shape',\n",
    "                      'Roof Matl',\n",
    "                      'Roof Style',\n",
    "                      'Lot Shape',\n",
    "                      'Land Contour',\n",
    "                      'Utilities',\n",
    "                      'Land Slope',\n",
    "                      'House Style',\n",
    "                      'Electrical',\n",
    "                      'Garage Type',\n",
    "                      'Sale Type',\n",
    "                      'Functional',\n",
    "                      'Half Bath',\n",
    "                      'Bedroom AbvGr',\n",
    "                      'Kitchen AbvGr',\n",
    "                      'TotRms AbvGrd',\n",
    "                      'Exter Qual',\n",
    "                        'Exter Cond',\n",
    "                        'Bsmt Qual',\n",
    "                        'Bsmt Cond',\n",
    "                        'Heating QC',\n",
    "                        'Kitchen Qual',\n",
    "                        'Fireplace Qu',\n",
    "                        'Garage Qual',\n",
    "                        'Garage Cond',\n",
    "                        'Pool QC',\n",
    "                        'Overall Cond']\n",
    "category_to_bool_cols(houses_train, nominal_categories)"
   ]
  },
  {
   "cell_type": "code",
   "execution_count": 23,
   "metadata": {},
   "outputs": [],
   "source": [
    "# Creating my own polynomial features\n",
    "def poly_features(data):\n",
    "    data['gr_liv x 1st_SF'] = data['Gr Liv Area'] * data['1st Flr SF']\n",
    "    data['Ovr Qual x 1st_SF'] = data['Overall Qual'] * data['1st Flr SF']\n",
    "    data['Ovr Qual ^ 2'] = data['Overall Qual'] ** 2\n",
    "    data['Average_bsmt_kitch_exter_qual'] = data['Bsmt Qual_TA'] * data['Kitchen Qual_TA'] * data['Exter Qual_TA']\n",
    "    data['Avg_bsmt_kitch_qual'] = data['Bsmt Qual_TA'] * data['Kitchen Qual_TA']\n",
    "    data['Avg_bsmt_exter_qual'] = data['Bsmt Qual_TA'] * data['Exter Qual_TA']"
   ]
  },
  {
   "cell_type": "code",
   "execution_count": 24,
   "metadata": {},
   "outputs": [],
   "source": [
    "poly_features(houses_train)"
   ]
  },
  {
   "cell_type": "code",
   "execution_count": 26,
   "metadata": {},
   "outputs": [
    {
     "data": {
      "text/plain": [
       "(2034, 267)"
      ]
     },
     "execution_count": 26,
     "metadata": {},
     "output_type": "execute_result"
    }
   ],
   "source": [
    "houses_train.shape"
   ]
  },
  {
   "cell_type": "code",
   "execution_count": 27,
   "metadata": {},
   "outputs": [],
   "source": [
    "# houses_10p_to_90p.shape"
   ]
  },
  {
   "cell_type": "markdown",
   "metadata": {},
   "source": [
    "### Creating Logs"
   ]
  },
  {
   "cell_type": "code",
   "execution_count": 28,
   "metadata": {},
   "outputs": [],
   "source": [
    "change_0_to_1 = lambda x: 1 if x <= 0 else x"
   ]
  },
  {
   "cell_type": "code",
   "execution_count": 29,
   "metadata": {},
   "outputs": [],
   "source": [
    "def log_col(data, columns):\n",
    "    for column in columns:\n",
    "        temp_df = data[column].apply(change_0_to_1)\n",
    "        data[f\"log_{column.replace(' ', '_').lower()}\"] = np.log(temp_df)"
   ]
  },
  {
   "cell_type": "code",
   "execution_count": 30,
   "metadata": {},
   "outputs": [],
   "source": [
    "def log_hist(data, column):\n",
    "    plt.hist(data[column].apply(change_0_to_1))"
   ]
  },
  {
   "cell_type": "code",
   "execution_count": 31,
   "metadata": {},
   "outputs": [],
   "source": [
    "columns_to_log = ['BsmtFin SF 1', '1st Flr SF', 'Lot Area']\n",
    "log_col(houses_train, columns_to_log)"
   ]
  },
  {
   "cell_type": "code",
   "execution_count": 32,
   "metadata": {},
   "outputs": [],
   "source": [
    "# columns_to_log = ['BsmtFin SF 1', '1st Flr SF', 'Lot Area']\n",
    "# log_col(houses_10p_to_90p, columns_to_log)\n",
    "# # # log_col(houses_train, '2nd Flr SF')\n",
    "# # # log_col(houses_train, 'Total Bsmt SF')\n",
    "# # # for column in houses_train:\n",
    "# # #     log_col(houses_train, column)"
   ]
  },
  {
   "cell_type": "code",
   "execution_count": 33,
   "metadata": {},
   "outputs": [
    {
     "data": {
      "text/plain": [
       "(2034, 270)"
      ]
     },
     "execution_count": 33,
     "metadata": {},
     "output_type": "execute_result"
    }
   ],
   "source": [
    "houses_train.shape"
   ]
  },
  {
   "cell_type": "code",
   "execution_count": 34,
   "metadata": {},
   "outputs": [],
   "source": [
    "# houses_10p_to_90p.shape"
   ]
  },
  {
   "cell_type": "markdown",
   "metadata": {},
   "source": [
    "### Choosing Features"
   ]
  },
  {
   "cell_type": "code",
   "execution_count": 35,
   "metadata": {},
   "outputs": [
    {
     "data": {
      "image/png": "[encoded data removed]",
      "text/plain": [
       "<Figure size 72x3600 with 2 Axes>"
      ]
     },
     "metadata": {
      "needs_background": "light"
     },
     "output_type": "display_data"
    }
   ],
   "source": [
    "plt.figure(figsize=(1, 50))\n",
    "sns.heatmap(houses_train.corr()[['SalePrice']], vmin=-1, vmax=1, cmap='RdBu');"
   ]
  },
  {
   "cell_type": "code",
   "execution_count": 208,
   "metadata": {},
   "outputs": [],
   "source": [
    "def random_feature_thresh_test(data, target, threshold_start):\n",
    "    best_threshold = 0\n",
    "    best_score = float('inf')\n",
    "    for i in range(0, 10):\n",
    "        mean_corr = data.corr()[target].mean()\n",
    "        feature_threshold = threshold_start + (i / 10)\n",
    "        abs_value_greater_than_thresh = abs(data.corr()['SalePrice']) > mean_corr * feature_threshold\n",
    "        # EdChum and dartdog from SO: https://stackoverflow.com/questions/29281815/pandas-select-dataframe-columns-using-boolean\n",
    "        strong_corr_features = data[data.corr().columns[abs_value_greater_than_thresh]]\n",
    "\n",
    "        features = list(strong_corr_features[1:])\n",
    "        features_not_in_list = ['SalePrice', 'PID', 'Id'\n",
    "                               ]\n",
    "        features = [feature for feature in features if feature not in features_not_in_list]\n",
    "\n",
    "        X = data[[col for col in features if col in houses_test]].drop(outlier_indices)\n",
    "        y = data[target].drop(outlier_indices)\n",
    "\n",
    "        X_train, X_test, y_train, y_test = train_test_split(X, y, test_size=.25, random_state=342)\n",
    "\n",
    "        lr = LinearRegression()\n",
    "        lr.fit(X_train, y_train)\n",
    "\n",
    "        y_pred = lr.predict(X_test)\n",
    "\n",
    "        lr.score(X_test, y_test)\n",
    "        score = metrics.mean_squared_error(y_test, y_pred, squared=False)\n",
    "        if score < best_score:\n",
    "            print(score)\n",
    "            print(\"^^NEW HIGH SCORE^^\")\n",
    "            best_score = score\n",
    "            best_threshold = feature_threshold\n",
    "    return f'The best score was {best_score}, the best threshold was {best_threshold}.'\n",
    "    "
   ]
  },
  {
   "cell_type": "code",
   "execution_count": 285,
   "metadata": {},
   "outputs": [
    {
     "name": "stdout",
     "output_type": "stream",
     "text": [
      "19350.034650180398\n",
      "^^NEW HIGH SCORE^^\n",
      "19130.49747697732\n",
      "^^NEW HIGH SCORE^^\n"
     ]
    },
    {
     "data": {
      "text/plain": [
       "'The best score was 19130.49747697732, the best threshold was 0.6.'"
      ]
     },
     "execution_count": 285,
     "metadata": {},
     "output_type": "execute_result"
    }
   ],
   "source": [
    "random_feature_thresh_test(houses_train, 'SalePrice', 0.5)"
   ]
  },
  {
   "cell_type": "code",
   "execution_count": 110,
   "metadata": {},
   "outputs": [],
   "source": [
    "def get_features(data, threshold):\n",
    "    mean_corr = houses_train.corr()['SalePrice'].mean()\n",
    "    abs_value_greater_than_thresh = abs(data.corr()['SalePrice']) > mean_corr * threshold\n",
    "    # EdChum and dartdog from SO: https://stackoverflow.com/questions/29281815/pandas-select-dataframe-columns-using-boolean\n",
    "    strong_corr_features = data[data.corr().columns[abs_value_greater_than_thresh]]\n",
    "\n",
    "    features = list(strong_corr_features[1:])\n",
    "    features_not_in_list = ['SalePrice', 'PID', 'Id']\n",
    "    try:\n",
    "        return [feature for feature in features if feature not in features_not_in_list]\n",
    "    except:\n",
    "        features_not_in_list = ['PID', 'Id']\n",
    "        return [feature for feature in features if feature not in features_not_in_list]"
   ]
  },
  {
   "cell_type": "code",
   "execution_count": 300,
   "metadata": {},
   "outputs": [
    {
     "data": {
      "text/plain": [
       "159"
      ]
     },
     "execution_count": 300,
     "metadata": {},
     "output_type": "execute_result"
    }
   ],
   "source": [
    "features_all = get_features(houses_train, 1)\n",
    "len(features_all)"
   ]
  },
  {
   "cell_type": "markdown",
   "metadata": {},
   "source": [
    "## Prepping model for Kaggle Submission"
   ]
  },
  {
   "cell_type": "code",
   "execution_count": 301,
   "metadata": {},
   "outputs": [],
   "source": [
    "# Garage Cars was type int64 in houses_test, was type float in houses_train_pol_scale\n",
    "houses_test['Garage Cars'] = houses_test['Garage Cars'].apply(lambda x: float(x))"
   ]
  },
  {
   "cell_type": "code",
   "execution_count": 302,
   "metadata": {},
   "outputs": [],
   "source": [
    "# Thanks Will Badr for this! https://towardsdatascience.com/6-different-ways-to-compensate-for-missing-values-data-imputation-with-examples-6022d9ca0779\n",
    "imp_data(houses_test)"
   ]
  },
  {
   "cell_type": "code",
   "execution_count": 303,
   "metadata": {},
   "outputs": [],
   "source": [
    "category_to_bool_cols(houses_test, nominal_categories)"
   ]
  },
  {
   "cell_type": "code",
   "execution_count": 304,
   "metadata": {},
   "outputs": [],
   "source": [
    "poly_features(houses_test)"
   ]
  },
  {
   "cell_type": "code",
   "execution_count": 305,
   "metadata": {},
   "outputs": [],
   "source": [
    "log_col(houses_test, columns_to_log)"
   ]
  },
  {
   "cell_type": "code",
   "execution_count": 306,
   "metadata": {},
   "outputs": [
    {
     "data": {
      "text/plain": [
       "(878, 257)"
      ]
     },
     "execution_count": 306,
     "metadata": {},
     "output_type": "execute_result"
    }
   ],
   "source": [
    "houses_test.shape"
   ]
  },
  {
   "cell_type": "code",
   "execution_count": 307,
   "metadata": {},
   "outputs": [
    {
     "data": {
      "text/plain": [
       "(878, 152)"
      ]
     },
     "execution_count": 307,
     "metadata": {},
     "output_type": "execute_result"
    }
   ],
   "source": [
    "X_real_test = houses_test[[col for col in features_all if col in houses_test]]\n",
    "X_real_test.shape"
   ]
  },
  {
   "cell_type": "markdown",
   "metadata": {},
   "source": [
    "## Testing!!"
   ]
  },
  {
   "cell_type": "markdown",
   "metadata": {},
   "source": [
    "### Splitting the Data"
   ]
  },
  {
   "cell_type": "code",
   "execution_count": 308,
   "metadata": {},
   "outputs": [
    {
     "data": {
      "text/plain": [
       "(2032, 152)"
      ]
     },
     "execution_count": 308,
     "metadata": {},
     "output_type": "execute_result"
    }
   ],
   "source": [
    "outlier_indices = [1796, 125]\n",
    "X_all = houses_train[[col for col in features_all if col in houses_test]].drop(outlier_indices)\n",
    "y_all = houses_train['SalePrice'].drop(outlier_indices)\n",
    "X_all.shape"
   ]
  },
  {
   "cell_type": "code",
   "execution_count": 309,
   "metadata": {},
   "outputs": [],
   "source": [
    "X_all.fillna(0, inplace=True)"
   ]
  },
  {
   "cell_type": "code",
   "execution_count": 310,
   "metadata": {},
   "outputs": [],
   "source": [
    "def get_cval_score_mse(X, y):\n",
    "    X_train, X_test, y_train, y_test = train_test_split(X, y, test_size=.25, random_state=342)\n",
    "    lr = LinearRegression()\n",
    "    lr.fit(X_train, y_train)\n",
    "    y_pred = lr.predict(X_test)\n",
    "    resids = y_test - y_pred\n",
    "    print(f'The Cross Validation Score is: {cross_val_score(lr, X_train, y_train)}')\n",
    "    print(f'The R2 score on testing data is: {lr.score(X_test, y_test)}')\n",
    "    print(f'The MSE is {metrics.mean_squared_error(y_test, y_pred, squared=False)}')\n",
    "    return X_train, X_test, y_train, y_test\n",
    "    \n",
    "    "
   ]
  },
  {
   "cell_type": "code",
   "execution_count": 311,
   "metadata": {},
   "outputs": [
    {
     "name": "stdout",
     "output_type": "stream",
     "text": [
      "The Cross Validation Score is: [0.9107562  0.91699164 0.93227057 0.92646788 0.91948995]\n",
      "The R2 score on testing data is: 0.9256230959213753\n",
      "The MSE is 19358.891143189434\n"
     ]
    }
   ],
   "source": [
    "X_train, X_test, y_train, y_test = get_cval_score_mse(X_all, y_all)"
   ]
  },
  {
   "cell_type": "code",
   "execution_count": 312,
   "metadata": {},
   "outputs": [
    {
     "data": {
      "text/plain": [
       "LinearRegression()"
      ]
     },
     "execution_count": 312,
     "metadata": {},
     "output_type": "execute_result"
    }
   ],
   "source": [
    "lr = LinearRegression()\n",
    "lr.fit(X_train, y_train)"
   ]
  },
  {
   "cell_type": "code",
   "execution_count": 313,
   "metadata": {},
   "outputs": [
    {
     "data": {
      "text/plain": [
       "array([0.9107562 , 0.91699164, 0.93227057, 0.92646788, 0.91948995])"
      ]
     },
     "execution_count": 313,
     "metadata": {},
     "output_type": "execute_result"
    }
   ],
   "source": [
    "cross_val_score(lr, X_train, y_train)"
   ]
  },
  {
   "cell_type": "code",
   "execution_count": 314,
   "metadata": {},
   "outputs": [],
   "source": [
    "y_pred = lr.predict(X_test)"
   ]
  },
  {
   "cell_type": "code",
   "execution_count": 315,
   "metadata": {},
   "outputs": [
    {
     "data": {
      "text/plain": [
       "0.9256230959213753"
      ]
     },
     "execution_count": 315,
     "metadata": {},
     "output_type": "execute_result"
    }
   ],
   "source": [
    "lr.score(X_test, y_test)"
   ]
  },
  {
   "cell_type": "code",
   "execution_count": 316,
   "metadata": {},
   "outputs": [
    {
     "data": {
      "text/plain": [
       "19358.891143189434"
      ]
     },
     "execution_count": 316,
     "metadata": {},
     "output_type": "execute_result"
    }
   ],
   "source": [
    "metrics.mean_squared_error(y_test, y_pred, squared=False)"
   ]
  },
  {
   "cell_type": "code",
   "execution_count": 317,
   "metadata": {},
   "outputs": [],
   "source": [
    "resids = y_test - y_pred"
   ]
  },
  {
   "cell_type": "code",
   "execution_count": 318,
   "metadata": {},
   "outputs": [
    {
     "data": {
      "text/plain": [
       "<matplotlib.collections.PathCollection at 0x24947b1c588>"
      ]
     },
     "execution_count": 318,
     "metadata": {},
     "output_type": "execute_result"
    },
    {
     "data": {
      "image/png": "[encoded data removed]",
      "text/plain": [
       "<Figure size 432x288 with 1 Axes>"
      ]
     },
     "metadata": {
      "needs_background": "light"
     },
     "output_type": "display_data"
    }
   ],
   "source": [
    "plt.scatter(y_pred, resids, alpha=0.5)"
   ]
  },
  {
   "cell_type": "code",
   "execution_count": 319,
   "metadata": {},
   "outputs": [
    {
     "data": {
      "text/plain": [
       "(2032, 152)"
      ]
     },
     "execution_count": 319,
     "metadata": {},
     "output_type": "execute_result"
    }
   ],
   "source": [
    "X_all.shape"
   ]
  },
  {
   "cell_type": "markdown",
   "metadata": {},
   "source": [
    "## Training model on all data"
   ]
  },
  {
   "cell_type": "code",
   "execution_count": 320,
   "metadata": {},
   "outputs": [
    {
     "data": {
      "text/plain": [
       "LinearRegression()"
      ]
     },
     "execution_count": 320,
     "metadata": {},
     "output_type": "execute_result"
    }
   ],
   "source": [
    "lr.fit(X_all, y_all)"
   ]
  },
  {
   "cell_type": "code",
   "execution_count": 321,
   "metadata": {},
   "outputs": [
    {
     "data": {
      "text/plain": [
       "878"
      ]
     },
     "execution_count": 321,
     "metadata": {},
     "output_type": "execute_result"
    }
   ],
   "source": [
    "len(lr.predict(X_real_test))"
   ]
  },
  {
   "cell_type": "code",
   "execution_count": 322,
   "metadata": {},
   "outputs": [
    {
     "data": {
      "text/plain": [
       "878"
      ]
     },
     "execution_count": 322,
     "metadata": {},
     "output_type": "execute_result"
    }
   ],
   "source": [
    "len(X_real_test)"
   ]
  },
  {
   "cell_type": "code",
   "execution_count": 323,
   "metadata": {},
   "outputs": [
    {
     "data": {
      "text/html": [
       "<div>\n",
       "<style scoped>\n",
       "    .dataframe tbody tr th:only-of-type {\n",
       "        vertical-align: middle;\n",
       "    }\n",
       "\n",
       "    .dataframe tbody tr th {\n",
       "        vertical-align: top;\n",
       "    }\n",
       "\n",
       "    .dataframe thead th {\n",
       "        text-align: right;\n",
       "    }\n",
       "</style>\n",
       "<table border=\"1\" class=\"dataframe\">\n",
       "  <thead>\n",
       "    <tr style=\"text-align: right;\">\n",
       "      <th></th>\n",
       "      <th>Id</th>\n",
       "      <th>SalePrice</th>\n",
       "    </tr>\n",
       "  </thead>\n",
       "  <tbody>\n",
       "    <tr>\n",
       "      <th>count</th>\n",
       "      <td>878.000000</td>\n",
       "      <td>878.000000</td>\n",
       "    </tr>\n",
       "    <tr>\n",
       "      <th>mean</th>\n",
       "      <td>1444.749431</td>\n",
       "      <td>179284.605363</td>\n",
       "    </tr>\n",
       "    <tr>\n",
       "      <th>std</th>\n",
       "      <td>850.838263</td>\n",
       "      <td>76843.960653</td>\n",
       "    </tr>\n",
       "    <tr>\n",
       "      <th>min</th>\n",
       "      <td>2.000000</td>\n",
       "      <td>-406.499865</td>\n",
       "    </tr>\n",
       "    <tr>\n",
       "      <th>25%</th>\n",
       "      <td>692.250000</td>\n",
       "      <td>127529.908169</td>\n",
       "    </tr>\n",
       "    <tr>\n",
       "      <th>50%</th>\n",
       "      <td>1433.000000</td>\n",
       "      <td>161584.741772</td>\n",
       "    </tr>\n",
       "    <tr>\n",
       "      <th>75%</th>\n",
       "      <td>2197.500000</td>\n",
       "      <td>214049.928110</td>\n",
       "    </tr>\n",
       "    <tr>\n",
       "      <th>max</th>\n",
       "      <td>2928.000000</td>\n",
       "      <td>627625.007919</td>\n",
       "    </tr>\n",
       "  </tbody>\n",
       "</table>\n",
       "</div>"
      ],
      "text/plain": [
       "                Id      SalePrice\n",
       "count   878.000000     878.000000\n",
       "mean   1444.749431  179284.605363\n",
       "std     850.838263   76843.960653\n",
       "min       2.000000    -406.499865\n",
       "25%     692.250000  127529.908169\n",
       "50%    1433.000000  161584.741772\n",
       "75%    2197.500000  214049.928110\n",
       "max    2928.000000  627625.007919"
      ]
     },
     "execution_count": 323,
     "metadata": {},
     "output_type": "execute_result"
    }
   ],
   "source": [
    "houses_test['SalePrice'] = lr.predict(X_real_test)\n",
    "\n",
    "submission = houses_test[['Id', 'SalePrice']]\n",
    "submission[submission['SalePrice'] < 0]\n",
    "submission.describe()"
   ]
  },
  {
   "cell_type": "code",
   "execution_count": 324,
   "metadata": {},
   "outputs": [],
   "source": [
    "submission.to_csv('./submissions/test37.csv', index=False)"
   ]
  },
  {
   "cell_type": "code",
   "execution_count": null,
   "metadata": {},
   "outputs": [],
   "source": []
  }
 ],
 "metadata": {
  "kernelspec": {
   "display_name": "Python 3",
   "language": "python",
   "name": "python3"
  },
  "language_info": {
   "codemirror_mode": {
    "name": "ipython",
    "version": 3
   },
   "file_extension": ".py",
   "mimetype": "text/x-python",
   "name": "python",
   "nbconvert_exporter": "python",
   "pygments_lexer": "ipython3",
   "version": "3.7.7"
  }
 },
 "nbformat": 4,
 "nbformat_minor": 4
}
