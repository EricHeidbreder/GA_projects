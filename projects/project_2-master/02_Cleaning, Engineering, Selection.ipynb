{
 "cells": [
  {
   "cell_type": "code",
   "execution_count": 1,
   "metadata": {},
   "outputs": [],
   "source": [
    "import pandas as pd\n",
    "import numpy as np\n",
    "from my_functions import *"
   ]
  },
  {
   "cell_type": "code",
   "execution_count": 2,
   "metadata": {},
   "outputs": [],
   "source": [
    "houses_train = pd.read_csv('./datasets/train.csv')\n",
    "houses_test = pd.read_csv('./datasets/test.csv')"
   ]
  },
  {
   "cell_type": "markdown",
   "metadata": {},
   "source": [
    "## Cleaning Steps (in `my_functions.py`)"
   ]
  },
  {
   "cell_type": "markdown",
   "metadata": {},
   "source": [
    "* Remove Outliers\n",
    "* Impute missing data with the mode (most missing data is categorical)"
   ]
  },
  {
   "cell_type": "markdown",
   "metadata": {},
   "source": [
    "## Feature Engineering"
   ]
  },
  {
   "cell_type": "markdown",
   "metadata": {},
   "source": [
    "#### Creating Dummies"
   ]
  },
  {
   "cell_type": "code",
   "execution_count": 3,
   "metadata": {},
   "outputs": [],
   "source": [
    "# choosing categories to dummify\n",
    "nominal_categories = ['MS Zoning',\n",
    "                      'MS SubClass',\n",
    "                      'Foundation',\n",
    "                      'BsmtFin Type 1',\n",
    "                      'BsmtFin Type 2',\n",
    "                      'Heating',\n",
    "                      'Street',\n",
    "                      'Full Bath',\n",
    "                      'Neighborhood',\n",
    "                      'Garage Finish',\n",
    "                      'Lot Config',\n",
    "                      'BsmtFin Type 1',\n",
    "                      'BsmtFin Type 2',\n",
    "                      'Lot Shape',\n",
    "                      'Roof Matl',\n",
    "                      'Roof Style',\n",
    "                      'Lot Shape',\n",
    "                      'Land Contour',\n",
    "                      'Utilities',\n",
    "                      'Land Slope',\n",
    "                      'House Style',\n",
    "                      'Electrical',\n",
    "                      'Garage Type',\n",
    "                      'Sale Type',\n",
    "                      'Functional',\n",
    "                      'Half Bath',\n",
    "                      'Bedroom AbvGr',\n",
    "                      'Kitchen AbvGr',\n",
    "                      'TotRms AbvGrd'] + ['Exter Qual',\n",
    "                                'Exter Cond',\n",
    "                                'Bsmt Qual',\n",
    "                                'Bsmt Cond',\n",
    "                                'Heating QC',\n",
    "                                'Kitchen Qual',\n",
    "                                'Fireplace Qu',\n",
    "                                'Garage Qual',\n",
    "                                'Garage Cond',\n",
    "                                'Pool QC']"
   ]
  },
  {
   "cell_type": "code",
   "execution_count": 4,
   "metadata": {},
   "outputs": [
    {
     "data": {
      "text/plain": [
       "(2051, 81)"
      ]
     },
     "execution_count": 4,
     "metadata": {},
     "output_type": "execute_result"
    }
   ],
   "source": [
    "houses_train.shape"
   ]
  },
  {
   "cell_type": "markdown",
   "metadata": {},
   "source": [
    "### Creating Logs"
   ]
  },
  {
   "cell_type": "code",
   "execution_count": 5,
   "metadata": {},
   "outputs": [],
   "source": [
    "categories_to_log = ['Lot Area']"
   ]
  },
  {
   "cell_type": "markdown",
   "metadata": {},
   "source": [
    "### Using functions to create a clean data csv file"
   ]
  },
  {
   "cell_type": "code",
   "execution_count": 6,
   "metadata": {},
   "outputs": [
    {
     "name": "stderr",
     "output_type": "stream",
     "text": [
      "C:\\Users\\iplay\\Documents\\DSIR\\Submissions\\projects\\project_2-master\\my_functions.py:117: SettingWithCopyWarning: \n",
      "A value is trying to be set on a copy of a slice from a DataFrame.\n",
      "Try using .loc[row_indexer,col_indexer] = value instead\n",
      "\n",
      "See the caveats in the documentation: https://pandas.pydata.org/pandas-docs/stable/user_guide/indexing.html#returning-a-view-versus-a-copy\n",
      "  data['built_1983_to_present'] = np.where(greater_than_1982, 1, 0)\n",
      "C:\\Users\\iplay\\Documents\\DSIR\\Submissions\\projects\\project_2-master\\my_functions.py:118: SettingWithCopyWarning: \n",
      "A value is trying to be set on a copy of a slice from a DataFrame.\n",
      "Try using .loc[row_indexer,col_indexer] = value instead\n",
      "\n",
      "See the caveats in the documentation: https://pandas.pydata.org/pandas-docs/stable/user_guide/indexing.html#returning-a-view-versus-a-copy\n",
      "  data['built_before_1983'] = np.where(~greater_than_1982, 1, 0)\n",
      "C:\\ProgramData\\Anaconda3\\envs\\dsi\\lib\\site-packages\\pandas\\core\\generic.py:6245: SettingWithCopyWarning: \n",
      "A value is trying to be set on a copy of a slice from a DataFrame\n",
      "\n",
      "See the caveats in the documentation: https://pandas.pydata.org/pandas-docs/stable/user_guide/indexing.html#returning-a-view-versus-a-copy\n",
      "  self._update_inplace(new_data)\n",
      "C:\\Users\\iplay\\Documents\\DSIR\\Submissions\\projects\\project_2-master\\my_functions.py:37: SettingWithCopyWarning: \n",
      "A value is trying to be set on a copy of a slice from a DataFrame.\n",
      "Try using .loc[row_indexer,col_indexer] = value instead\n",
      "\n",
      "See the caveats in the documentation: https://pandas.pydata.org/pandas-docs/stable/user_guide/indexing.html#returning-a-view-versus-a-copy\n",
      "  dataframe[dummy_key] = dummy_split[dummy_key] # adds new columns named {dummy_key} to original dataframe\n",
      "C:\\Users\\iplay\\Documents\\DSIR\\Submissions\\projects\\project_2-master\\my_functions.py:123: SettingWithCopyWarning: \n",
      "A value is trying to be set on a copy of a slice from a DataFrame.\n",
      "Try using .loc[row_indexer,col_indexer] = value instead\n",
      "\n",
      "See the caveats in the documentation: https://pandas.pydata.org/pandas-docs/stable/user_guide/indexing.html#returning-a-view-versus-a-copy\n",
      "  data['Avg_bsmt_kitch_exter_qual'] = (data['Bsmt Qual_TA'] + data['Kitchen Qual_TA'] + data['Exter Qual_TA']) * 2\n",
      "C:\\Users\\iplay\\Documents\\DSIR\\Submissions\\projects\\project_2-master\\my_functions.py:124: SettingWithCopyWarning: \n",
      "A value is trying to be set on a copy of a slice from a DataFrame.\n",
      "Try using .loc[row_indexer,col_indexer] = value instead\n",
      "\n",
      "See the caveats in the documentation: https://pandas.pydata.org/pandas-docs/stable/user_guide/indexing.html#returning-a-view-versus-a-copy\n",
      "  data['total_house_sf_x_overall_qual'] = np.log(data[['1st Flr SF', '2nd Flr SF', 'Total Bsmt SF', 'Wood Deck SF', 'Open Porch SF']].sum(axis=1) * data['Overall Qual'])\n",
      "C:\\Users\\iplay\\Documents\\DSIR\\Submissions\\projects\\project_2-master\\my_functions.py:44: SettingWithCopyWarning: \n",
      "A value is trying to be set on a copy of a slice from a DataFrame.\n",
      "Try using .loc[row_indexer,col_indexer] = value instead\n",
      "\n",
      "See the caveats in the documentation: https://pandas.pydata.org/pandas-docs/stable/user_guide/indexing.html#returning-a-view-versus-a-copy\n",
      "  data[f\"log_{column.replace(' ', '_').lower()}\"] = np.log(temp_df)\n"
     ]
    }
   ],
   "source": [
    "clean_train_data_export_csv(houses_train, nominal_categories, categories_to_log).to_csv(f'./datasets/cleaned/house_train_cleaned.csv', index=False)\n",
    "clean_test_data_export_csv(houses_test, nominal_categories, categories_to_log).to_csv(f'./datasets/cleaned/house_test_cleaned.csv', index=False)\n"
   ]
  },
  {
   "cell_type": "code",
   "execution_count": null,
   "metadata": {},
   "outputs": [],
   "source": []
  }
 ],
 "metadata": {
  "kernelspec": {
   "display_name": "Python 3",
   "language": "python",
   "name": "python3"
  },
  "language_info": {
   "codemirror_mode": {
    "name": "ipython",
    "version": 3
   },
   "file_extension": ".py",
   "mimetype": "text/x-python",
   "name": "python",
   "nbconvert_exporter": "python",
   "pygments_lexer": "ipython3",
   "version": "3.7.7"
  }
 },
 "nbformat": 4,
 "nbformat_minor": 4
}
