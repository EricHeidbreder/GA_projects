{
 "cells": [
  {
   "cell_type": "code",
   "execution_count": 1,
   "metadata": {},
   "outputs": [],
   "source": [
    "def remove_outliers(data):\n",
    "    return data[(data['1st Flr SF'] < 3000) &\n",
    "               ((data)['Gr Liv Area'] < 3000)]"
   ]
  },
  {
   "cell_type": "code",
   "execution_count": 15,
   "metadata": {},
   "outputs": [],
   "source": [
    "# Thanks Will Badr for this! https://towardsdatascience.com/6-different-ways-to-compensate-for-missing-values-data-imputation-with-examples-6022d9ca0779\n",
    "def imp_data(data):\n",
    "    imp_mean = SimpleImputer(strategy = 'mean')\n",
    "    imp_mode = SimpleImputer(strategy = 'most_frequent')\n",
    "    has_nulls = data.isnull().mean() != 0\n",
    "    null_columns = data.columns[has_nulls]\n",
    "    for column in null_columns:\n",
    "        try:\n",
    "            train = data[[column]]\n",
    "            imp_mean.fit(train)\n",
    "            data[column] = imp_mean.transform(train)\n",
    "        except:\n",
    "            train = data[[column]]\n",
    "            imp_mode.fit(train)\n",
    "            data[column] = imp_mode.transform(train)"
   ]
  },
  {
   "cell_type": "code",
   "execution_count": 21,
   "metadata": {},
   "outputs": [],
   "source": [
    "def category_to_bool_cols(dataframe, list_of_columns):\n",
    "    for column in list_of_columns:\n",
    "        dummy_split = pd.get_dummies(dataframe[column], column, drop_first = True) # Creates dummy columns with the name {column}_{value_in_row} per get_dummies documentation\n",
    "        for dummy_key in dummy_split: # Iterates through dummy_key in dummy_split\n",
    "            dataframe[dummy_key] = dummy_split[dummy_key] # adds new columns named {dummy_key} to original dataframe"
   ]
  },
  {
   "cell_type": "code",
   "execution_count": 195,
   "metadata": {},
   "outputs": [],
   "source": [
    "def log_col(data, columns):\n",
    "    for column in columns:\n",
    "        temp_df = data[column].apply(change_0_to_1)\n",
    "        data[f\"log_{column.replace(' ', '_').lower()}\"] = np.log(temp_df)"
   ]
  },
  {
   "cell_type": "code",
   "execution_count": 196,
   "metadata": {},
   "outputs": [],
   "source": [
    "def log_hist(data, column):\n",
    "    plt.hist(data[column].apply(change_0_to_1))"
   ]
  },
  {
   "cell_type": "code",
   "execution_count": 203,
   "metadata": {},
   "outputs": [],
   "source": [
    "def random_feature_thresh_test(data, target, features, threshold_start):\n",
    "    best_threshold = 0\n",
    "    best_score = float('inf')\n",
    "    for i in range(0, 100):\n",
    "        mean_corr = data.corr()[target].mean()\n",
    "        feature_threshold = threshold_start + (i / 100)\n",
    "        abs_value_greater_than_thresh = abs(data.corr()['SalePrice']) > mean_corr * feature_threshold\n",
    "        # EdChum and dartdog from SO: https://stackoverflow.com/questions/29281815/pandas-select-dataframe-columns-using-boolean\n",
    "        strong_corr_features = data[data.corr().columns[abs_value_greater_than_thresh]]\n",
    "\n",
    "        features = list(strong_corr_features[1:])\n",
    "        features_not_in_list = ['SalePrice', 'PID', 'Id'\n",
    "                               ]\n",
    "        features = [feature for feature in features if feature not in features_not_in_list]\n",
    "\n",
    "        X = data[features]\n",
    "        y = data[target]\n",
    "\n",
    "        X_train, X_test, y_train, y_test = train_test_split(X, y, test_size=.25, random_state=342)\n",
    "\n",
    "        lr = LinearRegression()\n",
    "        lr.fit(X_train, y_train)\n",
    "\n",
    "        y_pred = lr.predict(X_test)\n",
    "\n",
    "        lr.score(X_test, y_test)\n",
    "        score = metrics.mean_squared_error(y_test, y_pred, squared=False)\n",
    "        if score < best_score:\n",
    "            print(score)\n",
    "            print(\"^^NEW HIGH SCORE^^\")\n",
    "            best_score = score\n",
    "            best_threshold = feature_threshold\n",
    "    return f'The best score was {best_score}, the best threshold was {best_threshold}.'\n",
    "    "
   ]
  },
  {
   "cell_type": "code",
   "execution_count": 210,
   "metadata": {},
   "outputs": [],
   "source": [
    "def get_features(data, threshold, mean_corr):\n",
    "\n",
    "    abs_value_greater_than_thresh = abs(data.corr()['SalePrice']) > mean_corr * threshold\n",
    "    # EdChum and dartdog from SO: https://stackoverflow.com/questions/29281815/pandas-select-dataframe-columns-using-boolean\n",
    "    strong_corr_features = data[data.corr().columns[abs_value_greater_than_thresh]]\n",
    "\n",
    "    features = list(strong_corr_features[1:])\n",
    "    features_not_in_list = ['SalePrice', 'PID', 'Id'\n",
    "                           ]\n",
    "    try:\n",
    "        return [feature for feature in features if feature not in features_not_in_list]\n",
    "    except:\n",
    "        features_not_in_list = ['PID', 'Id'\n",
    "                       ]\n",
    "        return [feature for feature in features if feature not in features_not_in_list]"
   ]
  },
  {
   "cell_type": "code",
   "execution_count": 366,
   "metadata": {},
   "outputs": [],
   "source": [
    "def get_cval_score_mse(X, y):\n",
    "    X_train, X_test, y_train, y_test = train_test_split(X, y, test_size=.25, random_state=342)\n",
    "    lr = LinearRegression()\n",
    "    lr.fit(X_train, y_train)\n",
    "    y_pred = lr.predict(X_test)\n",
    "    resids = y_test - y_pred\n",
    "    print(f'The Cross Validation Score is: {cross_val_score(lr, X_train, y_train)}')\n",
    "    print(f'The R2 score on testing data is: {lr.score(X_test, y_test)}')\n",
    "    print(f'The MSE is {metrics.mean_squared_error(y_test, y_pred, squared=False)}')\n",
    "    return X_train, X_test, y_train, y_test\n",
    "    \n",
    "    "
   ]
  }
 ],
 "metadata": {
  "kernelspec": {
   "display_name": "Python 3",
   "language": "python",
   "name": "python3"
  },
  "language_info": {
   "codemirror_mode": {
    "name": "ipython",
    "version": 3
   },
   "file_extension": ".py",
   "mimetype": "text/x-python",
   "name": "python",
   "nbconvert_exporter": "python",
   "pygments_lexer": "ipython3",
   "version": "3.7.7"
  }
 },
 "nbformat": 4,
 "nbformat_minor": 4
}
