{
 "cells": [
  {
   "cell_type": "markdown",
   "metadata": {},
   "source": [
    "## Feature Selection\n",
    "\n",
    "Okay, now it's time to put my functions to good use. We've done exploratory data analysis, we've cleaned, engineered, and removed collinear features. Let's select our features for our model!\n",
    "\n",
    "*Note: I am testing Linear Regression, Ridge, and LASSO models, and I will **reselect my features** for each of those individual models, so the features you see here may not be the ones that are used in those models*"
   ]
  },
  {
   "cell_type": "code",
   "execution_count": 7,
   "metadata": {},
   "outputs": [],
   "source": [
    "import pandas as pd\n",
    "import numpy as np"
   ]
  },
  {
   "cell_type": "markdown",
   "metadata": {},
   "source": [
    "### Get Features for Model\n",
    "\n",
    "Using the mean value of `abs(houses_train.corr()['SalePrice'])` as a baseline, I can adjust the threshold to grab only features that meet my correlation value requirements"
   ]
  },
  {
   "cell_type": "code",
   "execution_count": 8,
   "metadata": {},
   "outputs": [],
   "source": [
    "def get_features(data, threshold):\n",
    "    mean_corr = data.corr()['SalePrice'].mean()\n",
    "    abs_value_greater_than_thresh = abs(data.corr()['SalePrice']) > mean_corr * threshold\n",
    "    # EdChum and dartdog from SO: https://stackoverflow.com/questions/29281815/pandas-select-dataframe-columns-using-boolean\n",
    "    strong_corr_features = data.loc[:,  data.corr().columns[abs_value_greater_than_thresh]]\n",
    "\n",
    "    features = list(strong_corr_features) # need to select only the strongest correlated features\n",
    "    features_not_in_list = ['SalePrice', 'PID', 'Id'\n",
    "                           ]\n",
    "    try:\n",
    "        return [feature for feature in features if feature not in features_not_in_list]\n",
    "    except:\n",
    "        features_not_in_list = ['PID', 'Id'\n",
    "                       ]\n",
    "        return [feature for feature in features if feature not in features_not_in_list]"
   ]
  },
  {
   "cell_type": "markdown",
   "metadata": {},
   "source": [
    "## What's Next?"
   ]
  },
  {
   "cell_type": "markdown",
   "metadata": {},
   "source": [
    "I want to take one last look at the features I made before modeling."
   ]
  }
 ],
 "metadata": {
  "kernelspec": {
   "display_name": "Python 3",
   "language": "python",
   "name": "python3"
  },
  "language_info": {
   "codemirror_mode": {
    "name": "ipython",
    "version": 3
   },
   "file_extension": ".py",
   "mimetype": "text/x-python",
   "name": "python",
   "nbconvert_exporter": "python",
   "pygments_lexer": "ipython3",
   "version": "3.7.7"
  }
 },
 "nbformat": 4,
 "nbformat_minor": 4
}
