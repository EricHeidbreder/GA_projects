{
 "cells": [
  {
   "cell_type": "code",
   "execution_count": 187,
   "metadata": {},
   "outputs": [],
   "source": [
    "import pandas as pd\n",
    "import numpy as np\n",
    "import seaborn as sns\n",
    "import matplotlib.pyplot as plt\n",
    "import statsmodels.api as sm\n",
    "from sklearn.linear_model import LassoCV\n",
    "from sklearn.preprocessing import StandardScaler\n",
    "from my_functions import *"
   ]
  },
  {
   "cell_type": "code",
   "execution_count": 188,
   "metadata": {},
   "outputs": [],
   "source": [
    "houses_train_cleaned = pd.read_csv('../datasets/cleaned/house_train_cleaned.csv')\n",
    "houses_test_cleaned = pd.read_csv('../datasets/cleaned/house_test_cleaned.csv')"
   ]
  },
  {
   "cell_type": "code",
   "execution_count": 189,
   "metadata": {},
   "outputs": [],
   "source": [
    "# random_feature_thresh_test(houses_train_cleaned, 'SalePrice', features_all, 1.5)"
   ]
  },
  {
   "cell_type": "code",
   "execution_count": 190,
   "metadata": {},
   "outputs": [
    {
     "data": {
      "text/plain": [
       "308"
      ]
     },
     "execution_count": 190,
     "metadata": {},
     "output_type": "execute_result"
    }
   ],
   "source": [
    "# # mean_corr = houses_train_cleaned.corr()['SalePrice'].mean()\n",
    "features = get_features(houses_train_cleaned, 0) # I want as many features as possible for LassoCV, so I'm passing a threshold of 0\n",
    "len(features)\n"
   ]
  },
  {
   "cell_type": "code",
   "execution_count": 191,
   "metadata": {},
   "outputs": [
    {
     "data": {
      "text/plain": [
       "(878, 278)"
      ]
     },
     "execution_count": 191,
     "metadata": {},
     "output_type": "execute_result"
    }
   ],
   "source": [
    "X_real_test = houses_test_cleaned[[col for col in features if col in houses_test_cleaned]]\n",
    "X_real_test.shape"
   ]
  },
  {
   "cell_type": "markdown",
   "metadata": {},
   "source": [
    "## Prepping model for Kaggle Submission"
   ]
  },
  {
   "cell_type": "code",
   "execution_count": 192,
   "metadata": {},
   "outputs": [],
   "source": [
    "# Garage Cars was type int64 in houses_test_cleaned, was type float in houses_train_cleaned_pol_scale\n",
    "houses_test_cleaned['Garage Cars'] = houses_test_cleaned['Garage Cars'].apply(lambda x: float(x))"
   ]
  },
  {
   "cell_type": "code",
   "execution_count": 193,
   "metadata": {},
   "outputs": [
    {
     "data": {
      "text/plain": [
       "(878, 331)"
      ]
     },
     "execution_count": 193,
     "metadata": {},
     "output_type": "execute_result"
    }
   ],
   "source": [
    "houses_test_cleaned.shape"
   ]
  },
  {
   "cell_type": "markdown",
   "metadata": {},
   "source": [
    "## Testing!!"
   ]
  },
  {
   "cell_type": "markdown",
   "metadata": {},
   "source": [
    "### Selecting X and Y"
   ]
  },
  {
   "cell_type": "code",
   "execution_count": 246,
   "metadata": {},
   "outputs": [],
   "source": [
    "outlier_indices = [1796, 125] # These indices were throwing off my model drastically\n",
    "X = houses_train_cleaned[[col for col in features if col in houses_test_cleaned]].drop(outlier_indices)\n",
    "y = houses_train_cleaned['SalePrice'].drop(outlier_indices)"
   ]
  },
  {
   "cell_type": "code",
   "execution_count": 247,
   "metadata": {},
   "outputs": [],
   "source": [
    "# Establishing OLS model to be able to select P-Values\n",
    "model = sm.OLS(y, X).fit()"
   ]
  },
  {
   "cell_type": "code",
   "execution_count": 248,
   "metadata": {},
   "outputs": [],
   "source": [
    "# Selecting features by p-value. Intentionally trying to overfit this model to let LassoCV do its work\n",
    "significant_features = list(model.pvalues[model.pvalues < .45].index) # Thanks foxyblue from Stack Overflow! https://stackoverflow.com/questions/37508158/how-to-extract-a-particular-value-from-the-ols-summary-in-pandas/41212509"
   ]
  },
  {
   "cell_type": "code",
   "execution_count": 249,
   "metadata": {},
   "outputs": [],
   "source": [
    "X = houses_train_cleaned[[col for col in significant_features if col in houses_test_cleaned]].drop(outlier_indices)"
   ]
  },
  {
   "cell_type": "code",
   "execution_count": 250,
   "metadata": {},
   "outputs": [],
   "source": [
    "X_train, X_test, y_train, y_test = train_test_split(X, y, random_state=342)"
   ]
  },
  {
   "cell_type": "code",
   "execution_count": 251,
   "metadata": {},
   "outputs": [],
   "source": [
    "# Scaling my data for Ridge\n",
    "sc = StandardScaler()"
   ]
  },
  {
   "cell_type": "code",
   "execution_count": 252,
   "metadata": {},
   "outputs": [],
   "source": [
    "X_train_sc = sc.fit_transform(X_train)\n",
    "X_test_sc = sc.transform(X_test)"
   ]
  },
  {
   "cell_type": "markdown",
   "metadata": {},
   "source": [
    "## Training model on all data"
   ]
  },
  {
   "cell_type": "code",
   "execution_count": 253,
   "metadata": {},
   "outputs": [],
   "source": [
    "lr = LinearRegression()"
   ]
  },
  {
   "cell_type": "code",
   "execution_count": 254,
   "metadata": {},
   "outputs": [
    {
     "data": {
      "text/plain": [
       "LinearRegression()"
      ]
     },
     "execution_count": 254,
     "metadata": {},
     "output_type": "execute_result"
    }
   ],
   "source": [
    "lr.fit(X, y)"
   ]
  },
  {
   "cell_type": "code",
   "execution_count": 255,
   "metadata": {},
   "outputs": [
    {
     "data": {
      "text/plain": [
       "(878, 200)"
      ]
     },
     "execution_count": 255,
     "metadata": {},
     "output_type": "execute_result"
    }
   ],
   "source": [
    "X_real_test = houses_test_cleaned[[col for col in significant_features if col in houses_test_cleaned]]\n",
    "X_real_test.shape"
   ]
  },
  {
   "cell_type": "code",
   "execution_count": 256,
   "metadata": {},
   "outputs": [],
   "source": [
    "X_real_test_sc = sc.fit_transform(X_real_test)"
   ]
  },
  {
   "cell_type": "code",
   "execution_count": 257,
   "metadata": {},
   "outputs": [
    {
     "data": {
      "text/plain": [
       "878"
      ]
     },
     "execution_count": 257,
     "metadata": {},
     "output_type": "execute_result"
    }
   ],
   "source": [
    "len(X_real_test)"
   ]
  },
  {
   "cell_type": "code",
   "execution_count": 258,
   "metadata": {},
   "outputs": [
    {
     "name": "stderr",
     "output_type": "stream",
     "text": [
      "C:\\ProgramData\\Anaconda3\\envs\\dsi\\lib\\site-packages\\sklearn\\linear_model\\_coordinate_descent.py:527: ConvergenceWarning: Objective did not converge. You might want to increase the number of iterations. Duality gap: 805167138.7064209, tolerance: 780212044.6808647\n",
      "  tol, rng, random, positive)\n",
      "C:\\ProgramData\\Anaconda3\\envs\\dsi\\lib\\site-packages\\sklearn\\linear_model\\_coordinate_descent.py:527: ConvergenceWarning: Objective did not converge. You might want to increase the number of iterations. Duality gap: 5073488980.563538, tolerance: 780212044.6808647\n",
      "  tol, rng, random, positive)\n",
      "C:\\ProgramData\\Anaconda3\\envs\\dsi\\lib\\site-packages\\sklearn\\linear_model\\_coordinate_descent.py:527: ConvergenceWarning: Objective did not converge. You might want to increase the number of iterations. Duality gap: 8491904203.783386, tolerance: 780212044.6808647\n",
      "  tol, rng, random, positive)\n",
      "C:\\ProgramData\\Anaconda3\\envs\\dsi\\lib\\site-packages\\sklearn\\linear_model\\_coordinate_descent.py:527: ConvergenceWarning: Objective did not converge. You might want to increase the number of iterations. Duality gap: 11186988342.486877, tolerance: 780212044.6808647\n",
      "  tol, rng, random, positive)\n",
      "C:\\ProgramData\\Anaconda3\\envs\\dsi\\lib\\site-packages\\sklearn\\linear_model\\_coordinate_descent.py:527: ConvergenceWarning: Objective did not converge. You might want to increase the number of iterations. Duality gap: 12911086368.9422, tolerance: 780212044.6808647\n",
      "  tol, rng, random, positive)\n",
      "C:\\ProgramData\\Anaconda3\\envs\\dsi\\lib\\site-packages\\sklearn\\linear_model\\_coordinate_descent.py:527: ConvergenceWarning: Objective did not converge. You might want to increase the number of iterations. Duality gap: 13983314626.366394, tolerance: 780212044.6808647\n",
      "  tol, rng, random, positive)\n",
      "C:\\ProgramData\\Anaconda3\\envs\\dsi\\lib\\site-packages\\sklearn\\linear_model\\_coordinate_descent.py:527: ConvergenceWarning: Objective did not converge. You might want to increase the number of iterations. Duality gap: 14637922962.2984, tolerance: 780212044.6808647\n",
      "  tol, rng, random, positive)\n",
      "C:\\ProgramData\\Anaconda3\\envs\\dsi\\lib\\site-packages\\sklearn\\linear_model\\_coordinate_descent.py:527: ConvergenceWarning: Objective did not converge. You might want to increase the number of iterations. Duality gap: 15030067452.466553, tolerance: 780212044.6808647\n",
      "  tol, rng, random, positive)\n",
      "C:\\ProgramData\\Anaconda3\\envs\\dsi\\lib\\site-packages\\sklearn\\linear_model\\_coordinate_descent.py:527: ConvergenceWarning: Objective did not converge. You might want to increase the number of iterations. Duality gap: 15259009836.176697, tolerance: 780212044.6808647\n",
      "  tol, rng, random, positive)\n",
      "C:\\ProgramData\\Anaconda3\\envs\\dsi\\lib\\site-packages\\sklearn\\linear_model\\_coordinate_descent.py:527: ConvergenceWarning: Objective did not converge. You might want to increase the number of iterations. Duality gap: 15387343481.18335, tolerance: 780212044.6808647\n",
      "  tol, rng, random, positive)\n",
      "C:\\ProgramData\\Anaconda3\\envs\\dsi\\lib\\site-packages\\sklearn\\linear_model\\_coordinate_descent.py:527: ConvergenceWarning: Objective did not converge. You might want to increase the number of iterations. Duality gap: 15454249479.176392, tolerance: 780212044.6808647\n",
      "  tol, rng, random, positive)\n",
      "C:\\ProgramData\\Anaconda3\\envs\\dsi\\lib\\site-packages\\sklearn\\linear_model\\_coordinate_descent.py:527: ConvergenceWarning: Objective did not converge. You might want to increase the number of iterations. Duality gap: 15484133675.885376, tolerance: 780212044.6808647\n",
      "  tol, rng, random, positive)\n",
      "C:\\ProgramData\\Anaconda3\\envs\\dsi\\lib\\site-packages\\sklearn\\linear_model\\_coordinate_descent.py:527: ConvergenceWarning: Objective did not converge. You might want to increase the number of iterations. Duality gap: 15492131607.435364, tolerance: 780212044.6808647\n",
      "  tol, rng, random, positive)\n",
      "C:\\ProgramData\\Anaconda3\\envs\\dsi\\lib\\site-packages\\sklearn\\linear_model\\_coordinate_descent.py:527: ConvergenceWarning: Objective did not converge. You might want to increase the number of iterations. Duality gap: 15487582095.797363, tolerance: 780212044.6808647\n",
      "  tol, rng, random, positive)\n",
      "C:\\ProgramData\\Anaconda3\\envs\\dsi\\lib\\site-packages\\sklearn\\linear_model\\_coordinate_descent.py:527: ConvergenceWarning: Objective did not converge. You might want to increase the number of iterations. Duality gap: 15476207597.287537, tolerance: 780212044.6808647\n",
      "  tol, rng, random, positive)\n",
      "C:\\ProgramData\\Anaconda3\\envs\\dsi\\lib\\site-packages\\sklearn\\linear_model\\_coordinate_descent.py:527: ConvergenceWarning: Objective did not converge. You might want to increase the number of iterations. Duality gap: 1010888521.7808838, tolerance: 765173968.0789372\n",
      "  tol, rng, random, positive)\n",
      "C:\\ProgramData\\Anaconda3\\envs\\dsi\\lib\\site-packages\\sklearn\\linear_model\\_coordinate_descent.py:527: ConvergenceWarning: Objective did not converge. You might want to increase the number of iterations. Duality gap: 1278176310.4864502, tolerance: 765173968.0789372\n",
      "  tol, rng, random, positive)\n",
      "C:\\ProgramData\\Anaconda3\\envs\\dsi\\lib\\site-packages\\sklearn\\linear_model\\_coordinate_descent.py:527: ConvergenceWarning: Objective did not converge. You might want to increase the number of iterations. Duality gap: 1313842708.0825806, tolerance: 765173968.0789372\n",
      "  tol, rng, random, positive)\n",
      "C:\\ProgramData\\Anaconda3\\envs\\dsi\\lib\\site-packages\\sklearn\\linear_model\\_coordinate_descent.py:527: ConvergenceWarning: Objective did not converge. You might want to increase the number of iterations. Duality gap: 1309321031.6287842, tolerance: 765173968.0789372\n",
      "  tol, rng, random, positive)\n",
      "C:\\ProgramData\\Anaconda3\\envs\\dsi\\lib\\site-packages\\sklearn\\linear_model\\_coordinate_descent.py:527: ConvergenceWarning: Objective did not converge. You might want to increase the number of iterations. Duality gap: 1291806928.5534058, tolerance: 765173968.0789372\n",
      "  tol, rng, random, positive)\n",
      "C:\\ProgramData\\Anaconda3\\envs\\dsi\\lib\\site-packages\\sklearn\\linear_model\\_coordinate_descent.py:527: ConvergenceWarning: Objective did not converge. You might want to increase the number of iterations. Duality gap: 1266674465.72229, tolerance: 765173968.0789372\n",
      "  tol, rng, random, positive)\n",
      "C:\\ProgramData\\Anaconda3\\envs\\dsi\\lib\\site-packages\\sklearn\\linear_model\\_coordinate_descent.py:527: ConvergenceWarning: Objective did not converge. You might want to increase the number of iterations. Duality gap: 1241874003.6617432, tolerance: 765173968.0789372\n",
      "  tol, rng, random, positive)\n",
      "C:\\ProgramData\\Anaconda3\\envs\\dsi\\lib\\site-packages\\sklearn\\linear_model\\_coordinate_descent.py:527: ConvergenceWarning: Objective did not converge. You might want to increase the number of iterations. Duality gap: 1219029615.4821777, tolerance: 765173968.0789372\n",
      "  tol, rng, random, positive)\n",
      "C:\\ProgramData\\Anaconda3\\envs\\dsi\\lib\\site-packages\\sklearn\\linear_model\\_coordinate_descent.py:527: ConvergenceWarning: Objective did not converge. You might want to increase the number of iterations. Duality gap: 1198346451.5316162, tolerance: 765173968.0789372\n",
      "  tol, rng, random, positive)\n",
      "C:\\ProgramData\\Anaconda3\\envs\\dsi\\lib\\site-packages\\sklearn\\linear_model\\_coordinate_descent.py:527: ConvergenceWarning: Objective did not converge. You might want to increase the number of iterations. Duality gap: 1179718014.0402222, tolerance: 765173968.0789372\n",
      "  tol, rng, random, positive)\n",
      "C:\\ProgramData\\Anaconda3\\envs\\dsi\\lib\\site-packages\\sklearn\\linear_model\\_coordinate_descent.py:527: ConvergenceWarning: Objective did not converge. You might want to increase the number of iterations. Duality gap: 1160186253.2369385, tolerance: 765173968.0789372\n",
      "  tol, rng, random, positive)\n",
      "C:\\ProgramData\\Anaconda3\\envs\\dsi\\lib\\site-packages\\sklearn\\linear_model\\_coordinate_descent.py:527: ConvergenceWarning: Objective did not converge. You might want to increase the number of iterations. Duality gap: 1111470264.3728027, tolerance: 765173968.0789372\n",
      "  tol, rng, random, positive)\n",
      "C:\\ProgramData\\Anaconda3\\envs\\dsi\\lib\\site-packages\\sklearn\\linear_model\\_coordinate_descent.py:527: ConvergenceWarning: Objective did not converge. You might want to increase the number of iterations. Duality gap: 1767690959.4648438, tolerance: 765173968.0789372\n",
      "  tol, rng, random, positive)\n",
      "C:\\ProgramData\\Anaconda3\\envs\\dsi\\lib\\site-packages\\sklearn\\linear_model\\_coordinate_descent.py:527: ConvergenceWarning: Objective did not converge. You might want to increase the number of iterations. Duality gap: 2379890265.661133, tolerance: 765173968.0789372\n",
      "  tol, rng, random, positive)\n",
      "C:\\ProgramData\\Anaconda3\\envs\\dsi\\lib\\site-packages\\sklearn\\linear_model\\_coordinate_descent.py:527: ConvergenceWarning: Objective did not converge. You might want to increase the number of iterations. Duality gap: 2746666991.8430176, tolerance: 765173968.0789372\n",
      "  tol, rng, random, positive)\n",
      "C:\\ProgramData\\Anaconda3\\envs\\dsi\\lib\\site-packages\\sklearn\\linear_model\\_coordinate_descent.py:527: ConvergenceWarning: Objective did not converge. You might want to increase the number of iterations. Duality gap: 2955143731.565674, tolerance: 765173968.0789372\n",
      "  tol, rng, random, positive)\n",
      "C:\\ProgramData\\Anaconda3\\envs\\dsi\\lib\\site-packages\\sklearn\\linear_model\\_coordinate_descent.py:527: ConvergenceWarning: Objective did not converge. You might want to increase the number of iterations. Duality gap: 3069274340.102356, tolerance: 765173968.0789372\n",
      "  tol, rng, random, positive)\n",
      "C:\\ProgramData\\Anaconda3\\envs\\dsi\\lib\\site-packages\\sklearn\\linear_model\\_coordinate_descent.py:527: ConvergenceWarning: Objective did not converge. You might want to increase the number of iterations. Duality gap: 3129180235.4882812, tolerance: 765173968.0789372\n",
      "  tol, rng, random, positive)\n",
      "C:\\ProgramData\\Anaconda3\\envs\\dsi\\lib\\site-packages\\sklearn\\linear_model\\_coordinate_descent.py:527: ConvergenceWarning: Objective did not converge. You might want to increase the number of iterations. Duality gap: 3158600692.065674, tolerance: 765173968.0789372\n",
      "  tol, rng, random, positive)\n",
      "C:\\ProgramData\\Anaconda3\\envs\\dsi\\lib\\site-packages\\sklearn\\linear_model\\_coordinate_descent.py:527: ConvergenceWarning: Objective did not converge. You might want to increase the number of iterations. Duality gap: 1079517196.7559814, tolerance: 728111335.081926\n",
      "  tol, rng, random, positive)\n",
      "C:\\ProgramData\\Anaconda3\\envs\\dsi\\lib\\site-packages\\sklearn\\linear_model\\_coordinate_descent.py:527: ConvergenceWarning: Objective did not converge. You might want to increase the number of iterations. Duality gap: 1203878726.6243286, tolerance: 728111335.081926\n",
      "  tol, rng, random, positive)\n",
      "C:\\ProgramData\\Anaconda3\\envs\\dsi\\lib\\site-packages\\sklearn\\linear_model\\_coordinate_descent.py:527: ConvergenceWarning: Objective did not converge. You might want to increase the number of iterations. Duality gap: 1177471716.475891, tolerance: 728111335.081926\n",
      "  tol, rng, random, positive)\n",
      "C:\\ProgramData\\Anaconda3\\envs\\dsi\\lib\\site-packages\\sklearn\\linear_model\\_coordinate_descent.py:527: ConvergenceWarning: Objective did not converge. You might want to increase the number of iterations. Duality gap: 2115023442.4523926, tolerance: 728111335.081926\n",
      "  tol, rng, random, positive)\n",
      "C:\\ProgramData\\Anaconda3\\envs\\dsi\\lib\\site-packages\\sklearn\\linear_model\\_coordinate_descent.py:527: ConvergenceWarning: Objective did not converge. You might want to increase the number of iterations. Duality gap: 1212823818.269043, tolerance: 728111335.081926\n",
      "  tol, rng, random, positive)\n",
      "C:\\ProgramData\\Anaconda3\\envs\\dsi\\lib\\site-packages\\sklearn\\linear_model\\_coordinate_descent.py:527: ConvergenceWarning: Objective did not converge. You might want to increase the number of iterations. Duality gap: 1219132829.8468018, tolerance: 728111335.081926\n",
      "  tol, rng, random, positive)\n",
      "C:\\ProgramData\\Anaconda3\\envs\\dsi\\lib\\site-packages\\sklearn\\linear_model\\_coordinate_descent.py:527: ConvergenceWarning: Objective did not converge. You might want to increase the number of iterations. Duality gap: 1194516158.3184204, tolerance: 728111335.081926\n",
      "  tol, rng, random, positive)\n",
      "C:\\ProgramData\\Anaconda3\\envs\\dsi\\lib\\site-packages\\sklearn\\linear_model\\_coordinate_descent.py:527: ConvergenceWarning: Objective did not converge. You might want to increase the number of iterations. Duality gap: 1172313683.0916748, tolerance: 728111335.081926\n",
      "  tol, rng, random, positive)\n",
      "C:\\ProgramData\\Anaconda3\\envs\\dsi\\lib\\site-packages\\sklearn\\linear_model\\_coordinate_descent.py:527: ConvergenceWarning: Objective did not converge. You might want to increase the number of iterations. Duality gap: 1152305000.8706055, tolerance: 728111335.081926\n",
      "  tol, rng, random, positive)\n",
      "C:\\ProgramData\\Anaconda3\\envs\\dsi\\lib\\site-packages\\sklearn\\linear_model\\_coordinate_descent.py:527: ConvergenceWarning: Objective did not converge. You might want to increase the number of iterations. Duality gap: 1148527701.0581055, tolerance: 728111335.081926\n",
      "  tol, rng, random, positive)\n",
      "C:\\ProgramData\\Anaconda3\\envs\\dsi\\lib\\site-packages\\sklearn\\linear_model\\_coordinate_descent.py:527: ConvergenceWarning: Objective did not converge. You might want to increase the number of iterations. Duality gap: 3429733597.347351, tolerance: 728111335.081926\n",
      "  tol, rng, random, positive)\n",
      "C:\\ProgramData\\Anaconda3\\envs\\dsi\\lib\\site-packages\\sklearn\\linear_model\\_coordinate_descent.py:527: ConvergenceWarning: Objective did not converge. You might want to increase the number of iterations. Duality gap: 7088061521.840698, tolerance: 728111335.081926\n",
      "  tol, rng, random, positive)\n",
      "C:\\ProgramData\\Anaconda3\\envs\\dsi\\lib\\site-packages\\sklearn\\linear_model\\_coordinate_descent.py:527: ConvergenceWarning: Objective did not converge. You might want to increase the number of iterations. Duality gap: 9762104330.682495, tolerance: 728111335.081926\n",
      "  tol, rng, random, positive)\n",
      "C:\\ProgramData\\Anaconda3\\envs\\dsi\\lib\\site-packages\\sklearn\\linear_model\\_coordinate_descent.py:527: ConvergenceWarning: Objective did not converge. You might want to increase the number of iterations. Duality gap: 11562100040.959778, tolerance: 728111335.081926\n",
      "  tol, rng, random, positive)\n",
      "C:\\ProgramData\\Anaconda3\\envs\\dsi\\lib\\site-packages\\sklearn\\linear_model\\_coordinate_descent.py:527: ConvergenceWarning: Objective did not converge. You might want to increase the number of iterations. Duality gap: 12740679730.408264, tolerance: 728111335.081926\n",
      "  tol, rng, random, positive)\n",
      "C:\\ProgramData\\Anaconda3\\envs\\dsi\\lib\\site-packages\\sklearn\\linear_model\\_coordinate_descent.py:527: ConvergenceWarning: Objective did not converge. You might want to increase the number of iterations. Duality gap: 13499841351.729248, tolerance: 728111335.081926\n",
      "  tol, rng, random, positive)\n",
      "C:\\ProgramData\\Anaconda3\\envs\\dsi\\lib\\site-packages\\sklearn\\linear_model\\_coordinate_descent.py:527: ConvergenceWarning: Objective did not converge. You might want to increase the number of iterations. Duality gap: 13985095072.699615, tolerance: 728111335.081926\n",
      "  tol, rng, random, positive)\n",
      "C:\\ProgramData\\Anaconda3\\envs\\dsi\\lib\\site-packages\\sklearn\\linear_model\\_coordinate_descent.py:527: ConvergenceWarning: Objective did not converge. You might want to increase the number of iterations. Duality gap: 14292154189.81073, tolerance: 728111335.081926\n",
      "  tol, rng, random, positive)\n",
      "C:\\ProgramData\\Anaconda3\\envs\\dsi\\lib\\site-packages\\sklearn\\linear_model\\_coordinate_descent.py:527: ConvergenceWarning: Objective did not converge. You might want to increase the number of iterations. Duality gap: 14484070348.12732, tolerance: 728111335.081926\n",
      "  tol, rng, random, positive)\n",
      "C:\\ProgramData\\Anaconda3\\envs\\dsi\\lib\\site-packages\\sklearn\\linear_model\\_coordinate_descent.py:527: ConvergenceWarning: Objective did not converge. You might want to increase the number of iterations. Duality gap: 1756656252.9709473, tolerance: 772211507.7439198\n",
      "  tol, rng, random, positive)\n",
      "C:\\ProgramData\\Anaconda3\\envs\\dsi\\lib\\site-packages\\sklearn\\linear_model\\_coordinate_descent.py:527: ConvergenceWarning: Objective did not converge. You might want to increase the number of iterations. Duality gap: 1025245154.2323608, tolerance: 772211507.7439198\n",
      "  tol, rng, random, positive)\n",
      "C:\\ProgramData\\Anaconda3\\envs\\dsi\\lib\\site-packages\\sklearn\\linear_model\\_coordinate_descent.py:527: ConvergenceWarning: Objective did not converge. You might want to increase the number of iterations. Duality gap: 1073087586.526123, tolerance: 772211507.7439198\n",
      "  tol, rng, random, positive)\n",
      "C:\\ProgramData\\Anaconda3\\envs\\dsi\\lib\\site-packages\\sklearn\\linear_model\\_coordinate_descent.py:527: ConvergenceWarning: Objective did not converge. You might want to increase the number of iterations. Duality gap: 1070675740.197998, tolerance: 772211507.7439198\n",
      "  tol, rng, random, positive)\n",
      "C:\\ProgramData\\Anaconda3\\envs\\dsi\\lib\\site-packages\\sklearn\\linear_model\\_coordinate_descent.py:527: ConvergenceWarning: Objective did not converge. You might want to increase the number of iterations. Duality gap: 3126799662.2263184, tolerance: 772211507.7439198\n",
      "  tol, rng, random, positive)\n",
      "C:\\ProgramData\\Anaconda3\\envs\\dsi\\lib\\site-packages\\sklearn\\linear_model\\_coordinate_descent.py:527: ConvergenceWarning: Objective did not converge. You might want to increase the number of iterations. Duality gap: 6253150580.517578, tolerance: 772211507.7439198\n",
      "  tol, rng, random, positive)\n",
      "C:\\ProgramData\\Anaconda3\\envs\\dsi\\lib\\site-packages\\sklearn\\linear_model\\_coordinate_descent.py:527: ConvergenceWarning: Objective did not converge. You might want to increase the number of iterations. Duality gap: 8238915676.144409, tolerance: 772211507.7439198\n",
      "  tol, rng, random, positive)\n",
      "C:\\ProgramData\\Anaconda3\\envs\\dsi\\lib\\site-packages\\sklearn\\linear_model\\_coordinate_descent.py:527: ConvergenceWarning: Objective did not converge. You might want to increase the number of iterations. Duality gap: 9393478043.324463, tolerance: 772211507.7439198\n",
      "  tol, rng, random, positive)\n",
      "C:\\ProgramData\\Anaconda3\\envs\\dsi\\lib\\site-packages\\sklearn\\linear_model\\_coordinate_descent.py:527: ConvergenceWarning: Objective did not converge. You might want to increase the number of iterations. Duality gap: 10043257897.229614, tolerance: 772211507.7439198\n",
      "  tol, rng, random, positive)\n",
      "C:\\ProgramData\\Anaconda3\\envs\\dsi\\lib\\site-packages\\sklearn\\linear_model\\_coordinate_descent.py:527: ConvergenceWarning: Objective did not converge. You might want to increase the number of iterations. Duality gap: 10401893461.692749, tolerance: 772211507.7439198\n",
      "  tol, rng, random, positive)\n",
      "C:\\ProgramData\\Anaconda3\\envs\\dsi\\lib\\site-packages\\sklearn\\linear_model\\_coordinate_descent.py:527: ConvergenceWarning: Objective did not converge. You might want to increase the number of iterations. Duality gap: 2585876789.091736, tolerance: 793391548.3753586\n",
      "  tol, rng, random, positive)\n",
      "C:\\ProgramData\\Anaconda3\\envs\\dsi\\lib\\site-packages\\sklearn\\linear_model\\_coordinate_descent.py:527: ConvergenceWarning: Objective did not converge. You might want to increase the number of iterations. Duality gap: 4434810300.565918, tolerance: 793391548.3753586\n",
      "  tol, rng, random, positive)\n",
      "C:\\ProgramData\\Anaconda3\\envs\\dsi\\lib\\site-packages\\sklearn\\linear_model\\_coordinate_descent.py:527: ConvergenceWarning: Objective did not converge. You might want to increase the number of iterations. Duality gap: 1737464010.319641, tolerance: 793391548.3753586\n",
      "  tol, rng, random, positive)\n",
      "C:\\ProgramData\\Anaconda3\\envs\\dsi\\lib\\site-packages\\sklearn\\linear_model\\_coordinate_descent.py:527: ConvergenceWarning: Objective did not converge. You might want to increase the number of iterations. Duality gap: 7748614358.635986, tolerance: 793391548.3753586\n",
      "  tol, rng, random, positive)\n",
      "C:\\ProgramData\\Anaconda3\\envs\\dsi\\lib\\site-packages\\sklearn\\linear_model\\_coordinate_descent.py:527: ConvergenceWarning: Objective did not converge. You might want to increase the number of iterations. Duality gap: 13104416373.322266, tolerance: 793391548.3753586\n",
      "  tol, rng, random, positive)\n",
      "C:\\ProgramData\\Anaconda3\\envs\\dsi\\lib\\site-packages\\sklearn\\linear_model\\_coordinate_descent.py:527: ConvergenceWarning: Objective did not converge. You might want to increase the number of iterations. Duality gap: 17078531291.822754, tolerance: 793391548.3753586\n",
      "  tol, rng, random, positive)\n",
      "C:\\ProgramData\\Anaconda3\\envs\\dsi\\lib\\site-packages\\sklearn\\linear_model\\_coordinate_descent.py:527: ConvergenceWarning: Objective did not converge. You might want to increase the number of iterations. Duality gap: 19893296326.320312, tolerance: 793391548.3753586\n",
      "  tol, rng, random, positive)\n",
      "C:\\ProgramData\\Anaconda3\\envs\\dsi\\lib\\site-packages\\sklearn\\linear_model\\_coordinate_descent.py:527: ConvergenceWarning: Objective did not converge. You might want to increase the number of iterations. Duality gap: 21851638442.01837, tolerance: 793391548.3753586\n",
      "  tol, rng, random, positive)\n",
      "C:\\ProgramData\\Anaconda3\\envs\\dsi\\lib\\site-packages\\sklearn\\linear_model\\_coordinate_descent.py:527: ConvergenceWarning: Objective did not converge. You might want to increase the number of iterations. Duality gap: 23213723072.865387, tolerance: 793391548.3753586\n",
      "  tol, rng, random, positive)\n",
      "C:\\ProgramData\\Anaconda3\\envs\\dsi\\lib\\site-packages\\sklearn\\linear_model\\_coordinate_descent.py:527: ConvergenceWarning: Objective did not converge. You might want to increase the number of iterations. Duality gap: 22560739094.740417, tolerance: 793391548.3753586\n",
      "  tol, rng, random, positive)\n",
      "C:\\ProgramData\\Anaconda3\\envs\\dsi\\lib\\site-packages\\sklearn\\linear_model\\_coordinate_descent.py:527: ConvergenceWarning: Objective did not converge. You might want to increase the number of iterations. Duality gap: 23883335467.868164, tolerance: 793391548.3753586\n",
      "  tol, rng, random, positive)\n"
     ]
    }
   ],
   "source": [
    "# From Lesson 4.02 on Logistic Regression! Thanks Adi Brohnstein\n",
    "\n",
    "l_alphas = np.logspace(0, 5, 100)\n",
    "# Cross-validate over our list of lasso alphas.\n",
    "lasso_cv = LassoCV(alphas=l_alphas)\n",
    "\n",
    "# Fit model using best ridge alpha!\n",
    "lasso_cv.fit(X_train_sc, y_train);"
   ]
  },
  {
   "cell_type": "code",
   "execution_count": 259,
   "metadata": {},
   "outputs": [],
   "source": [
    "y_pred = lasso_cv.predict(X_test_sc)"
   ]
  },
  {
   "cell_type": "code",
   "execution_count": 260,
   "metadata": {},
   "outputs": [
    {
     "data": {
      "text/plain": [
       "0.9488036470580115"
      ]
     },
     "execution_count": 260,
     "metadata": {},
     "output_type": "execute_result"
    }
   ],
   "source": [
    "lasso_cv.score(X_test_sc, y_test)"
   ]
  },
  {
   "cell_type": "code",
   "execution_count": 261,
   "metadata": {},
   "outputs": [
    {
     "name": "stdout",
     "output_type": "stream",
     "text": [
      "The MSE is 18065.847772032066\n"
     ]
    }
   ],
   "source": [
    "print(f'The MSE is {metrics.mean_squared_error(y_test, y_pred, squared=False)}')"
   ]
  },
  {
   "cell_type": "code",
   "execution_count": 262,
   "metadata": {},
   "outputs": [
    {
     "name": "stdout",
     "output_type": "stream",
     "text": [
      "The Baseline RMSE is 79843.36540784538\n"
     ]
    }
   ],
   "source": [
    "# Baseline Model\n",
    "null_pred = np.zeros_like(y_test)\n",
    "null_pred = null_pred + y_test.mean()\n",
    "print(f'The Baseline RMSE is {metrics.mean_squared_error(y_test, null_pred, squared=False)}')"
   ]
  },
  {
   "cell_type": "markdown",
   "metadata": {},
   "source": [
    "## The Model is drastically outperforming the Baseline!"
   ]
  },
  {
   "cell_type": "code",
   "execution_count": 263,
   "metadata": {},
   "outputs": [],
   "source": [
    "resids = y_test - y_pred"
   ]
  },
  {
   "cell_type": "code",
   "execution_count": 264,
   "metadata": {},
   "outputs": [
    {
     "data": {
      "image/png": "[encoded data removed]",
      "text/plain": [
       "<Figure size 432x288 with 1 Axes>"
      ]
     },
     "metadata": {
      "needs_background": "light"
     },
     "output_type": "display_data"
    }
   ],
   "source": [
    "plt.scatter(y_pred, resids, alpha=0.5)\n",
    "plt.title('Plot of residuals');"
   ]
  },
  {
   "cell_type": "markdown",
   "metadata": {},
   "source": [
    "This residual plot looks similar to the others, still not doing a great job predicting homes over 220k"
   ]
  },
  {
   "cell_type": "code",
   "execution_count": 265,
   "metadata": {},
   "outputs": [
    {
     "data": {
      "text/html": [
       "<div>\n",
       "<style scoped>\n",
       "    .dataframe tbody tr th:only-of-type {\n",
       "        vertical-align: middle;\n",
       "    }\n",
       "\n",
       "    .dataframe tbody tr th {\n",
       "        vertical-align: top;\n",
       "    }\n",
       "\n",
       "    .dataframe thead th {\n",
       "        text-align: right;\n",
       "    }\n",
       "</style>\n",
       "<table border=\"1\" class=\"dataframe\">\n",
       "  <thead>\n",
       "    <tr style=\"text-align: right;\">\n",
       "      <th></th>\n",
       "      <th>Id</th>\n",
       "      <th>SalePrice</th>\n",
       "    </tr>\n",
       "  </thead>\n",
       "  <tbody>\n",
       "    <tr>\n",
       "      <th>count</th>\n",
       "      <td>878.000000</td>\n",
       "      <td>878.000000</td>\n",
       "    </tr>\n",
       "    <tr>\n",
       "      <th>mean</th>\n",
       "      <td>1444.749431</td>\n",
       "      <td>181538.850717</td>\n",
       "    </tr>\n",
       "    <tr>\n",
       "      <th>std</th>\n",
       "      <td>850.838263</td>\n",
       "      <td>76236.250579</td>\n",
       "    </tr>\n",
       "    <tr>\n",
       "      <th>min</th>\n",
       "      <td>2.000000</td>\n",
       "      <td>23773.625867</td>\n",
       "    </tr>\n",
       "    <tr>\n",
       "      <th>25%</th>\n",
       "      <td>692.250000</td>\n",
       "      <td>131928.719392</td>\n",
       "    </tr>\n",
       "    <tr>\n",
       "      <th>50%</th>\n",
       "      <td>1433.000000</td>\n",
       "      <td>163164.406307</td>\n",
       "    </tr>\n",
       "    <tr>\n",
       "      <th>75%</th>\n",
       "      <td>2197.500000</td>\n",
       "      <td>212954.239680</td>\n",
       "    </tr>\n",
       "    <tr>\n",
       "      <th>max</th>\n",
       "      <td>2928.000000</td>\n",
       "      <td>675718.115730</td>\n",
       "    </tr>\n",
       "  </tbody>\n",
       "</table>\n",
       "</div>"
      ],
      "text/plain": [
       "                Id      SalePrice\n",
       "count   878.000000     878.000000\n",
       "mean   1444.749431  181538.850717\n",
       "std     850.838263   76236.250579\n",
       "min       2.000000   23773.625867\n",
       "25%     692.250000  131928.719392\n",
       "50%    1433.000000  163164.406307\n",
       "75%    2197.500000  212954.239680\n",
       "max    2928.000000  675718.115730"
      ]
     },
     "execution_count": 265,
     "metadata": {},
     "output_type": "execute_result"
    }
   ],
   "source": [
    "houses_test_cleaned['SalePrice'] = lasso_cv.predict(X_real_test_sc)\n",
    "\n",
    "submission = houses_test_cleaned[['Id', 'SalePrice']]\n",
    "submission[submission['SalePrice'] < 0]\n",
    "submission.describe()"
   ]
  },
  {
   "cell_type": "code",
   "execution_count": 214,
   "metadata": {},
   "outputs": [],
   "source": [
    "submission.to_csv('../submissions/test59_lasso.csv', index=False)"
   ]
  },
  {
   "cell_type": "code",
   "execution_count": null,
   "metadata": {},
   "outputs": [],
   "source": []
  }
 ],
 "metadata": {
  "kernelspec": {
   "display_name": "Python 3",
   "language": "python",
   "name": "python3"
  },
  "language_info": {
   "codemirror_mode": {
    "name": "ipython",
    "version": 3
   },
   "file_extension": ".py",
   "mimetype": "text/x-python",
   "name": "python",
   "nbconvert_exporter": "python",
   "pygments_lexer": "ipython3",
   "version": "3.7.7"
  }
 },
 "nbformat": 4,
 "nbformat_minor": 4
}
