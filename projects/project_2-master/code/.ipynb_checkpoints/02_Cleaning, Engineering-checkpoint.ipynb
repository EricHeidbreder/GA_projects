{
 "cells": [
  {
   "cell_type": "code",
   "execution_count": 7,
   "metadata": {},
   "outputs": [],
   "source": [
    "import pandas as pd\n",
    "import numpy as np\n",
    "from my_functions import *"
   ]
  },
  {
   "cell_type": "code",
   "execution_count": 8,
   "metadata": {},
   "outputs": [],
   "source": [
    "houses_train = pd.read_csv('../datasets/train.csv')\n",
    "houses_test = pd.read_csv('../datasets/test.csv')"
   ]
  },
  {
   "cell_type": "markdown",
   "metadata": {},
   "source": [
    "# Cleaning, Engineering, and Selecting Features\n",
    "\n",
    "In this Notebook, I'll be cleaning data, engineering features, and selecting features for my model using insights from my data exploration in the [previous EDA notebook](01_EDA.ipynb). \n",
    "**Note that the actual functions are stored in `my_functions.py`**"
   ]
  },
  {
   "cell_type": "markdown",
   "metadata": {},
   "source": [
    "## Feature Engineering"
   ]
  },
  {
   "cell_type": "markdown",
   "metadata": {},
   "source": [
    "### Removing Outliers\n",
    "* Homes over 4000 in 1st Flr SF\n",
    "* Homes over 4000 in Gr Liv Area\n",
    "* Garage with Year built 2207"
   ]
  },
  {
   "cell_type": "code",
   "execution_count": 14,
   "metadata": {},
   "outputs": [],
   "source": [
    "def remove_outliers(data):\n",
    "    return data[(data['1st Flr SF'] < 4000) &\n",
    "               (data['Gr Liv Area'] < 4000) &\n",
    "               (data['Garage Yr Blt'] != 2207)]"
   ]
  },
  {
   "cell_type": "markdown",
   "metadata": {},
   "source": [
    "### Imputing missing data \n",
    "Imputing with 0 or NA, depending on whether the data is categorical or continuous. According to the [data dictionary](http://jse.amstat.org/v19n3/decock/DataDocumentation.txt), most NaN values are intentional and signal that the home doesn't have a particular feature."
   ]
  },
  {
   "cell_type": "code",
   "execution_count": 15,
   "metadata": {},
   "outputs": [],
   "source": [
    "# Thanks Will Badr for this! https://towardsdatascience.com/6-different-ways-to-compensate-for-missing-values-data-imputation-with-examples-6022d9ca0779\n",
    "def imp_data(data):\n",
    "    has_nulls = data.isnull().mean() != 0\n",
    "    null_columns = data.columns[has_nulls]\n",
    "    for column in null_columns:\n",
    "        try:\n",
    "            data[column] + 1 # If this doesn't throw an error, it means it's an integer/float, and NaN values likely mean the value is 0\n",
    "            data[column].fillna(0, inplace=True)\n",
    "        except:\n",
    "            data[column].fillna('NA', inplace=True)"
   ]
  },
  {
   "cell_type": "markdown",
   "metadata": {},
   "source": [
    "### Creating Dummies\n",
    "I chose to dummify most nominal categories. Later, I'll select features based on correlation and significance"
   ]
  },
  {
   "cell_type": "code",
   "execution_count": 18,
   "metadata": {},
   "outputs": [],
   "source": [
    "def category_to_dummies(dataframe, list_of_columns):\n",
    "    for column in list_of_columns:\n",
    "        dummy_split = pd.get_dummies(dataframe[column], column, drop_first=True) # Creates dummy columns with the name {column}_{value_in_row} per get_dummies documentation\n",
    "        for dummy_key in dummy_split: # Iterates through dummy_key in dummy_split\n",
    "            dataframe[dummy_key] = dummy_split[dummy_key] # adds new columns named {dummy_key} to original dataframe"
   ]
  },
  {
   "cell_type": "code",
   "execution_count": 16,
   "metadata": {},
   "outputs": [],
   "source": [
    "# choosing categories to dummify\n",
    "nominal_categories = [\n",
    "                      'MS Zoning',\n",
    "                      'MS SubClass',\n",
    "                      'Foundation',\n",
    "                      'BsmtFin Type 1',\n",
    "                      'BsmtFin Type 2',\n",
    "                      'Exterior 1st',\n",
    "                      'Exterior 2nd',\n",
    "                      'Heating',\n",
    "                      'Street',\n",
    "                      'Neighborhood',\n",
    "                      'Garage Finish',\n",
    "                      'Lot Config',\n",
    "                      'BsmtFin Type 1',\n",
    "                      'BsmtFin Type 2',\n",
    "                      'Lot Shape',\n",
    "                      'Roof Matl',\n",
    "                      'Roof Style',\n",
    "                      'Lot Shape',\n",
    "                      'Land Contour',\n",
    "                      'Utilities',\n",
    "                      'Land Slope',\n",
    "                      'House Style',\n",
    "                      'Electrical',\n",
    "                      'Garage Type',\n",
    "                      'Sale Type',\n",
    "                      'Functional',\n",
    "                      'Exter Qual',\n",
    "                      'Exter Cond',\n",
    "                      'Bsmt Qual',\n",
    "                      'Condition 1',\n",
    "                      'Condition 2',\n",
    "                      'Bsmt Cond',\n",
    "                      'Heating QC',\n",
    "                      'Kitchen Qual',\n",
    "                      'Fireplace Qu',\n",
    "                      'Garage Qual',\n",
    "                      'Garage Cond',\n",
    "                      'Pool QC', \n",
    "                      'Full Bath',\n",
    "                      'Half Bath',\n",
    "                      'Bedroom AbvGr',\n",
    "                      'Kitchen AbvGr',\n",
    "                      'TotRms AbvGrd',\n",
    "                     ]"
   ]
  },
  {
   "cell_type": "markdown",
   "metadata": {},
   "source": [
    "### Creating Logs\n",
    "Took the log of some columns in order to make the distribution of values more normal. This helped to predict homes with `SalePrice` outside of the interquartile range."
   ]
  },
  {
   "cell_type": "code",
   "execution_count": 17,
   "metadata": {},
   "outputs": [],
   "source": [
    "categories_to_log = ['Lot Area', '1st Flr SF', 'BsmtFin SF 1', 'Gr Liv Area']"
   ]
  }
 ],
 "metadata": {
  "kernelspec": {
   "display_name": "Python 3",
   "language": "python",
   "name": "python3"
  },
  "language_info": {
   "codemirror_mode": {
    "name": "ipython",
    "version": 3
   },
   "file_extension": ".py",
   "mimetype": "text/x-python",
   "name": "python",
   "nbconvert_exporter": "python",
   "pygments_lexer": "ipython3",
   "version": "3.7.7"
  }
 },
 "nbformat": 4,
 "nbformat_minor": 4
}
