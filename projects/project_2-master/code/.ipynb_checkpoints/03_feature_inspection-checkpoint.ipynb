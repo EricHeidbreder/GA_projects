{
 "cells": [
  {
   "cell_type": "markdown",
   "metadata": {},
   "source": [
    "## Feature Inspection\n",
    "\n",
    "In this notebook, I've created a pairplot that lets me quickly look at my features to check for multicollinearity. I found that the `Year Built`, `Garage Yr Blt`, and `Year Remod/Add` features were multicollinear, and I also removed some of the Square Footage columns that were collinear with interaction features, in the end, I removed the following:\n",
    "\n",
    "`['1st Flr SF',\n",
    "'2nd Flr SF',\n",
    "'Gr Liv Area',\n",
    "'Garage Area',\n",
    "'Year Built',\n",
    "'Garage Yr Blt',\n",
    "'age_of_garage'\n",
    "'Year Remod/Add']`\n",
    "\n",
    "Below, you can see some of the columns I wanted to compare that I decided to keep."
   ]
  },
  {
   "cell_type": "code",
   "execution_count": 4,
   "metadata": {},
   "outputs": [],
   "source": [
    "import pandas as pd\n",
    "import numpy as np\n",
    "import matplotlib.pyplot as plt\n",
    "import seaborn as sns"
   ]
  },
  {
   "cell_type": "code",
   "execution_count": 5,
   "metadata": {},
   "outputs": [],
   "source": [
    "houses_train_clean = pd.read_csv('../datasets/cleaned/houses_train_clean.csv')\n",
    "houses_test_clean = pd.read_csv('../datasets/cleaned/houses_test_clean.csv')"
   ]
  },
  {
   "cell_type": "markdown",
   "metadata": {},
   "source": [
    "![](./images/age_of_garage_and_home_pairplot.png)"
   ]
  },
  {
   "cell_type": "markdown",
   "metadata": {},
   "source": [
    "# What's next?"
   ]
  },
  {
   "cell_type": "markdown",
   "metadata": {},
   "source": [
    "Now I can select my features using LASSO regression"
   ]
  }
 ],
 "metadata": {
  "kernelspec": {
   "display_name": "Python 3",
   "language": "python",
   "name": "python3"
  },
  "language_info": {
   "codemirror_mode": {
    "name": "ipython",
    "version": 3
   },
   "file_extension": ".py",
   "mimetype": "text/x-python",
   "name": "python",
   "nbconvert_exporter": "python",
   "pygments_lexer": "ipython3",
   "version": "3.7.7"
  }
 },
 "nbformat": 4,
 "nbformat_minor": 4
}
