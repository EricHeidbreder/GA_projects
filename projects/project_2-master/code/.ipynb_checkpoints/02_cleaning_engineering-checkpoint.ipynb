{
 "cells": [
  {
   "cell_type": "markdown",
   "metadata": {},
   "source": [
    "# Cleaning, Engineering, and Selecting Features\n",
    "\n",
    "In this Notebook, I'll be cleaning data, engineering features, and selecting features for my model using insights from my data exploration in the [previous EDA notebook](01_EDA.ipynb). \n",
    "**Note that all functions are stored in `my_functions.py`**"
   ]
  },
  {
   "cell_type": "markdown",
   "metadata": {},
   "source": [
    "### Imports and reading in data"
   ]
  },
  {
   "cell_type": "code",
   "execution_count": 35,
   "metadata": {},
   "outputs": [],
   "source": [
    "import pandas as pd\n",
    "import numpy as np\n",
    "from my_functions import clean_test_data_export_csv"
   ]
  },
  {
   "cell_type": "code",
   "execution_count": 36,
   "metadata": {},
   "outputs": [],
   "source": [
    "houses_train = pd.read_csv('../datasets/train.csv')\n",
    "houses_test = pd.read_csv('../datasets/test.csv')"
   ]
  },
  {
   "cell_type": "markdown",
   "metadata": {},
   "source": [
    "## Feature Engineering"
   ]
  },
  {
   "cell_type": "markdown",
   "metadata": {},
   "source": [
    "### Removing Outliers\n",
    "* Homes over 4000 in 1st Flr SF\n",
    "* Homes over 4000 in Gr Liv Area\n",
    "* Garage with Year built 2207"
   ]
  },
  {
   "cell_type": "code",
   "execution_count": 37,
   "metadata": {},
   "outputs": [],
   "source": [
    "def remove_outliers(data):\n",
    "    return data[(data['Gr Liv Area'] < 4000) &\n",
    "               (data['Garage Yr Blt'] != 2207)]"
   ]
  },
  {
   "cell_type": "code",
   "execution_count": 38,
   "metadata": {},
   "outputs": [],
   "source": [
    "houses_train = remove_outliers(houses_train.copy())"
   ]
  },
  {
   "cell_type": "markdown",
   "metadata": {},
   "source": [
    "### Imputing missing data \n",
    "Imputing with 0 or NA, depending on whether the data is categorical or continuous. According to the [data dictionary](http://jse.amstat.org/v19n3/decock/DataDocumentation.txt), most NaN values are intentional and signal that the home doesn't have a particular feature."
   ]
  },
  {
   "cell_type": "code",
   "execution_count": 39,
   "metadata": {},
   "outputs": [],
   "source": [
    "# Thanks Will Badr for this! https://towardsdatascience.com/6-different-ways-to-compensate-for-missing-values-data-imputation-with-examples-6022d9ca0779\n",
    "def imp_data(data):\n",
    "    has_nulls = data.isnull().mean() != 0\n",
    "    null_columns = data.columns[has_nulls]\n",
    "    for column in null_columns:\n",
    "        try:\n",
    "            data[column] + 1 # If this doesn't throw an error, it means it's an integer/float, and NaN values likely mean the value is 0\n",
    "            data[column].fillna(0, inplace=True)\n",
    "        except:\n",
    "            data[column].fillna('NA', inplace=True)"
   ]
  },
  {
   "cell_type": "code",
   "execution_count": 40,
   "metadata": {},
   "outputs": [],
   "source": [
    "imp_data(houses_train)"
   ]
  },
  {
   "cell_type": "markdown",
   "metadata": {},
   "source": [
    "### Creating Dummies\n",
    "I chose to dummify most nominal categories. Later, I'll select features based on correlation and significance"
   ]
  },
  {
   "cell_type": "code",
   "execution_count": 41,
   "metadata": {},
   "outputs": [],
   "source": [
    "def category_to_dummies(dataframe, list_of_columns):\n",
    "    for column in list_of_columns:\n",
    "        dummy_split = pd.get_dummies(dataframe[column], column, drop_first=True) # Creates dummy columns with the name {column}_{value_in_row} per get_dummies documentation\n",
    "        for dummy_key in dummy_split: # Iterates through dummy_key in dummy_split\n",
    "            dataframe[dummy_key] = dummy_split[dummy_key] # adds new columns named {dummy_key} to original dataframe"
   ]
  },
  {
   "cell_type": "code",
   "execution_count": 42,
   "metadata": {},
   "outputs": [],
   "source": [
    "# choosing categories to dummify\n",
    "nominal_categories = [\n",
    "                      'MS Zoning',\n",
    "                      'MS SubClass',\n",
    "                      'Foundation',\n",
    "                      'BsmtFin Type 1',\n",
    "                      'BsmtFin Type 2',\n",
    "                      'Exterior 1st',\n",
    "                      'Exterior 2nd',\n",
    "                      'Heating',\n",
    "                      'Street',\n",
    "                      'Neighborhood',\n",
    "                      'Garage Finish',\n",
    "                      'Lot Config',\n",
    "                      'BsmtFin Type 1',\n",
    "                      'BsmtFin Type 2',\n",
    "                      'Lot Shape',\n",
    "                      'Roof Matl',\n",
    "                      'Roof Style',\n",
    "                      'Lot Shape',\n",
    "                      'Land Contour',\n",
    "                      'Utilities',\n",
    "                      'Land Slope',\n",
    "                      'House Style',\n",
    "                      'Electrical',\n",
    "                      'Garage Type',\n",
    "                      'Sale Type',\n",
    "                      'Functional',\n",
    "                      'Exter Qual',\n",
    "                      'Exter Cond',\n",
    "                      'Bsmt Qual',\n",
    "                      'Condition 1',\n",
    "                      'Condition 2',\n",
    "                      'Bsmt Cond',\n",
    "                      'Heating QC',\n",
    "                      'Kitchen Qual',\n",
    "                      'Fireplace Qu',\n",
    "                      'Garage Qual',\n",
    "                      'Garage Cond',\n",
    "                      'Pool QC', \n",
    "                      'Full Bath',\n",
    "                      'Half Bath',\n",
    "                      'Bedroom AbvGr',\n",
    "                      'Kitchen AbvGr',\n",
    "                      'TotRms AbvGrd',\n",
    "                     ]"
   ]
  },
  {
   "cell_type": "code",
   "execution_count": 43,
   "metadata": {},
   "outputs": [],
   "source": [
    "category_to_dummies(houses_train, nominal_categories)"
   ]
  },
  {
   "cell_type": "markdown",
   "metadata": {},
   "source": [
    "### Engineering New Features\n",
    "\n",
    "I wanted to create some new features based on some of my data exploration:\n",
    "* Convert `Year Built` into two categories, **Pre-1983** and **1983 to present**\n",
    "* Convert home years into ages (`Year Built`, `Year Remod/Add`)\n",
    "* Make `has_garage` feature to determine whether a home has a garage or not"
   ]
  },
  {
   "cell_type": "code",
   "execution_count": 44,
   "metadata": {},
   "outputs": [],
   "source": [
    "def create_new_features(data):\n",
    "# Separating data into two groups, one pre 1982, one after 1982\n",
    "    greater_than_1982 = data['Year Built'] > 1982\n",
    "    data['built_1983_to_present'] = np.where(greater_than_1982, 1, 0)\n",
    "# Convert years into ages\n",
    "    data['age_of_home'] = 2010 - data['Year Built'] \n",
    "    data['years_since_remodel'] = data['Year Remod/Add'].apply(lambda x: 2010 - x if x != 0 else x)\n",
    "    data['has_garage'] = np.where(data['Garage Yr Blt'] > 0, 1, 0)"
   ]
  },
  {
   "cell_type": "code",
   "execution_count": 45,
   "metadata": {},
   "outputs": [],
   "source": [
    "create_new_features(houses_train)"
   ]
  },
  {
   "cell_type": "markdown",
   "metadata": {},
   "source": [
    "### Creating Logs\n",
    "Took the log of some columns in order to make the distribution of values more normal. This helped to predict homes with `SalePrice` outside of the interquartile range."
   ]
  },
  {
   "cell_type": "code",
   "execution_count": 46,
   "metadata": {},
   "outputs": [],
   "source": [
    "categories_to_log = ['Lot Area', 'BsmtFin SF 1']"
   ]
  },
  {
   "cell_type": "code",
   "execution_count": 47,
   "metadata": {},
   "outputs": [],
   "source": [
    "def log_cols(data, columns):\n",
    "    change_0_to_1 = lambda x: 1 if x <= 0 else x\n",
    "    for column in columns:\n",
    "        temp_df = data[column].apply(change_0_to_1)\n",
    "        data[f\"log_{column.replace(' ', '_').lower()}\"] = np.log(temp_df)"
   ]
  },
  {
   "cell_type": "code",
   "execution_count": 48,
   "metadata": {},
   "outputs": [],
   "source": [
    "log_cols(houses_train, categories_to_log)"
   ]
  },
  {
   "cell_type": "markdown",
   "metadata": {},
   "source": [
    "### Looking at Feature Correlation"
   ]
  },
  {
   "cell_type": "code",
   "execution_count": 49,
   "metadata": {},
   "outputs": [
    {
     "data": {
      "text/html": [
       "<div>\n",
       "<style scoped>\n",
       "    .dataframe tbody tr th:only-of-type {\n",
       "        vertical-align: middle;\n",
       "    }\n",
       "\n",
       "    .dataframe tbody tr th {\n",
       "        vertical-align: top;\n",
       "    }\n",
       "\n",
       "    .dataframe thead th {\n",
       "        text-align: right;\n",
       "    }\n",
       "</style>\n",
       "<table border=\"1\" class=\"dataframe\">\n",
       "  <thead>\n",
       "    <tr style=\"text-align: right;\">\n",
       "      <th></th>\n",
       "      <th>SalePrice</th>\n",
       "    </tr>\n",
       "  </thead>\n",
       "  <tbody>\n",
       "    <tr>\n",
       "      <th>SalePrice</th>\n",
       "      <td>1.000000</td>\n",
       "    </tr>\n",
       "    <tr>\n",
       "      <th>Overall Qual</th>\n",
       "      <td>0.803336</td>\n",
       "    </tr>\n",
       "    <tr>\n",
       "      <th>Gr Liv Area</th>\n",
       "      <td>0.719598</td>\n",
       "    </tr>\n",
       "    <tr>\n",
       "      <th>Total Bsmt SF</th>\n",
       "      <td>0.664912</td>\n",
       "    </tr>\n",
       "    <tr>\n",
       "      <th>Garage Area</th>\n",
       "      <td>0.655215</td>\n",
       "    </tr>\n",
       "    <tr>\n",
       "      <th>Garage Cars</th>\n",
       "      <td>0.648271</td>\n",
       "    </tr>\n",
       "    <tr>\n",
       "      <th>1st Flr SF</th>\n",
       "      <td>0.648054</td>\n",
       "    </tr>\n",
       "    <tr>\n",
       "      <th>Exter Qual_TA</th>\n",
       "      <td>0.600715</td>\n",
       "    </tr>\n",
       "    <tr>\n",
       "      <th>built_1983_to_present</th>\n",
       "      <td>0.598625</td>\n",
       "    </tr>\n",
       "    <tr>\n",
       "      <th>Year Built</th>\n",
       "      <td>0.572148</td>\n",
       "    </tr>\n",
       "    <tr>\n",
       "      <th>age_of_home</th>\n",
       "      <td>0.572148</td>\n",
       "    </tr>\n",
       "    <tr>\n",
       "      <th>Year Remod/Add</th>\n",
       "      <td>0.550614</td>\n",
       "    </tr>\n",
       "    <tr>\n",
       "      <th>years_since_remodel</th>\n",
       "      <td>0.550614</td>\n",
       "    </tr>\n",
       "    <tr>\n",
       "      <th>Kitchen Qual_TA</th>\n",
       "      <td>0.541018</td>\n",
       "    </tr>\n",
       "    <tr>\n",
       "      <th>Full Bath</th>\n",
       "      <td>0.538050</td>\n",
       "    </tr>\n",
       "  </tbody>\n",
       "</table>\n",
       "</div>"
      ],
      "text/plain": [
       "                       SalePrice\n",
       "SalePrice               1.000000\n",
       "Overall Qual            0.803336\n",
       "Gr Liv Area             0.719598\n",
       "Total Bsmt SF           0.664912\n",
       "Garage Area             0.655215\n",
       "Garage Cars             0.648271\n",
       "1st Flr SF              0.648054\n",
       "Exter Qual_TA           0.600715\n",
       "built_1983_to_present   0.598625\n",
       "Year Built              0.572148\n",
       "age_of_home             0.572148\n",
       "Year Remod/Add          0.550614\n",
       "years_since_remodel     0.550614\n",
       "Kitchen Qual_TA         0.541018\n",
       "Full Bath               0.538050"
      ]
     },
     "execution_count": 49,
     "metadata": {},
     "output_type": "execute_result"
    }
   ],
   "source": [
    "# Plotting the absolute value of the correlation of each feature with SalePrice\n",
    "abs(houses_train.drop(columns=['Id', 'PID']).corr()).sort_values(by='SalePrice', ascending=False)[['SalePrice']].head(15)"
   ]
  },
  {
   "cell_type": "markdown",
   "metadata": {},
   "source": [
    "These are the top correlated features, note that this is the absolute values, so some of these are negatively correlated with sale price if all other variables are held constant."
   ]
  },
  {
   "cell_type": "code",
   "execution_count": 50,
   "metadata": {},
   "outputs": [],
   "source": [
    "# # Uncomment for an informative (but bulky correlation heatmap)\n",
    "# plt.figure(figsize=(1, 70))\n",
    "# sns.heatmap(houses_train.drop(columns=['Id', 'PID']).corr().sort_values(by='SalePrice', ascending=False)[['SalePrice']],\n",
    "#             vmin=-1,\n",
    "#             vmax=1,\n",
    "#             cmap='RdBu')\n",
    "# plt.yticks(fontsize=8);"
   ]
  },
  {
   "cell_type": "markdown",
   "metadata": {},
   "source": [
    "It looks like `Overall Qual` is the strongest correlated feature we have with `SalePrice`. From the data dictionary, we can see that Overall Qual is defined as:\n",
    ">The overall material and finish of the house on a scale of 1-10.\n",
    "\n",
    "We'll be using a combination of a **correlation and p-value thresholds** to be selecting features for the model, eventually. For now, the highly correlated features you see above will be the basis for creating interaction terms. "
   ]
  },
  {
   "cell_type": "markdown",
   "metadata": {},
   "source": [
    "### Creating Interaction Terms\n",
    "\n",
    "Since I know that `Overall Qual` is related to the material and finish of the house, many of these interaction terms will be highlighting the interaction between `Overall Qual` and features of the home that are related to the material and finish. Some other interaction terms include:\n",
    "* `Overall Qual x Neighborhood`: a few neighborhoods that had relatively high absolute correlation values\n",
    "* `age_of_home x age_of_garage`: the ages had strong correlations, I wanted to take into account the relationship between home age and garage age"
   ]
  },
  {
   "cell_type": "code",
   "execution_count": 51,
   "metadata": {},
   "outputs": [],
   "source": [
    "def create_interaction_terms(data):\n",
    "    data['Overall Qual x Gr Liv Area'] =  data['Overall Qual'] * data['Gr Liv Area']\n",
    "    data['Overall Qual x Exter Qual_Gd'] = data['Overall Qual'] * data['Exter Qual_Gd']\n",
    "    data['Overall Qual x Exter Qual_TA'] = data['Overall Qual'] * data['Exter Qual_TA']\n",
    "    data['Overall Qual x Foundation_PConc'] = data['Overall Qual'] * data['Foundation_PConc']\n",
    "    data['Overall Qual x BsmtFin Type 1_GLQ'] = data['Overall Qual'] * data['BsmtFin Type 1_GLQ']\n",
    "    data['Overall Qual x Full Bath_1'] = data['Overall Qual'] * data['Full Bath_1']\n",
    "    data['Overall Qual x Full Bath_2'] = data['Overall Qual'] * data['Full Bath_2']\n",
    "    data['Overall Qual x Fireplace Qu_NA'] = data['Overall Qual'] * data['Fireplace Qu_NA']\n",
    "    data['Overall Qual x Garage Cars'] = data['Overall Qual'] * data['Garage Cars']\n",
    "    data['Overall Qual x Garage Area'] = data['Overall Qual'] * data['Garage Area']\n",
    "    data['Overall Qual x Exterior 1st_VinylSd'] = data['Overall Qual'] * data['Exterior 1st_VinylSd']\n",
    "    data['Overall Qual x Exterior 2nd_VinylSd'] = data['Overall Qual'] * data['Exterior 2nd_VinylSd']"
   ]
  },
  {
   "cell_type": "code",
   "execution_count": 52,
   "metadata": {},
   "outputs": [],
   "source": [
    "create_interaction_terms(houses_train)"
   ]
  },
  {
   "cell_type": "markdown",
   "metadata": {},
   "source": [
    "### Removing Collinear Features\n",
    "\n",
    "Since I've made all these features, I need to remove some of the collinear features"
   ]
  },
  {
   "cell_type": "code",
   "execution_count": 53,
   "metadata": {},
   "outputs": [],
   "source": [
    "def remove_features(data):\n",
    "    features_to_remove = [\n",
    "                          '2nd Flr SF',\n",
    "                          'Gr Liv Area',\n",
    "                            'Garage Area',\n",
    "                            'Year Built',\n",
    "                          'Garage Yr Blt',\n",
    "                          'Year Remod/Add',\n",
    "        'MS SubClass',\n",
    "        'Garage Cars'\n",
    "                         ]\n",
    "    columns_rm = [col for col in data.columns if col not in features_to_remove]\n",
    "    return columns_rm"
   ]
  },
  {
   "cell_type": "code",
   "execution_count": 54,
   "metadata": {},
   "outputs": [],
   "source": [
    "columns_rm = remove_features(houses_train)"
   ]
  },
  {
   "cell_type": "code",
   "execution_count": 55,
   "metadata": {},
   "outputs": [],
   "source": [
    "houses_train_clean = houses_train[columns_rm]"
   ]
  },
  {
   "cell_type": "markdown",
   "metadata": {},
   "source": [
    "### Storing the Cleaned Data\n",
    "\n",
    "Now it's time to actually call all the functions I've been making. I do this using--you guessed it--**another function**. I export the data after it's cleaned and the new features have been added/columns have been removed."
   ]
  },
  {
   "cell_type": "code",
   "execution_count": 56,
   "metadata": {},
   "outputs": [],
   "source": [
    "houses_train_clean.to_csv(f'../datasets/cleaned/houses_train_clean.csv', index=False)"
   ]
  },
  {
   "cell_type": "code",
   "execution_count": 57,
   "metadata": {},
   "outputs": [],
   "source": [
    "# Rather than do this all twice for my test data, I've packed all my functions into a larger function that does all of the above steps to the test data\n",
    "clean_test_data_export_csv(houses_test, nominal_categories, categories_to_log).to_csv(f'../datasets/cleaned/houses_test_clean.csv', index=False)"
   ]
  },
  {
   "cell_type": "markdown",
   "metadata": {},
   "source": [
    "## What's next?\n",
    "I've got the clean data stored and ready to model, but I want to do one final scan to make sure there's no multicollinearity"
   ]
  }
 ],
 "metadata": {
  "kernelspec": {
   "display_name": "Python 3",
   "language": "python",
   "name": "python3"
  },
  "language_info": {
   "codemirror_mode": {
    "name": "ipython",
    "version": 3
   },
   "file_extension": ".py",
   "mimetype": "text/x-python",
   "name": "python",
   "nbconvert_exporter": "python",
   "pygments_lexer": "ipython3",
   "version": "3.7.7"
  }
 },
 "nbformat": 4,
 "nbformat_minor": 4
}
