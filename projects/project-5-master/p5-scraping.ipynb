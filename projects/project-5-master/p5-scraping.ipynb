{
 "cells": [
  {
   "cell_type": "code",
   "execution_count": 2,
   "metadata": {},
   "outputs": [],
   "source": [
    "import pandas as pd\n",
    "import numpy as np\n",
    "import matplotlib.pyplot as plt\n",
    "from bs4 import BeautifulSoup\n",
    "import requests"
   ]
  },
  {
   "cell_type": "markdown",
   "metadata": {},
   "source": [
    "## Chicago Tribune Covid Timeline Scraping (Illinois, World, and US)"
   ]
  },
  {
   "cell_type": "code",
   "execution_count": 74,
   "metadata": {},
   "outputs": [],
   "source": [
    "url = 'https://graphics.chicagotribune.com/coronavirus-pandemic-timeline/blurb.html?initialWidth=331&childId=timeline-blurb&parentTitle=COVID-19%20timeline%3A%20How%20the%20coronavirus%20pandemic%20unfolded%20-%20Chicago%20Tribune&parentUrl=https%3A%2F%2Fwww.chicagotribune.com%2Fcoronavirus%2Fct-viz-coronavirus-timeline-20200507-uvrzs32nljabrpn6vkzq7m2fpq-story.html'"
   ]
  },
  {
   "cell_type": "code",
   "execution_count": 75,
   "metadata": {},
   "outputs": [],
   "source": [
    "res = requests.get(url)"
   ]
  },
  {
   "cell_type": "code",
   "execution_count": 76,
   "metadata": {},
   "outputs": [
    {
     "data": {
      "text/plain": [
       "200"
      ]
     },
     "execution_count": 76,
     "metadata": {},
     "output_type": "execute_result"
    }
   ],
   "source": [
    "res.status_code"
   ]
  },
  {
   "cell_type": "code",
   "execution_count": 77,
   "metadata": {},
   "outputs": [],
   "source": [
    "soup = BeautifulSoup(res.content, 'lxml')"
   ]
  },
  {
   "cell_type": "code",
   "execution_count": 81,
   "metadata": {},
   "outputs": [],
   "source": [
    "event_log = pd.DataFrame(columns=['region', 'event', 'date', 'links'])"
   ]
  },
  {
   "cell_type": "code",
   "execution_count": 276,
   "metadata": {},
   "outputs": [],
   "source": [
    "date_list = []\n",
    "event_list = []\n",
    "region_list = []\n",
    "links_list = []\n",
    "for i in range(len(div_event)): # All the div class='event'\n",
    "    for _ in div_event[i].find_all('div'): # Number of divs in each event\n",
    "        date_list.append(div_event[i].find('p', {'class' : \"event__time\"}).text)\n",
    "        \n",
    "    # Thank you John Clements on SO: https://stackoverflow.com/questions/\n",
    "    # 14257717/python-beautifulsoup-wildcard-attribute-id-search\n",
    "    for region in div_event[i].find_all('p', {'class' : lambda l: l and l.startswith('subcategory')}):\n",
    "        region_list.append(region.text)\n",
    "        \n",
    "    for event in div_event[i].find_all('div'):\n",
    "        # Thanks Cyrbil on SO: https://stackoverflow.com/questions/34111426/\n",
    "        # how-do-i-pull-p-tags-without-attributes-using-beautiful-soup\n",
    "        event_paragraph_temp = [] \n",
    "        for text in event.find_all(lambda tag: tag.name == 'p' and not tag.attrs):\n",
    "            # Create temporary list because some divs had multiple p tags and they weren't formatted the same\n",
    "            event_paragraph_temp.append(text.text)\n",
    "        # Now join the list to event_list as one string\n",
    "        event_list.append(''.join(event_paragraph_temp))\n",
    "        \n",
    "        if event.find('a'): # If there's a link in the event \n",
    "            # From https://pythonspot.com/extract-links-from-webpage-beautifulsoup/\n",
    "            links_list.append(event.find('a').get('href')) \n",
    "        else:\n",
    "            links_list.append(np.nan)\n",
    "        \n",
    "\n",
    "    \n",
    "    "
   ]
  },
  {
   "cell_type": "code",
   "execution_count": 277,
   "metadata": {},
   "outputs": [],
   "source": [
    "event_log['date'] = date_list"
   ]
  },
  {
   "cell_type": "code",
   "execution_count": 278,
   "metadata": {},
   "outputs": [],
   "source": [
    "event_log['region'] = region_list"
   ]
  },
  {
   "cell_type": "code",
   "execution_count": 279,
   "metadata": {},
   "outputs": [],
   "source": [
    "event_log['event'] = event_list"
   ]
  },
  {
   "cell_type": "code",
   "execution_count": 280,
   "metadata": {},
   "outputs": [],
   "source": [
    "event_log['links'] = links_list"
   ]
  },
  {
   "cell_type": "markdown",
   "metadata": {},
   "source": [
    "## Texas Covid Timeline Scraping"
   ]
  },
  {
   "cell_type": "code",
   "execution_count": 244,
   "metadata": {},
   "outputs": [],
   "source": [
    "url = 'https://graphics.texastribune.org/graphics/coronavirus-timeline-2020-06/'"
   ]
  },
  {
   "cell_type": "code",
   "execution_count": 245,
   "metadata": {},
   "outputs": [],
   "source": [
    "res = requests.get(url)"
   ]
  },
  {
   "cell_type": "code",
   "execution_count": 246,
   "metadata": {},
   "outputs": [
    {
     "data": {
      "text/plain": [
       "200"
      ]
     },
     "execution_count": 246,
     "metadata": {},
     "output_type": "execute_result"
    }
   ],
   "source": [
    "res.status_code"
   ]
  },
  {
   "cell_type": "code",
   "execution_count": 247,
   "metadata": {},
   "outputs": [],
   "source": [
    "soup = BeautifulSoup(res.content, 'lxml')"
   ]
  },
  {
   "cell_type": "code",
   "execution_count": 250,
   "metadata": {},
   "outputs": [],
   "source": [
    "div_stories = soup.find_all('div', {'class': 'story-item'})"
   ]
  },
  {
   "cell_type": "code",
   "execution_count": 273,
   "metadata": {},
   "outputs": [
    {
     "data": {
      "text/plain": [
       "[<p class=\"story-prose\"></p>,\n",
       " <p class=\"story-prose\">The novel coronavirus made news in Texas just two months into 2020. In February, San Antonio’s Lackland Air Force Base began housing people who had been overseas and exposed to the new coronavirus.</p>,\n",
       " <p class=\"story-prose\">Weeks later, San Antonio Mayor Ron Nirenberg declares a public health emergency over COVID-19 and demands that 120 people who were expected to be released from a two-week quarantine at the base be held longer for additional medical testing. He also <a href=\"https://www.texastribune.org/2020/03/02/texas-gov-greg-abbott-asks-cdc-fix-coronavirus-quarantine-protocols/\">bans quarantine evacuees</a> from entering his city.</p>]"
      ]
     },
     "execution_count": 273,
     "metadata": {},
     "output_type": "execute_result"
    }
   ],
   "source": [
    "div_stories[0].find_all('p', {'class': 'story-prose'})"
   ]
  },
  {
   "cell_type": "code",
   "execution_count": 301,
   "metadata": {},
   "outputs": [],
   "source": [
    "date_list = []\n",
    "event_list = []\n",
    "region_list = []\n",
    "links_list = []\n",
    "\n",
    "for i in range(len(div_stories)):\n",
    "    date_list.append(div_stories[i].find('span', {'class': 'story-time'}).text)\n",
    "    event_temp_list = []\n",
    "    links_temp_list = []\n",
    "    for text in div_stories[i].find_all('p', {'class': 'story-prose'}):\n",
    "        event_temp_list.append(text.text)\n",
    "        if text.find('a'): # If there's a link in the text \n",
    "            links_temp_list.append(text.find('a').get('href')) \n",
    "        else:\n",
    "            pass\n",
    "    event_list.append(' '.join(event_temp_list))\n",
    "    links_list.append(links_temp_list)\n",
    "    "
   ]
  },
  {
   "cell_type": "code",
   "execution_count": 262,
   "metadata": {},
   "outputs": [],
   "source": [
    "tx_event_log = pd.DataFrame(columns=['region', 'event', 'date', 'links'])"
   ]
  },
  {
   "cell_type": "code",
   "execution_count": 263,
   "metadata": {},
   "outputs": [],
   "source": [
    "tx_event_log['date'] = date_list"
   ]
  },
  {
   "cell_type": "code",
   "execution_count": 283,
   "metadata": {},
   "outputs": [],
   "source": [
    "tx_event_log['region'] = 'TEXAS'"
   ]
  },
  {
   "cell_type": "code",
   "execution_count": 298,
   "metadata": {},
   "outputs": [],
   "source": [
    "tx_event_log['event'] = event_list"
   ]
  },
  {
   "cell_type": "code",
   "execution_count": 302,
   "metadata": {},
   "outputs": [],
   "source": [
    "tx_event_log['links'] = links_list"
   ]
  },
  {
   "cell_type": "markdown",
   "metadata": {},
   "source": [
    "## Atlanta Covid Response Timeline"
   ]
  },
  {
   "cell_type": "code",
   "execution_count": 304,
   "metadata": {},
   "outputs": [],
   "source": [
    "url = 'https://www.atlantaga.gov/government/mayor-s-office/city-of-atlanta-covid-19-response'"
   ]
  },
  {
   "cell_type": "code",
   "execution_count": 305,
   "metadata": {},
   "outputs": [],
   "source": [
    "res = requests.get(url)"
   ]
  },
  {
   "cell_type": "code",
   "execution_count": 306,
   "metadata": {},
   "outputs": [
    {
     "data": {
      "text/plain": [
       "200"
      ]
     },
     "execution_count": 306,
     "metadata": {},
     "output_type": "execute_result"
    }
   ],
   "source": [
    "res.status_code"
   ]
  },
  {
   "cell_type": "code",
   "execution_count": 307,
   "metadata": {},
   "outputs": [],
   "source": [
    "soup = BeautifulSoup(res.content, 'lxml')"
   ]
  },
  {
   "cell_type": "code",
   "execution_count": 310,
   "metadata": {},
   "outputs": [],
   "source": [
    "div = soup.find('div', {'id': 'widget_4_9612_10151'})"
   ]
  },
  {
   "cell_type": "code",
   "execution_count": 332,
   "metadata": {},
   "outputs": [],
   "source": [
    "li = div.find('ul').find_all('li')"
   ]
  },
  {
   "cell_type": "code",
   "execution_count": 374,
   "metadata": {},
   "outputs": [],
   "source": [
    "date_list = []\n",
    "event_list = []\n",
    "\n",
    "for i in range(len(li)):\n",
    "    if li[i].find('b'):\n",
    "        # Most of the dates are within 'b' tags\n",
    "        date_list.append(li[i].find('b').text)\n",
    "    else:\n",
    "        # They seemed to switch up the way their html was laid out halfway through\n",
    "        date_list.append(li[i].find('strong').text.strip().strip('-').strip())\n",
    "    # Removed the first 3 words, which were the date\n",
    "    event_list.append(' '.join(li[i].text.split()[3:])) "
   ]
  },
  {
   "cell_type": "code",
   "execution_count": 355,
   "metadata": {},
   "outputs": [],
   "source": [
    "ga_event_log = pd.DataFrame(columns=['region', 'event', 'date', 'links'])"
   ]
  },
  {
   "cell_type": "code",
   "execution_count": 356,
   "metadata": {},
   "outputs": [],
   "source": [
    "ga_event_log['date'] = date_list"
   ]
  },
  {
   "cell_type": "code",
   "execution_count": 358,
   "metadata": {},
   "outputs": [],
   "source": [
    "ga_event_log['region'] = 'GEORGIA'"
   ]
  },
  {
   "cell_type": "code",
   "execution_count": 378,
   "metadata": {},
   "outputs": [],
   "source": [
    "ga_event_log['event'] = event_list"
   ]
  },
  {
   "cell_type": "markdown",
   "metadata": {},
   "source": [
    "## Joining all the dataframes"
   ]
  },
  {
   "cell_type": "code",
   "execution_count": 381,
   "metadata": {},
   "outputs": [],
   "source": [
    "master_event_log = pd.concat([event_log, tx_event_log, ga_event_log], axis=0)"
   ]
  },
  {
   "cell_type": "code",
   "execution_count": 387,
   "metadata": {},
   "outputs": [],
   "source": [
    "master_event_log.loc[~master_event_log['date'].str.endswith('2020'), 'date'] = master_event_log.loc[~master_event_log['date'].str.endswith('2020'), 'date'].apply(lambda x: x + ' 2020')"
   ]
  },
  {
   "cell_type": "code",
   "execution_count": 1,
   "metadata": {},
   "outputs": [
    {
     "ename": "NameError",
     "evalue": "name 'pd' is not defined",
     "output_type": "error",
     "traceback": [
      "\u001b[1;31m---------------------------------------------------------------------------\u001b[0m",
      "\u001b[1;31mNameError\u001b[0m                                 Traceback (most recent call last)",
      "\u001b[1;32m<ipython-input-1-826a3eccb11b>\u001b[0m in \u001b[0;36m<module>\u001b[1;34m\u001b[0m\n\u001b[1;32m----> 1\u001b[1;33m \u001b[0mmaster_event_log\u001b[0m\u001b[1;33m[\u001b[0m\u001b[1;34m'date'\u001b[0m\u001b[1;33m]\u001b[0m \u001b[1;33m=\u001b[0m \u001b[0mpd\u001b[0m\u001b[1;33m.\u001b[0m\u001b[0mto_datetime\u001b[0m\u001b[1;33m(\u001b[0m\u001b[0mmaster_event_log\u001b[0m\u001b[1;33m[\u001b[0m\u001b[1;34m'date'\u001b[0m\u001b[1;33m]\u001b[0m\u001b[1;33m)\u001b[0m\u001b[1;33m\u001b[0m\u001b[1;33m\u001b[0m\u001b[0m\n\u001b[0m",
      "\u001b[1;31mNameError\u001b[0m: name 'pd' is not defined"
     ]
    }
   ],
   "source": [
    "master_event_log['date'] = pd.to_datetime(master_event_log['date'])"
   ]
  },
  {
   "cell_type": "code",
   "execution_count": 3,
   "metadata": {},
   "outputs": [],
   "source": [
    "master_event_log = pd.read_csv('./data/master_event_log.csv')"
   ]
  },
  {
   "cell_type": "code",
   "execution_count": 10,
   "metadata": {},
   "outputs": [],
   "source": [
    "master_event_log = master_event_log[master_event_log['event'].notnull()]"
   ]
  },
  {
   "cell_type": "code",
   "execution_count": 12,
   "metadata": {},
   "outputs": [],
   "source": [
    "master_event_log.to_csv('./data/master_event_log.csv', index=False)"
   ]
  }
 ],
 "metadata": {
  "kernelspec": {
   "display_name": "Python 3",
   "language": "python",
   "name": "python3"
  },
  "language_info": {
   "codemirror_mode": {
    "name": "ipython",
    "version": 3
   },
   "file_extension": ".py",
   "mimetype": "text/x-python",
   "name": "python",
   "nbconvert_exporter": "python",
   "pygments_lexer": "ipython3",
   "version": "3.7.9"
  }
 },
 "nbformat": 4,
 "nbformat_minor": 4
}
