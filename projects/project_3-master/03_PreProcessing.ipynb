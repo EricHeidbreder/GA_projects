{
 "cells": [
  {
   "cell_type": "code",
   "execution_count": 2,
   "metadata": {},
   "outputs": [],
   "source": [
    "import pandas as pd\n",
    "import numpy as np\n",
    "from sklearn.model_selection import train_test_split\n",
    "from bs4 import BeautifulSoup\n",
    "from nltk.tokenize import RegexpTokenizer\n",
    "from nltk.stem.porter import PorterStemmer\n",
    "from collections import Counter\n",
    "from nltk.corpus import stopwords"
   ]
  },
  {
   "cell_type": "code",
   "execution_count": 3,
   "metadata": {},
   "outputs": [],
   "source": [
    "# Reading in data\n",
    "reddit = pd.read_csv('./data/reddit_clean.csv')"
   ]
  },
  {
   "cell_type": "code",
   "execution_count": 5,
   "metadata": {},
   "outputs": [
    {
     "data": {
      "text/plain": [
       "0"
      ]
     },
     "execution_count": 5,
     "metadata": {},
     "output_type": "execute_result"
    }
   ],
   "source": [
    "reddit.rename(columns={'Unnamed: 0' : 'id'})"
   ]
  },
  {
   "cell_type": "code",
   "execution_count": 11,
   "metadata": {},
   "outputs": [],
   "source": [
    "# Defining a tokenizer/stemmer to use in my CountVectorizer/TfidfVectorizer in the next notebook\n",
    "def tokenize_and_stem(text):\n",
    "    # Getting rid of links\n",
    "    text = [word for word in text.lower().split() if not 'http' in word]\n",
    "    text = ' '.join(text)\n",
    "    \n",
    "    # Remove HTML Artifacts\n",
    "    bs = BeautifulSoup(text)\n",
    "    text = bs.get_text()\n",
    "    \n",
    "    # Tokenize clean text by separating out all word characters\n",
    "    tokenizer = RegexpTokenizer('\\w+')\n",
    "    tokens = tokenizer.tokenize(text)\n",
    "    \n",
    "    # Stem the tokens\n",
    "    p_stemmer = PorterStemmer()\n",
    "    return [p_stemmer.stem(i) for i in tokens]"
   ]
  },
  {
   "cell_type": "markdown",
   "metadata": {},
   "source": [
    "#### I want to see what my most frequent words are to determine if I need to add any other words to the standard English stop words"
   ]
  },
  {
   "cell_type": "code",
   "execution_count": 12,
   "metadata": {},
   "outputs": [],
   "source": [
    "processed_posts = [tokenize_and_stem(row) for row in reddit['selftext']]"
   ]
  },
  {
   "cell_type": "code",
   "execution_count": 13,
   "metadata": {},
   "outputs": [
    {
     "data": {
      "text/plain": [
       "['here',\n",
       " 's',\n",
       " 'a',\n",
       " 'playlist',\n",
       " 'for',\n",
       " 'you',\n",
       " 'left',\n",
       " 'of',\n",
       " 'the',\n",
       " 'dial',\n",
       " 'clean',\n",
       " 'sound',\n",
       " 'fun',\n",
       " 'by',\n",
       " 'left',\n",
       " 'of',\n",
       " 'the',\n",
       " 'dial']"
      ]
     },
     "execution_count": 13,
     "metadata": {},
     "output_type": "execute_result"
    }
   ],
   "source": [
    "processed_posts[8]"
   ]
  },
  {
   "cell_type": "code",
   "execution_count": 40,
   "metadata": {},
   "outputs": [],
   "source": [
    "# Creating a stop word list based on what I've determined as popular words that aren't helpful\n",
    "stop_words = [\n",
    "    'https',\n",
    "    'com',\n",
    "    'www',\n",
    "    'amp',\n",
    "    'like',\n",
    "    'just',\n",
    "    'spotify',\n",
    "    'because',\n",
    "    'song',\n",
    "    'music',\n",
    "    'album',\n",
    "    'want',\n",
    "    'would',\n",
    "    'make',\n",
    "    'know'\n",
    "]"
   ]
  },
  {
   "cell_type": "code",
   "execution_count": 41,
   "metadata": {},
   "outputs": [],
   "source": [
    "# Concatenating the english stop words list with my custom list\n",
    "custom_sw = stopwords.words('english') + stop_words"
   ]
  },
  {
   "cell_type": "code",
   "execution_count": 42,
   "metadata": {},
   "outputs": [],
   "source": [
    "# Processing my stop words in the same way I'll process my data\n",
    "processed_sw = tokenize_and_stem(' '.join(custom_sw))"
   ]
  },
  {
   "cell_type": "code",
   "execution_count": 43,
   "metadata": {},
   "outputs": [],
   "source": [
    "processed_words = [word for post in processed_posts for word in post if word not in processed_sw]"
   ]
  },
  {
   "cell_type": "code",
   "execution_count": 44,
   "metadata": {},
   "outputs": [],
   "source": [
    "c = Counter(processed_words)"
   ]
  },
  {
   "cell_type": "code",
   "execution_count": 45,
   "metadata": {},
   "outputs": [
    {
     "data": {
      "text/plain": [
       "[('punk', 2972),\n",
       " ('band', 2161),\n",
       " ('get', 918),\n",
       " ('pop', 894),\n",
       " ('one', 838),\n",
       " ('new', 807),\n",
       " ('listen', 776),\n",
       " ('think', 771),\n",
       " ('time', 750),\n",
       " ('peopl', 740),\n",
       " ('realli', 718),\n",
       " ('love', 696),\n",
       " ('year', 694),\n",
       " ('go', 676),\n",
       " ('look', 671),\n",
       " ('anyon', 582),\n",
       " ('find', 523),\n",
       " ('guy', 496),\n",
       " ('show', 495),\n",
       " ('good', 489)]"
      ]
     },
     "execution_count": 45,
     "metadata": {},
     "output_type": "execute_result"
    }
   ],
   "source": [
    "c.most_common(20)"
   ]
  }
 ],
 "metadata": {
  "kernelspec": {
   "display_name": "Python 3",
   "language": "python",
   "name": "python3"
  },
  "language_info": {
   "codemirror_mode": {
    "name": "ipython",
    "version": 3
   },
   "file_extension": ".py",
   "mimetype": "text/x-python",
   "name": "python",
   "nbconvert_exporter": "python",
   "pygments_lexer": "ipython3",
   "version": "3.7.7"
  }
 },
 "nbformat": 4,
 "nbformat_minor": 4
}
