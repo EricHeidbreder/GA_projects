{
 "cells": [
  {
   "cell_type": "code",
   "execution_count": 1,
   "metadata": {},
   "outputs": [],
   "source": [
    "import requests\n",
    "import time\n",
    "import pandas as pd\n",
    "import numpy as np"
   ]
  },
  {
   "cell_type": "code",
   "execution_count": 2,
   "metadata": {},
   "outputs": [],
   "source": [
    "def get_response(base_url, subreddit):\n",
    "    return requests.get(base_url)"
   ]
  },
  {
   "cell_type": "code",
   "execution_count": 22,
   "metadata": {},
   "outputs": [],
   "source": [
    "def get_submissions(subreddits, num_posts):\n",
    "    posts = pd.DataFrame()\n",
    "    for i, subreddit in enumerate(subreddits):\n",
    "        print(f'Pulling posts from subreddit \"{subreddit}\"...')\n",
    "        base_url = 'https://api.pushshift.io/reddit/search/submission?limit=100&is_self=true&subreddit=' + '{}'.format(subreddit)\n",
    "        count = 0\n",
    "        while len(posts) < num_posts * (i+1): # I want to stop after I get all the posts I need. i+1 will multiply the subreddit count we're on.\n",
    "            count += 100\n",
    "            res = get_response(base_url, subreddit)\n",
    "            res_df = res.json()\n",
    "\n",
    "            posts = posts.append([res_df['data'][j] for j in range(len(res_df['data']))]) # Appending the new rows to the bottom of the empty \"posts\" dataframe\n",
    "            # Update URL with the 'created_utc' value from the last item we pulled. This will give us a starting point for our next 100 posts\n",
    "            try:\n",
    "                base_url = 'https://api.pushshift.io/reddit/search/submission?limit=100&is_self=true&subreddit=' + '{}'.format(subreddit) + '&before={}'.format(res_df['data'][99]['created_utc'])\n",
    "                time.sleep(4) # We want to be nice to the api and not get banned. Could be 3 seconds, but I don't trust time.sleep\n",
    "\n",
    "                if len(posts) % 200 == 0: # Give me some updates so I know the code is actually working\n",
    "                    print(f'Pulling {num_posts} posts from subreddit {subreddit}.....{round(len(posts) / num_posts * 100, 2)}% complete')\n",
    "            except:\n",
    "                print(f'Ran out of posts!')\n",
    "                break\n",
    "    \n",
    "        print('----------------------------------')\n",
    "        print(f'Finished pulling posts from subreddit \"{subreddit}\"')\n",
    "        print('----------------------------------')\n",
    "    print('Complete!!!!!!!!!!!')\n",
    "    return posts.reset_index(drop=True)"
   ]
  },
  {
   "cell_type": "code",
   "execution_count": 23,
   "metadata": {},
   "outputs": [
    {
     "name": "stdout",
     "output_type": "stream",
     "text": [
      "Pulling posts from subreddit \"punk\"...\n",
      "Pulling 1500 posts from subreddit punk.....13.33% complete\n",
      "Pulling 1500 posts from subreddit punk.....26.67% complete\n",
      "Pulling 1500 posts from subreddit punk.....40.0% complete\n",
      "Pulling 1500 posts from subreddit punk.....53.33% complete\n",
      "Pulling 1500 posts from subreddit punk.....66.67% complete\n",
      "Pulling 1500 posts from subreddit punk.....80.0% complete\n",
      "Pulling 1500 posts from subreddit punk.....93.33% complete\n",
      "----------------------------------\n",
      "Finished pulling posts from subreddit \"punk\"\n",
      "----------------------------------\n",
      "Pulling posts from subreddit \"grunge\"...\n",
      "Pulling 1500 posts from subreddit grunge.....53.33% complete\n",
      "Pulling 1500 posts from subreddit grunge.....60.0% complete\n",
      "Pulling 1500 posts from subreddit grunge.....66.67% complete\n",
      "Pulling 1500 posts from subreddit grunge.....73.33% complete\n",
      "Pulling 1500 posts from subreddit grunge.....80.0% complete\n",
      "Pulling 1500 posts from subreddit grunge.....86.67% complete\n",
      "Pulling 1500 posts from subreddit grunge.....93.33% complete\n",
      "Ran out of posts!\n",
      "----------------------------------\n",
      "Finished pulling posts from subreddit \"grunge\"\n",
      "----------------------------------\n",
      "Complete!!!!!!!!!!!\n"
     ]
    }
   ],
   "source": [
    "posts = get_submissions(['punk', 'grunge'], 1500)"
   ]
  },
  {
   "cell_type": "code",
   "execution_count": 19,
   "metadata": {},
   "outputs": [
    {
     "data": {
      "text/plain": [
       "(400, 72)"
      ]
     },
     "execution_count": 19,
     "metadata": {},
     "output_type": "execute_result"
    }
   ],
   "source": [
    "posts.shape"
   ]
  },
  {
   "cell_type": "code",
   "execution_count": 43,
   "metadata": {},
   "outputs": [],
   "source": [
    "posts.to_csv('./data/reddit_data.csv', index=False)"
   ]
  }
 ],
 "metadata": {
  "kernelspec": {
   "display_name": "Python 3",
   "language": "python",
   "name": "python3"
  },
  "language_info": {
   "codemirror_mode": {
    "name": "ipython",
    "version": 3
   },
   "file_extension": ".py",
   "mimetype": "text/x-python",
   "name": "python",
   "nbconvert_exporter": "python",
   "pygments_lexer": "ipython3",
   "version": "3.7.7"
  }
 },
 "nbformat": 4,
 "nbformat_minor": 4
}
