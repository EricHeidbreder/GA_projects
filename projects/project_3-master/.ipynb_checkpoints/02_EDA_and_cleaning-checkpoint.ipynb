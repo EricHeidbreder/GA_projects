{
 "cells": [
  {
   "cell_type": "markdown",
   "metadata": {},
   "source": [
    "## Exploratory Data Analysis and Cleaning\n",
    "In this workbook, I'll take a look at the 5000 total posts I pulled from the subreddits `punk` and `poppunkers` and clean the data based on my observations."
   ]
  },
  {
   "cell_type": "code",
   "execution_count": 134,
   "metadata": {},
   "outputs": [],
   "source": [
    "import numpy as np\n",
    "import pandas as pd\n",
    "import matplotlib.pyplot as plt\n",
    "import matplotlib.style as style\n",
    "import seaborn as sns"
   ]
  },
  {
   "cell_type": "code",
   "execution_count": 135,
   "metadata": {},
   "outputs": [],
   "source": [
    "posts = pd.read_csv('./data/reddit_data.csv')"
   ]
  },
  {
   "cell_type": "code",
   "execution_count": 136,
   "metadata": {},
   "outputs": [
    {
     "name": "stdout",
     "output_type": "stream",
     "text": [
      "<class 'pandas.core.frame.DataFrame'>\n",
      "RangeIndex: 5000 entries, 0 to 4999\n",
      "Data columns (total 79 columns):\n",
      " #   Column                         Non-Null Count  Dtype  \n",
      "---  ------                         --------------  -----  \n",
      " 0   all_awardings                  5000 non-null   object \n",
      " 1   allow_live_comments            5000 non-null   bool   \n",
      " 2   author                         5000 non-null   object \n",
      " 3   author_flair_css_class         316 non-null    object \n",
      " 4   author_flair_richtext          4859 non-null   object \n",
      " 5   author_flair_text              127 non-null    object \n",
      " 6   author_flair_type              4859 non-null   object \n",
      " 7   author_fullname                4859 non-null   object \n",
      " 8   author_patreon_flair           4859 non-null   object \n",
      " 9   author_premium                 4858 non-null   object \n",
      " 10  awarders                       5000 non-null   object \n",
      " 11  can_mod_post                   5000 non-null   bool   \n",
      " 12  contest_mode                   5000 non-null   bool   \n",
      " 13  created_utc                    5000 non-null   int64  \n",
      " 14  domain                         5000 non-null   object \n",
      " 15  full_link                      5000 non-null   object \n",
      " 16  gildings                       5000 non-null   object \n",
      " 17  id                             5000 non-null   object \n",
      " 18  is_crosspostable               5000 non-null   bool   \n",
      " 19  is_meta                        5000 non-null   bool   \n",
      " 20  is_original_content            5000 non-null   bool   \n",
      " 21  is_reddit_media_domain         5000 non-null   bool   \n",
      " 22  is_robot_indexable             5000 non-null   bool   \n",
      " 23  is_self                        5000 non-null   bool   \n",
      " 24  is_video                       5000 non-null   bool   \n",
      " 25  link_flair_background_color    0 non-null      float64\n",
      " 26  link_flair_css_class           689 non-null    object \n",
      " 27  link_flair_richtext            5000 non-null   object \n",
      " 28  link_flair_template_id         689 non-null    object \n",
      " 29  link_flair_text                2527 non-null   object \n",
      " 30  link_flair_text_color          5000 non-null   object \n",
      " 31  link_flair_type                5000 non-null   object \n",
      " 32  locked                         5000 non-null   bool   \n",
      " 33  media_only                     5000 non-null   bool   \n",
      " 34  no_follow                      5000 non-null   bool   \n",
      " 35  num_comments                   5000 non-null   int64  \n",
      " 36  num_crossposts                 5000 non-null   int64  \n",
      " 37  over_18                        5000 non-null   bool   \n",
      " 38  parent_whitelist_status        5000 non-null   object \n",
      " 39  permalink                      5000 non-null   object \n",
      " 40  pinned                         5000 non-null   bool   \n",
      " 41  pwls                           5000 non-null   int64  \n",
      " 42  retrieved_on                   5000 non-null   int64  \n",
      " 43  score                          5000 non-null   int64  \n",
      " 44  selftext                       4625 non-null   object \n",
      " 45  send_replies                   5000 non-null   bool   \n",
      " 46  spoiler                        5000 non-null   bool   \n",
      " 47  stickied                       5000 non-null   bool   \n",
      " 48  subreddit                      5000 non-null   object \n",
      " 49  subreddit_id                   5000 non-null   object \n",
      " 50  subreddit_subscribers          5000 non-null   int64  \n",
      " 51  subreddit_type                 5000 non-null   object \n",
      " 52  thumbnail                      5000 non-null   object \n",
      " 53  title                          5000 non-null   object \n",
      " 54  total_awards_received          5000 non-null   int64  \n",
      " 55  treatment_tags                 3286 non-null   object \n",
      " 56  upvote_ratio                   2673 non-null   float64\n",
      " 57  url                            5000 non-null   object \n",
      " 58  whitelist_status               5000 non-null   object \n",
      " 59  wls                            5000 non-null   int64  \n",
      " 60  post_hint                      934 non-null    object \n",
      " 61  preview                        934 non-null    object \n",
      " 62  poll_data                      192 non-null    object \n",
      " 63  media_metadata                 215 non-null    object \n",
      " 64  thumbnail_height               208 non-null    float64\n",
      " 65  thumbnail_width                208 non-null    float64\n",
      " 66  author_flair_template_id       231 non-null    object \n",
      " 67  author_flair_text_color        492 non-null    object \n",
      " 68  distinguished                  50 non-null     object \n",
      " 69  author_flair_background_color  30 non-null     object \n",
      " 70  removed_by_category            207 non-null    object \n",
      " 71  edited                         69 non-null     float64\n",
      " 72  author_cakeday                 12 non-null     object \n",
      " 73  media                          2 non-null      object \n",
      " 74  media_embed                    2 non-null      object \n",
      " 75  secure_media                   2 non-null      object \n",
      " 76  secure_media_embed             2 non-null      object \n",
      " 77  banned_by                      1 non-null      object \n",
      " 78  steward_reports                414 non-null    object \n",
      "dtypes: bool(18), float64(5), int64(9), object(47)\n",
      "memory usage: 2.4+ MB\n"
     ]
    }
   ],
   "source": [
    "posts.info()"
   ]
  },
  {
   "cell_type": "code",
   "execution_count": 137,
   "metadata": {},
   "outputs": [
    {
     "data": {
      "text/plain": [
       "subreddit\n",
       "poppunkers    2327\n",
       "punk          2298\n",
       "Name: selftext, dtype: int64"
      ]
     },
     "execution_count": 137,
     "metadata": {},
     "output_type": "execute_result"
    }
   ],
   "source": [
    "posts.groupby('subreddit').count()['selftext']"
   ]
  },
  {
   "cell_type": "markdown",
   "metadata": {},
   "source": [
    "We've got a pretty even number of non-null values in the `selftext` column, so let's go ahead with this and clean it up a bit to see where we end up!"
   ]
  },
  {
   "cell_type": "code",
   "execution_count": 138,
   "metadata": {},
   "outputs": [],
   "source": [
    "posts['post_wc'] = posts['selftext'].apply(lambda x: len(str(x).split())) # post_wc stands for post word count"
   ]
  },
  {
   "cell_type": "code",
   "execution_count": 139,
   "metadata": {},
   "outputs": [
    {
     "data": {
      "text/plain": [
       "1       0.1632\n",
       "2       0.0202\n",
       "5       0.0182\n",
       "4       0.0162\n",
       "28      0.0140\n",
       "         ...  \n",
       "298     0.0002\n",
       "286     0.0002\n",
       "270     0.0002\n",
       "250     0.0002\n",
       "1619    0.0002\n",
       "Name: post_wc, Length: 350, dtype: float64"
      ]
     },
     "execution_count": 139,
     "metadata": {},
     "output_type": "execute_result"
    }
   ],
   "source": [
    "posts['post_wc'].value_counts(normalize=True)"
   ]
  },
  {
   "cell_type": "code",
   "execution_count": 140,
   "metadata": {},
   "outputs": [
    {
     "data": {
      "image/png": "[encoded data removed]",
      "text/plain": [
       "<Figure size 576x360 with 1 Axes>"
      ]
     },
     "metadata": {},
     "output_type": "display_data"
    }
   ],
   "source": [
    "plt.figure(figsize=(8,5))\n",
    "posts_over_5_words['post_wc'].hist(bins=40, ec='white', color='purple')\n",
    "plt.title('Distribution of post word count')\n",
    "plt.xlabel('Post Word Count');"
   ]
  },
  {
   "cell_type": "code",
   "execution_count": 141,
   "metadata": {},
   "outputs": [
    {
     "data": {
      "text/plain": [
       "375"
      ]
     },
     "execution_count": 141,
     "metadata": {},
     "output_type": "execute_result"
    }
   ],
   "source": [
    "posts[posts['post_wc'] == 1]['selftext'].isnull().sum()"
   ]
  },
  {
   "cell_type": "code",
   "execution_count": 142,
   "metadata": {},
   "outputs": [
    {
     "data": {
      "text/plain": [
       "[deleted]                                                                                           137\n",
       "[removed]                                                                                            68\n",
       "[https://www.youtube.com/watch?v=aIZD9WFpWZo](https://www.youtube.com/watch?v=aIZD9WFpWZo)            2\n",
       "\\nhttps://open.spotify.com/album/1Pyd6mvlo3Ip3XvkKobUcv?si=q5Dl-TXyTO-Hlbo6O7WeqQ                     2\n",
       "\\nhttps://soundcloud.com/pstevenson/falling-in-love                                                   2\n",
       "                                                                                                   ... \n",
       " [https://www.youtube.com/watch?v=z7b3M5XCwP0](https://www.youtube.com/watch?v=z7b3M5XCwP0)           1\n",
       "[https://www.youtube.com/watch?v=qDuH\\_jWgEww](https://www.youtube.com/watch?v=qDuH_jWgEww)           1\n",
       "https://i.imgur.com/vSsqdVC_d.webp?maxwidth=640&amp;shape=thumb&amp;fidelity=medium                   1\n",
       "https://youtu.be/IL6Srf5E8NE                                                                          1\n",
       "[https://soundcloud.com/zacsalinger/pink-future](https://soundcloud.com/zacsalinger/pink-future)      1\n",
       "Name: selftext, Length: 232, dtype: int64"
      ]
     },
     "execution_count": 142,
     "metadata": {},
     "output_type": "execute_result"
    }
   ],
   "source": [
    "posts[posts['post_wc'] == 1]['selftext'].value_counts()"
   ]
  },
  {
   "cell_type": "markdown",
   "metadata": {},
   "source": [
    "Looks like the 1-word posts won't be particularly helpful. They seem to be either:\n",
    "* Non-existant (NaN)\n",
    "* Deleted/Removed\n",
    "* Links"
   ]
  },
  {
   "cell_type": "code",
   "execution_count": 143,
   "metadata": {},
   "outputs": [
    {
     "data": {
      "image/png": "[encoded data removed]",
      "text/plain": [
       "<Figure size 576x360 with 1 Axes>"
      ]
     },
     "metadata": {},
     "output_type": "display_data"
    }
   ],
   "source": [
    "link_count = []\n",
    "\n",
    "for i in range(1, 30):\n",
    "    link_count.append(posts[(posts['post_wc'] == i) & \n",
    "                            (posts['selftext'].str.contains('http'))]['selftext'].shape[0])\n",
    "    \n",
    "plt.figure(figsize=(8,5))\n",
    "style.use('ggplot')\n",
    "plt.bar(x=range(1, 30), height=link_count, color='darkred', ec='black')\n",
    "plt.xlabel('Post Length')\n",
    "plt.ylabel('Number of Posts')\n",
    "plt.title('Number of Posts containing Links by Word Count');"
   ]
  },
  {
   "cell_type": "markdown",
   "metadata": {},
   "source": [
    "Seems like the number of posts containing links drops off when the word count is above 5, so let's focus on only **posts with a word count above 5**"
   ]
  },
  {
   "cell_type": "code",
   "execution_count": 146,
   "metadata": {},
   "outputs": [],
   "source": [
    "posts_over_5_words = posts.copy()[posts['post_wc'] > 5] "
   ]
  },
  {
   "cell_type": "code",
   "execution_count": 148,
   "metadata": {},
   "outputs": [
    {
     "data": {
      "text/plain": [
       "subreddit\n",
       "poppunkers    44.0\n",
       "punk          49.0\n",
       "Name: post_wc, dtype: float64"
      ]
     },
     "execution_count": 148,
     "metadata": {},
     "output_type": "execute_result"
    }
   ],
   "source": [
    "posts_over_5_words.groupby('subreddit').median()['post_wc'] # Distribution is skewed right, so we're using median here as a measure of center"
   ]
  },
  {
   "cell_type": "code",
   "execution_count": 149,
   "metadata": {},
   "outputs": [
    {
     "data": {
      "text/plain": [
       "subreddit\n",
       "poppunkers    1916\n",
       "punk          1961\n",
       "Name: post_wc, dtype: int64"
      ]
     },
     "execution_count": 149,
     "metadata": {},
     "output_type": "execute_result"
    }
   ],
   "source": [
    "posts_over_5_words.groupby('subreddit').count()['post_wc'] # We've still got over 1000 posts from each subreddit after removing posts with less than 5 words. Let's keep going!"
   ]
  },
  {
   "cell_type": "markdown",
   "metadata": {},
   "source": [
    "### Now I want to see who the 'Power Users' are, and whether there are any bots in the subreddits"
   ]
  },
  {
   "cell_type": "code",
   "execution_count": 155,
   "metadata": {},
   "outputs": [
    {
     "data": {
      "text/plain": [
       "Psycho697186         47\n",
       "Char_97              35\n",
       "Neon_Dreamer_1997    24\n",
       "shwaz499             18\n",
       "mionestyles          17\n",
       "                     ..\n",
       "Seppa44               1\n",
       "Tutmosisderdritte     1\n",
       "lame_since_92         1\n",
       "hel_vetica            1\n",
       "miribecs              1\n",
       "Name: author, Length: 2736, dtype: int64"
      ]
     },
     "execution_count": 155,
     "metadata": {},
     "output_type": "execute_result"
    }
   ],
   "source": [
    "posts_over_5_words['author'].value_counts()"
   ]
  },
  {
   "cell_type": "markdown",
   "metadata": {},
   "source": [
    "I assume AutoModerator is not a person, but is--infact--an automated moderator. Let's make sure:"
   ]
  },
  {
   "cell_type": "code",
   "execution_count": 151,
   "metadata": {},
   "outputs": [],
   "source": [
    "automod_author = posts_over_5_words['author'] == 'AutoModerator'"
   ]
  },
  {
   "cell_type": "code",
   "execution_count": 152,
   "metadata": {},
   "outputs": [
    {
     "data": {
      "text/plain": [
       "63     What've you been listening to this week /r/pun...\n",
       "84     Here you'll be able to discuss things that are...\n",
       "170    What've you been listening to this week /r/pun...\n",
       "206    Here you'll be able to discuss things that are...\n",
       "290    What've you been listening to this week /r/pun...\n",
       "Name: selftext, dtype: object"
      ]
     },
     "execution_count": 152,
     "metadata": {},
     "output_type": "execute_result"
    }
   ],
   "source": [
    "posts_over_5_words[automod_author]['selftext'].head()"
   ]
  },
  {
   "cell_type": "markdown",
   "metadata": {},
   "source": [
    "Confirmed! It's a bot. Let's get rid of the bot."
   ]
  },
  {
   "cell_type": "code",
   "execution_count": 156,
   "metadata": {},
   "outputs": [],
   "source": [
    "posts_over_5_words = posts_over_5_words.loc[~automod_author, :]"
   ]
  },
  {
   "cell_type": "markdown",
   "metadata": {},
   "source": [
    "### How many unique users are there in each of the subreddits?"
   ]
  },
  {
   "cell_type": "code",
   "execution_count": 157,
   "metadata": {},
   "outputs": [],
   "source": [
    "punk_sr = posts_over_5_words['subreddit'] == 'punk'"
   ]
  },
  {
   "cell_type": "code",
   "execution_count": 165,
   "metadata": {},
   "outputs": [],
   "source": [
    "pop_punk_sr = posts_over_5_words['subreddit'] == 'poppunkers'"
   ]
  },
  {
   "cell_type": "code",
   "execution_count": 163,
   "metadata": {},
   "outputs": [
    {
     "data": {
      "text/plain": [
       "1481"
      ]
     },
     "execution_count": 163,
     "metadata": {},
     "output_type": "execute_result"
    }
   ],
   "source": [
    "len(posts_over_5_words[punk_sr]['author'].unique())"
   ]
  },
  {
   "cell_type": "code",
   "execution_count": 166,
   "metadata": {},
   "outputs": [
    {
     "data": {
      "text/plain": [
       "1297"
      ]
     },
     "execution_count": 166,
     "metadata": {},
     "output_type": "execute_result"
    }
   ],
   "source": [
    "len(posts_over_5_words[pop_punk_sr]['author'].unique())"
   ]
  },
  {
   "cell_type": "markdown",
   "metadata": {},
   "source": [
    "`/r/poppunkers` has less unique users than `/r/punk`, this makes sense because the `punk` subreddit has more overall users."
   ]
  }
 ],
 "metadata": {
  "kernelspec": {
   "display_name": "Python 3",
   "language": "python",
   "name": "python3"
  },
  "language_info": {
   "codemirror_mode": {
    "name": "ipython",
    "version": 3
   },
   "file_extension": ".py",
   "mimetype": "text/x-python",
   "name": "python",
   "nbconvert_exporter": "python",
   "pygments_lexer": "ipython3",
   "version": "3.7.7"
  }
 },
 "nbformat": 4,
 "nbformat_minor": 4
}
