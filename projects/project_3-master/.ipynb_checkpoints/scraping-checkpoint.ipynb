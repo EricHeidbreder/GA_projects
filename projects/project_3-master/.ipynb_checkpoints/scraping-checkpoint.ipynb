{
 "cells": [
  {
   "cell_type": "code",
   "execution_count": null,
   "metadata": {},
   "outputs": [],
   "source": [
    "import requests\n",
    "import time\n",
    "import pandas as pd\n",
    "import numpy as np"
   ]
  },
  {
   "cell_type": "code",
   "execution_count": 12,
   "metadata": {},
   "outputs": [],
   "source": [
    "def get_response(base_url, subreddit):\n",
    "    return requests.get(base_url)"
   ]
  },
  {
   "cell_type": "code",
   "execution_count": 37,
   "metadata": {},
   "outputs": [],
   "source": [
    "def get_submissions(subreddit_1, subreddit_2, num_posts):\n",
    "    base_url_1 = 'https://api.pushshift.io/reddit/search/submission?limit=100&is_self=true&subreddit=' + '{}'.format(subreddit_1)\n",
    "    base_url_2 = 'https://api.pushshift.io/reddit/search/submission?limit=100&is_self=true&subreddit=' + '{}'.format(subreddit_2)\n",
    "    posts = pd.DataFrame()\n",
    "    \n",
    "    while len(posts) < num_posts:\n",
    "        res = get_response(base_url_1, subreddit_1)\n",
    "        res_df = res.json()\n",
    "        \n",
    "        posts = posts.append([res_df['data'][i] for i in range(len(res_df['data']))])\n",
    "        base_url_1 = 'https://api.pushshift.io/reddit/search/submission?limit=100&is_self=true&subreddit=' + '{}'.format(subreddit_1) + '&before={}'.format(res_df['data'][99]['created_utc'])\n",
    "        time.sleep(4)\n",
    "        \n",
    "        if len(posts) % 200 == 0:\n",
    "            print(f'Pulling {num_posts} posts from subreddit {subreddit_1}.....{round((len(posts) / num_posts) * 100, 2)}% complete')\n",
    "    \n",
    "    print('----------------------------------')\n",
    "    print(f'Posts from subreddit '{subreddit_1}' complete, now pulling posts from')\n",
    "    print('----------------------------------')\n",
    "    \n",
    "    while len(posts) - num_posts < num_posts:\n",
    "        res = get_response(base_url_2, subreddit_2)\n",
    "        res_df = res.json()\n",
    "        \n",
    "        posts = posts.append([res_df['data'][i] for i in range(len(res_df['data']))])\n",
    "        base_url_2 = 'https://api.pushshift.io/reddit/search/submission?limit=100&is_self=true&subreddit=' + '{}'.format(subreddit_2) + '&before={}'.format(res_df['data'][99]['created_utc'])\n",
    "        time.sleep(4)\n",
    "        \n",
    "        if len(posts) % 200 == 0:\n",
    "            print(f'Pulling {num_posts} posts from subreddit {subreddit_2}.....{round(((len(posts) - num_posts) / num_posts) * 100, 2)}% complete')\n",
    "            \n",
    "    print('-----------------------')\n",
    "    print('Complete!!!!!!!!!!!')\n",
    "    return posts.reset_index(drop=True)"
   ]
  },
  {
   "cell_type": "code",
   "execution_count": 38,
   "metadata": {},
   "outputs": [
    {
     "name": "stdout",
     "output_type": "stream",
     "text": [
      "Pulling 1000 posts from subreddit punk.....20.0% complete\n",
      "Pulling 1000 posts from subreddit punk.....40.0% complete\n",
      "Pulling 1000 posts from subreddit punk.....60.0% complete\n",
      "Pulling 1000 posts from subreddit punk.....80.0% complete\n",
      "Pulling 1000 posts from subreddit punk.....100.0% complete\n",
      "Pulling 1000 posts from subreddit grunge.....0.2% complete\n",
      "Pulling 1000 posts from subreddit grunge.....0.4% complete\n",
      "Pulling 1000 posts from subreddit grunge.....0.6% complete\n",
      "Pulling 1000 posts from subreddit grunge.....0.8% complete\n",
      "Pulling 1000 posts from subreddit grunge.....1.0% complete\n"
     ]
    }
   ],
   "source": [
    "posts = get_submissions('punk', 'grunge', 1000)"
   ]
  },
  {
   "cell_type": "code",
   "execution_count": 43,
   "metadata": {},
   "outputs": [],
   "source": [
    "posts.to_csv('./data/reddit_data.csv', index=False)"
   ]
  },
  {
   "cell_type": "code",
   "execution_count": 45,
   "metadata": {},
   "outputs": [
    {
     "name": "stdout",
     "output_type": "stream",
     "text": [
      "<class 'pandas.core.frame.DataFrame'>\n",
      "RangeIndex: 2000 entries, 0 to 1999\n",
      "Data columns (total 83 columns):\n",
      " #   Column                         Non-Null Count  Dtype  \n",
      "---  ------                         --------------  -----  \n",
      " 0   all_awardings                  2000 non-null   object \n",
      " 1   allow_live_comments            1995 non-null   object \n",
      " 2   author                         2000 non-null   object \n",
      " 3   author_flair_css_class         27 non-null     object \n",
      " 4   author_flair_richtext          1955 non-null   object \n",
      " 5   author_flair_text              94 non-null     object \n",
      " 6   author_flair_type              1955 non-null   object \n",
      " 7   author_fullname                1955 non-null   object \n",
      " 8   author_patreon_flair           1955 non-null   object \n",
      " 9   author_premium                 1676 non-null   object \n",
      " 10  awarders                       1838 non-null   object \n",
      " 11  can_mod_post                   2000 non-null   bool   \n",
      " 12  contest_mode                   2000 non-null   bool   \n",
      " 13  created_utc                    2000 non-null   int64  \n",
      " 14  domain                         2000 non-null   object \n",
      " 15  full_link                      2000 non-null   object \n",
      " 16  gildings                       2000 non-null   object \n",
      " 17  id                             2000 non-null   object \n",
      " 18  is_crosspostable               2000 non-null   bool   \n",
      " 19  is_meta                        2000 non-null   bool   \n",
      " 20  is_original_content            2000 non-null   bool   \n",
      " 21  is_reddit_media_domain         2000 non-null   bool   \n",
      " 22  is_robot_indexable             2000 non-null   bool   \n",
      " 23  is_self                        2000 non-null   bool   \n",
      " 24  is_video                       2000 non-null   bool   \n",
      " 25  link_flair_background_color    2000 non-null   object \n",
      " 26  link_flair_css_class           298 non-null    object \n",
      " 27  link_flair_richtext            2000 non-null   object \n",
      " 28  link_flair_template_id         931 non-null    object \n",
      " 29  link_flair_text                931 non-null    object \n",
      " 30  link_flair_text_color          2000 non-null   object \n",
      " 31  link_flair_type                2000 non-null   object \n",
      " 32  locked                         2000 non-null   bool   \n",
      " 33  media_only                     2000 non-null   bool   \n",
      " 34  no_follow                      2000 non-null   bool   \n",
      " 35  num_comments                   2000 non-null   int64  \n",
      " 36  num_crossposts                 2000 non-null   int64  \n",
      " 37  over_18                        2000 non-null   bool   \n",
      " 38  parent_whitelist_status        1546 non-null   object \n",
      " 39  permalink                      2000 non-null   object \n",
      " 40  pinned                         2000 non-null   bool   \n",
      " 41  pwls                           1546 non-null   float64\n",
      " 42  retrieved_on                   2000 non-null   int64  \n",
      " 43  score                          2000 non-null   int64  \n",
      " 44  selftext                       1999 non-null   object \n",
      " 45  send_replies                   2000 non-null   bool   \n",
      " 46  spoiler                        2000 non-null   bool   \n",
      " 47  stickied                       2000 non-null   bool   \n",
      " 48  subreddit                      2000 non-null   object \n",
      " 49  subreddit_id                   2000 non-null   object \n",
      " 50  subreddit_subscribers          2000 non-null   int64  \n",
      " 51  subreddit_type                 2000 non-null   object \n",
      " 52  thumbnail                      2000 non-null   object \n",
      " 53  title                          2000 non-null   object \n",
      " 54  total_awards_received          2000 non-null   int64  \n",
      " 55  treatment_tags                 1444 non-null   object \n",
      " 56  upvote_ratio                   1357 non-null   float64\n",
      " 57  url                            2000 non-null   object \n",
      " 58  whitelist_status               1546 non-null   object \n",
      " 59  wls                            1546 non-null   float64\n",
      " 60  post_hint                      366 non-null    object \n",
      " 61  preview                        366 non-null    object \n",
      " 62  media_metadata                 55 non-null     object \n",
      " 63  thumbnail_height               57 non-null     float64\n",
      " 64  thumbnail_width                57 non-null     float64\n",
      " 65  author_flair_template_id       102 non-null    object \n",
      " 66  author_flair_text_color        165 non-null    object \n",
      " 67  distinguished                  21 non-null     object \n",
      " 68  author_flair_background_color  154 non-null    object \n",
      " 69  poll_data                      55 non-null     object \n",
      " 70  removed_by_category            133 non-null    object \n",
      " 71  edited                         23 non-null     float64\n",
      " 72  author_cakeday                 4 non-null      object \n",
      " 73  banned_by                      1 non-null      object \n",
      " 74  steward_reports                244 non-null    object \n",
      " 75  removed_by                     3 non-null      object \n",
      " 76  media                          2 non-null      object \n",
      " 77  media_embed                    2 non-null      object \n",
      " 78  secure_media                   2 non-null      object \n",
      " 79  secure_media_embed             2 non-null      object \n",
      " 80  updated_utc                    233 non-null    float64\n",
      " 81  og_description                 12 non-null     object \n",
      " 82  og_title                       12 non-null     object \n",
      "dtypes: bool(17), float64(7), int64(7), object(52)\n",
      "memory usage: 1.0+ MB\n"
     ]
    }
   ],
   "source": [
    "posts.info()"
   ]
  },
  {
   "cell_type": "code",
   "execution_count": null,
   "metadata": {},
   "outputs": [],
   "source": []
  }
 ],
 "metadata": {
  "kernelspec": {
   "display_name": "Python 3",
   "language": "python",
   "name": "python3"
  },
  "language_info": {
   "codemirror_mode": {
    "name": "ipython",
    "version": 3
   },
   "file_extension": ".py",
   "mimetype": "text/x-python",
   "name": "python",
   "nbconvert_exporter": "python",
   "pygments_lexer": "ipython3",
   "version": "3.7.7"
  }
 },
 "nbformat": 4,
 "nbformat_minor": 4
}
